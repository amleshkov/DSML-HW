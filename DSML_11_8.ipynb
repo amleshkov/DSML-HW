{
  "nbformat": 4,
  "nbformat_minor": 0,
  "metadata": {
    "colab": {
      "provenance": []
    },
    "kernelspec": {
      "name": "python3",
      "display_name": "Python 3"
    },
    "language_info": {
      "name": "python"
    }
  },
  "cells": [
    {
      "cell_type": "markdown",
      "source": [
        "# Домашнее задание к лекции «Feature Selection» обновленное\n"
      ],
      "metadata": {
        "id": "z3thieMKHfcX"
      }
    },
    {
      "cell_type": "code",
      "execution_count": 203,
      "metadata": {
        "id": "qVtVDYctovmG"
      },
      "outputs": [],
      "source": [
        "import numpy as np\n",
        "import seaborn as sns\n",
        "import pandas as pd\n",
        "import matplotlib.pyplot as plt\n",
        "\n",
        "from warnings import filterwarnings\n",
        "from sklearn.datasets import make_classification\n",
        "from sklearn.linear_model import LogisticRegression\n",
        "from sklearn.model_selection import cross_val_score\n",
        "from sklearn.feature_selection import VarianceThreshold, SelectKBest, SelectFromModel, SequentialFeatureSelector\n",
        "from sklearn.ensemble import RandomForestClassifier\n"
      ]
    },
    {
      "cell_type": "code",
      "source": [
        "filterwarnings('ignore')\n",
        "X, y = make_classification(scale=2, random_state=1)\n",
        "X = pd.DataFrame(X)"
      ],
      "metadata": {
        "id": "C9LmdMuqpIAg"
      },
      "execution_count": 7,
      "outputs": []
    },
    {
      "cell_type": "code",
      "source": [
        "y = pd.Series(y)\n",
        "data = X.copy()\n",
        "data['target'] = y"
      ],
      "metadata": {
        "id": "EVGPuRqKpWXz"
      },
      "execution_count": 8,
      "outputs": []
    },
    {
      "cell_type": "markdown",
      "source": [
        "Посмотрим на статистику"
      ],
      "metadata": {
        "id": "0og5x1wAHoDC"
      }
    },
    {
      "cell_type": "code",
      "source": [
        "data.describe()"
      ],
      "metadata": {
        "colab": {
          "base_uri": "https://localhost:8080/",
          "height": 394
        },
        "id": "R1Ja1kBEHrIl",
        "outputId": "34b58afc-d7eb-4bb3-87d7-fd3a396ecdea"
      },
      "execution_count": 10,
      "outputs": [
        {
          "output_type": "execute_result",
          "data": {
            "text/plain": [
              "                0           1           2           3           4           5  \\\n",
              "count  100.000000  100.000000  100.000000  100.000000  100.000000  100.000000   \n",
              "mean     0.106292   -0.125528    0.098899    0.420966   -0.194496   -0.120524   \n",
              "std      2.604351    2.077619    2.304714    1.765511    1.962030    1.799992   \n",
              "min     -6.107529   -3.323073   -6.032064   -4.996425   -4.341422   -3.158427   \n",
              "25%     -1.660246   -1.940735   -1.000003   -0.963414   -1.405393   -1.493535   \n",
              "50%      0.051231   -0.853955    0.116349    0.451739   -0.299786   -0.405400   \n",
              "75%      1.953792    1.761621    1.682523    1.417526    1.186044    1.529862   \n",
              "max      6.642158    4.299141    6.865327    4.275656    4.460548    4.514163   \n",
              "\n",
              "                6           7           8           9  ...          11  \\\n",
              "count  100.000000  100.000000  100.000000  100.000000  ...  100.000000   \n",
              "mean    -0.040775    0.138153   -0.162614    0.071915  ...    0.070438   \n",
              "std      1.906767    2.083563    1.981947    1.951474  ...    1.997202   \n",
              "min     -4.658082   -3.887844   -6.306715   -4.865017  ...   -5.328252   \n",
              "25%     -1.047067   -1.410518   -1.365481   -1.429926  ...   -1.086683   \n",
              "50%     -0.009303    0.071489   -0.405688   -0.018980  ...    0.590830   \n",
              "75%      1.218774    1.480281    0.964871    1.474952  ...    1.294526   \n",
              "max      5.011961    6.061714    4.857754    4.848613  ...    4.227648   \n",
              "\n",
              "               12          13          14          15          16          17  \\\n",
              "count  100.000000  100.000000  100.000000  100.000000  100.000000  100.000000   \n",
              "mean     0.541000   -0.104833   -0.026981    0.054184    0.033753    0.395566   \n",
              "std      2.058515    2.289527    2.167688    1.904030    1.972951    1.892112   \n",
              "min     -5.565069   -3.579248   -3.032987   -4.228328   -5.396723   -5.581993   \n",
              "25%     -0.887931   -2.138579   -2.277239   -1.250189   -1.071238   -0.860907   \n",
              "50%      0.566656   -0.329185   -0.118824   -0.034969    0.116758    0.319909   \n",
              "75%      1.880468    1.811763    1.728037    1.471085    1.082145    1.705192   \n",
              "max      5.654600    6.349250    5.567724    4.059995    5.423900    7.917205   \n",
              "\n",
              "               18          19      target  \n",
              "count  100.000000  100.000000  100.000000  \n",
              "mean    -0.085381   -0.037155    0.490000  \n",
              "std      2.014184    1.933842    0.502418  \n",
              "min     -4.827006   -4.554596    0.000000  \n",
              "25%     -1.670986   -1.556129    0.000000  \n",
              "50%      0.013780   -0.198892    0.000000  \n",
              "75%      1.475593    1.353272    1.000000  \n",
              "max      4.780292    4.431687    1.000000  \n",
              "\n",
              "[8 rows x 21 columns]"
            ],
            "text/html": [
              "\n",
              "  <div id=\"df-e32cc33e-532a-46cd-860a-7f4ac5198ea8\">\n",
              "    <div class=\"colab-df-container\">\n",
              "      <div>\n",
              "<style scoped>\n",
              "    .dataframe tbody tr th:only-of-type {\n",
              "        vertical-align: middle;\n",
              "    }\n",
              "\n",
              "    .dataframe tbody tr th {\n",
              "        vertical-align: top;\n",
              "    }\n",
              "\n",
              "    .dataframe thead th {\n",
              "        text-align: right;\n",
              "    }\n",
              "</style>\n",
              "<table border=\"1\" class=\"dataframe\">\n",
              "  <thead>\n",
              "    <tr style=\"text-align: right;\">\n",
              "      <th></th>\n",
              "      <th>0</th>\n",
              "      <th>1</th>\n",
              "      <th>2</th>\n",
              "      <th>3</th>\n",
              "      <th>4</th>\n",
              "      <th>5</th>\n",
              "      <th>6</th>\n",
              "      <th>7</th>\n",
              "      <th>8</th>\n",
              "      <th>9</th>\n",
              "      <th>...</th>\n",
              "      <th>11</th>\n",
              "      <th>12</th>\n",
              "      <th>13</th>\n",
              "      <th>14</th>\n",
              "      <th>15</th>\n",
              "      <th>16</th>\n",
              "      <th>17</th>\n",
              "      <th>18</th>\n",
              "      <th>19</th>\n",
              "      <th>target</th>\n",
              "    </tr>\n",
              "  </thead>\n",
              "  <tbody>\n",
              "    <tr>\n",
              "      <th>count</th>\n",
              "      <td>100.000000</td>\n",
              "      <td>100.000000</td>\n",
              "      <td>100.000000</td>\n",
              "      <td>100.000000</td>\n",
              "      <td>100.000000</td>\n",
              "      <td>100.000000</td>\n",
              "      <td>100.000000</td>\n",
              "      <td>100.000000</td>\n",
              "      <td>100.000000</td>\n",
              "      <td>100.000000</td>\n",
              "      <td>...</td>\n",
              "      <td>100.000000</td>\n",
              "      <td>100.000000</td>\n",
              "      <td>100.000000</td>\n",
              "      <td>100.000000</td>\n",
              "      <td>100.000000</td>\n",
              "      <td>100.000000</td>\n",
              "      <td>100.000000</td>\n",
              "      <td>100.000000</td>\n",
              "      <td>100.000000</td>\n",
              "      <td>100.000000</td>\n",
              "    </tr>\n",
              "    <tr>\n",
              "      <th>mean</th>\n",
              "      <td>0.106292</td>\n",
              "      <td>-0.125528</td>\n",
              "      <td>0.098899</td>\n",
              "      <td>0.420966</td>\n",
              "      <td>-0.194496</td>\n",
              "      <td>-0.120524</td>\n",
              "      <td>-0.040775</td>\n",
              "      <td>0.138153</td>\n",
              "      <td>-0.162614</td>\n",
              "      <td>0.071915</td>\n",
              "      <td>...</td>\n",
              "      <td>0.070438</td>\n",
              "      <td>0.541000</td>\n",
              "      <td>-0.104833</td>\n",
              "      <td>-0.026981</td>\n",
              "      <td>0.054184</td>\n",
              "      <td>0.033753</td>\n",
              "      <td>0.395566</td>\n",
              "      <td>-0.085381</td>\n",
              "      <td>-0.037155</td>\n",
              "      <td>0.490000</td>\n",
              "    </tr>\n",
              "    <tr>\n",
              "      <th>std</th>\n",
              "      <td>2.604351</td>\n",
              "      <td>2.077619</td>\n",
              "      <td>2.304714</td>\n",
              "      <td>1.765511</td>\n",
              "      <td>1.962030</td>\n",
              "      <td>1.799992</td>\n",
              "      <td>1.906767</td>\n",
              "      <td>2.083563</td>\n",
              "      <td>1.981947</td>\n",
              "      <td>1.951474</td>\n",
              "      <td>...</td>\n",
              "      <td>1.997202</td>\n",
              "      <td>2.058515</td>\n",
              "      <td>2.289527</td>\n",
              "      <td>2.167688</td>\n",
              "      <td>1.904030</td>\n",
              "      <td>1.972951</td>\n",
              "      <td>1.892112</td>\n",
              "      <td>2.014184</td>\n",
              "      <td>1.933842</td>\n",
              "      <td>0.502418</td>\n",
              "    </tr>\n",
              "    <tr>\n",
              "      <th>min</th>\n",
              "      <td>-6.107529</td>\n",
              "      <td>-3.323073</td>\n",
              "      <td>-6.032064</td>\n",
              "      <td>-4.996425</td>\n",
              "      <td>-4.341422</td>\n",
              "      <td>-3.158427</td>\n",
              "      <td>-4.658082</td>\n",
              "      <td>-3.887844</td>\n",
              "      <td>-6.306715</td>\n",
              "      <td>-4.865017</td>\n",
              "      <td>...</td>\n",
              "      <td>-5.328252</td>\n",
              "      <td>-5.565069</td>\n",
              "      <td>-3.579248</td>\n",
              "      <td>-3.032987</td>\n",
              "      <td>-4.228328</td>\n",
              "      <td>-5.396723</td>\n",
              "      <td>-5.581993</td>\n",
              "      <td>-4.827006</td>\n",
              "      <td>-4.554596</td>\n",
              "      <td>0.000000</td>\n",
              "    </tr>\n",
              "    <tr>\n",
              "      <th>25%</th>\n",
              "      <td>-1.660246</td>\n",
              "      <td>-1.940735</td>\n",
              "      <td>-1.000003</td>\n",
              "      <td>-0.963414</td>\n",
              "      <td>-1.405393</td>\n",
              "      <td>-1.493535</td>\n",
              "      <td>-1.047067</td>\n",
              "      <td>-1.410518</td>\n",
              "      <td>-1.365481</td>\n",
              "      <td>-1.429926</td>\n",
              "      <td>...</td>\n",
              "      <td>-1.086683</td>\n",
              "      <td>-0.887931</td>\n",
              "      <td>-2.138579</td>\n",
              "      <td>-2.277239</td>\n",
              "      <td>-1.250189</td>\n",
              "      <td>-1.071238</td>\n",
              "      <td>-0.860907</td>\n",
              "      <td>-1.670986</td>\n",
              "      <td>-1.556129</td>\n",
              "      <td>0.000000</td>\n",
              "    </tr>\n",
              "    <tr>\n",
              "      <th>50%</th>\n",
              "      <td>0.051231</td>\n",
              "      <td>-0.853955</td>\n",
              "      <td>0.116349</td>\n",
              "      <td>0.451739</td>\n",
              "      <td>-0.299786</td>\n",
              "      <td>-0.405400</td>\n",
              "      <td>-0.009303</td>\n",
              "      <td>0.071489</td>\n",
              "      <td>-0.405688</td>\n",
              "      <td>-0.018980</td>\n",
              "      <td>...</td>\n",
              "      <td>0.590830</td>\n",
              "      <td>0.566656</td>\n",
              "      <td>-0.329185</td>\n",
              "      <td>-0.118824</td>\n",
              "      <td>-0.034969</td>\n",
              "      <td>0.116758</td>\n",
              "      <td>0.319909</td>\n",
              "      <td>0.013780</td>\n",
              "      <td>-0.198892</td>\n",
              "      <td>0.000000</td>\n",
              "    </tr>\n",
              "    <tr>\n",
              "      <th>75%</th>\n",
              "      <td>1.953792</td>\n",
              "      <td>1.761621</td>\n",
              "      <td>1.682523</td>\n",
              "      <td>1.417526</td>\n",
              "      <td>1.186044</td>\n",
              "      <td>1.529862</td>\n",
              "      <td>1.218774</td>\n",
              "      <td>1.480281</td>\n",
              "      <td>0.964871</td>\n",
              "      <td>1.474952</td>\n",
              "      <td>...</td>\n",
              "      <td>1.294526</td>\n",
              "      <td>1.880468</td>\n",
              "      <td>1.811763</td>\n",
              "      <td>1.728037</td>\n",
              "      <td>1.471085</td>\n",
              "      <td>1.082145</td>\n",
              "      <td>1.705192</td>\n",
              "      <td>1.475593</td>\n",
              "      <td>1.353272</td>\n",
              "      <td>1.000000</td>\n",
              "    </tr>\n",
              "    <tr>\n",
              "      <th>max</th>\n",
              "      <td>6.642158</td>\n",
              "      <td>4.299141</td>\n",
              "      <td>6.865327</td>\n",
              "      <td>4.275656</td>\n",
              "      <td>4.460548</td>\n",
              "      <td>4.514163</td>\n",
              "      <td>5.011961</td>\n",
              "      <td>6.061714</td>\n",
              "      <td>4.857754</td>\n",
              "      <td>4.848613</td>\n",
              "      <td>...</td>\n",
              "      <td>4.227648</td>\n",
              "      <td>5.654600</td>\n",
              "      <td>6.349250</td>\n",
              "      <td>5.567724</td>\n",
              "      <td>4.059995</td>\n",
              "      <td>5.423900</td>\n",
              "      <td>7.917205</td>\n",
              "      <td>4.780292</td>\n",
              "      <td>4.431687</td>\n",
              "      <td>1.000000</td>\n",
              "    </tr>\n",
              "  </tbody>\n",
              "</table>\n",
              "<p>8 rows × 21 columns</p>\n",
              "</div>\n",
              "      <button class=\"colab-df-convert\" onclick=\"convertToInteractive('df-e32cc33e-532a-46cd-860a-7f4ac5198ea8')\"\n",
              "              title=\"Convert this dataframe to an interactive table.\"\n",
              "              style=\"display:none;\">\n",
              "        \n",
              "  <svg xmlns=\"http://www.w3.org/2000/svg\" height=\"24px\"viewBox=\"0 0 24 24\"\n",
              "       width=\"24px\">\n",
              "    <path d=\"M0 0h24v24H0V0z\" fill=\"none\"/>\n",
              "    <path d=\"M18.56 5.44l.94 2.06.94-2.06 2.06-.94-2.06-.94-.94-2.06-.94 2.06-2.06.94zm-11 1L8.5 8.5l.94-2.06 2.06-.94-2.06-.94L8.5 2.5l-.94 2.06-2.06.94zm10 10l.94 2.06.94-2.06 2.06-.94-2.06-.94-.94-2.06-.94 2.06-2.06.94z\"/><path d=\"M17.41 7.96l-1.37-1.37c-.4-.4-.92-.59-1.43-.59-.52 0-1.04.2-1.43.59L10.3 9.45l-7.72 7.72c-.78.78-.78 2.05 0 2.83L4 21.41c.39.39.9.59 1.41.59.51 0 1.02-.2 1.41-.59l7.78-7.78 2.81-2.81c.8-.78.8-2.07 0-2.86zM5.41 20L4 18.59l7.72-7.72 1.47 1.35L5.41 20z\"/>\n",
              "  </svg>\n",
              "      </button>\n",
              "      \n",
              "  <style>\n",
              "    .colab-df-container {\n",
              "      display:flex;\n",
              "      flex-wrap:wrap;\n",
              "      gap: 12px;\n",
              "    }\n",
              "\n",
              "    .colab-df-convert {\n",
              "      background-color: #E8F0FE;\n",
              "      border: none;\n",
              "      border-radius: 50%;\n",
              "      cursor: pointer;\n",
              "      display: none;\n",
              "      fill: #1967D2;\n",
              "      height: 32px;\n",
              "      padding: 0 0 0 0;\n",
              "      width: 32px;\n",
              "    }\n",
              "\n",
              "    .colab-df-convert:hover {\n",
              "      background-color: #E2EBFA;\n",
              "      box-shadow: 0px 1px 2px rgba(60, 64, 67, 0.3), 0px 1px 3px 1px rgba(60, 64, 67, 0.15);\n",
              "      fill: #174EA6;\n",
              "    }\n",
              "\n",
              "    [theme=dark] .colab-df-convert {\n",
              "      background-color: #3B4455;\n",
              "      fill: #D2E3FC;\n",
              "    }\n",
              "\n",
              "    [theme=dark] .colab-df-convert:hover {\n",
              "      background-color: #434B5C;\n",
              "      box-shadow: 0px 1px 3px 1px rgba(0, 0, 0, 0.15);\n",
              "      filter: drop-shadow(0px 1px 2px rgba(0, 0, 0, 0.3));\n",
              "      fill: #FFFFFF;\n",
              "    }\n",
              "  </style>\n",
              "\n",
              "      <script>\n",
              "        const buttonEl =\n",
              "          document.querySelector('#df-e32cc33e-532a-46cd-860a-7f4ac5198ea8 button.colab-df-convert');\n",
              "        buttonEl.style.display =\n",
              "          google.colab.kernel.accessAllowed ? 'block' : 'none';\n",
              "\n",
              "        async function convertToInteractive(key) {\n",
              "          const element = document.querySelector('#df-e32cc33e-532a-46cd-860a-7f4ac5198ea8');\n",
              "          const dataTable =\n",
              "            await google.colab.kernel.invokeFunction('convertToInteractive',\n",
              "                                                     [key], {});\n",
              "          if (!dataTable) return;\n",
              "\n",
              "          const docLinkHtml = 'Like what you see? Visit the ' +\n",
              "            '<a target=\"_blank\" href=https://colab.research.google.com/notebooks/data_table.ipynb>data table notebook</a>'\n",
              "            + ' to learn more about interactive tables.';\n",
              "          element.innerHTML = '';\n",
              "          dataTable['output_type'] = 'display_data';\n",
              "          await google.colab.output.renderOutput(dataTable, element);\n",
              "          const docLink = document.createElement('div');\n",
              "          docLink.innerHTML = docLinkHtml;\n",
              "          element.appendChild(docLink);\n",
              "        }\n",
              "      </script>\n",
              "    </div>\n",
              "  </div>\n",
              "  "
            ]
          },
          "metadata": {},
          "execution_count": 10
        }
      ]
    },
    {
      "cell_type": "markdown",
      "source": [
        "Результат базовой модели логистической регресии"
      ],
      "metadata": {
        "id": "DL1DGY2CH-bF"
      }
    },
    {
      "cell_type": "code",
      "source": [
        "cross_val_score(LogisticRegression(), X, y, scoring='accuracy').mean()"
      ],
      "metadata": {
        "colab": {
          "base_uri": "https://localhost:8080/"
        },
        "id": "-fhicYkCprYn",
        "outputId": "ac11d1d3-2fda-4e74-f3b0-f60d842c8b3a"
      },
      "execution_count": 83,
      "outputs": [
        {
          "output_type": "execute_result",
          "data": {
            "text/plain": [
              "0.9"
            ]
          },
          "metadata": {},
          "execution_count": 83
        }
      ]
    },
    {
      "cell_type": "markdown",
      "source": [
        "### Статистические методы отбора признаков\n",
        "Матрица корреляции"
      ],
      "metadata": {
        "id": "aKl00N3uHeiT"
      }
    },
    {
      "cell_type": "code",
      "source": [
        "plt.rcParams['figure.figsize'] = 20,20\n",
        "\n",
        "sns.heatmap(data.corr(), cmap=\"Reds\", annot=True)"
      ],
      "metadata": {
        "colab": {
          "base_uri": "https://localhost:8080/",
          "height": 1000
        },
        "id": "H6JxapKVpi7Y",
        "outputId": "f67d07ff-dab5-4056-f11e-01aa6823f0da"
      },
      "execution_count": 9,
      "outputs": [
        {
          "output_type": "execute_result",
          "data": {
            "text/plain": [
              "<matplotlib.axes._subplots.AxesSubplot at 0x7f038f49c510>"
            ]
          },
          "metadata": {},
          "execution_count": 9
        },
        {
          "output_type": "display_data",
          "data": {
            "text/plain": [
              "<Figure size 1440x1440 with 2 Axes>"
            ],
            "image/png": "[encoded data removed]"
          },
          "metadata": {
            "needs_background": "light"
          }
        }
      ]
    },
    {
      "cell_type": "markdown",
      "source": [
        "Видим сильную корреляцию между признаками 5-13, 5-14, 1-14, 13-14\n",
        "\n",
        "Признаки 1, 14 имеют сильную корреляцию с целевой перемнной, их удалять не будем\n",
        "\n",
        "Удалим признаки 5, 13\n"
      ],
      "metadata": {
        "id": "PF98-S9tIOse"
      }
    },
    {
      "cell_type": "code",
      "source": [
        "X_tmp= X.drop([5,13], axis=1)\n"
      ],
      "metadata": {
        "id": "8sUSW7RAwTY4"
      },
      "execution_count": 14,
      "outputs": []
    },
    {
      "cell_type": "markdown",
      "source": [
        "Проверим качество модели"
      ],
      "metadata": {
        "id": "KHbgAvrRfudm"
      }
    },
    {
      "cell_type": "code",
      "source": [
        "cross_val_score(LogisticRegression(), X, y, scoring='accuracy').mean()"
      ],
      "metadata": {
        "colab": {
          "base_uri": "https://localhost:8080/"
        },
        "id": "NkZGrq91fykt",
        "outputId": "14a02a37-e6dc-4698-f37d-4228f28f68a3"
      },
      "execution_count": 208,
      "outputs": [
        {
          "output_type": "execute_result",
          "data": {
            "text/plain": [
              "0.9"
            ]
          },
          "metadata": {},
          "execution_count": 208
        }
      ]
    },
    {
      "cell_type": "markdown",
      "source": [
        "Удалим признаки с низкой вариантивностью\n",
        "threshold подобран наугад"
      ],
      "metadata": {
        "id": "_cDwSFFvJmI4"
      }
    },
    {
      "cell_type": "code",
      "source": [
        "selector = VarianceThreshold(threshold=3.6)"
      ],
      "metadata": {
        "id": "3R-PQaMFJM5m"
      },
      "execution_count": 209,
      "outputs": []
    },
    {
      "cell_type": "code",
      "source": [
        "X_tmp = selector.fit_transform(X)"
      ],
      "metadata": {
        "id": "tdKre6XjJbKw"
      },
      "execution_count": 210,
      "outputs": []
    },
    {
      "cell_type": "code",
      "source": [
        "np.shape(X_tmp)"
      ],
      "metadata": {
        "colab": {
          "base_uri": "https://localhost:8080/"
        },
        "id": "OqMXfKX-KM8A",
        "outputId": "205b8490-9183-4cb9-9dd3-26c7fd070d5f"
      },
      "execution_count": 211,
      "outputs": [
        {
          "output_type": "execute_result",
          "data": {
            "text/plain": [
              "(100, 15)"
            ]
          },
          "metadata": {},
          "execution_count": 211
        }
      ]
    },
    {
      "cell_type": "markdown",
      "source": [
        "Признаки, оставленные после преобразования"
      ],
      "metadata": {
        "id": "cXHgM2TMP0Qo"
      }
    },
    {
      "cell_type": "code",
      "source": [
        "selector.get_feature_names_out()"
      ],
      "metadata": {
        "colab": {
          "base_uri": "https://localhost:8080/"
        },
        "id": "QHTAWgVUKV8g",
        "outputId": "d6042a1a-fb38-4979-f516-3ca46b0d5625"
      },
      "execution_count": 212,
      "outputs": [
        {
          "output_type": "execute_result",
          "data": {
            "text/plain": [
              "array(['x0', 'x1', 'x2', 'x4', 'x7', 'x8', 'x9', 'x10', 'x11', 'x12',\n",
              "       'x13', 'x14', 'x16', 'x18', 'x19'], dtype=object)"
            ]
          },
          "metadata": {},
          "execution_count": 212
        }
      ]
    },
    {
      "cell_type": "code",
      "source": [
        "X_tmp = pd.DataFrame(X_tmp, columns=selector.get_feature_names_out())"
      ],
      "metadata": {
        "id": "kslbQDjYKkZm"
      },
      "execution_count": 213,
      "outputs": []
    },
    {
      "cell_type": "code",
      "source": [
        "X_tmp.head()"
      ],
      "metadata": {
        "colab": {
          "base_uri": "https://localhost:8080/",
          "height": 206
        },
        "id": "KqA_Z4HdOSQ9",
        "outputId": "86f73fb8-ae1b-4bb0-a5e6-db80235da57e"
      },
      "execution_count": 214,
      "outputs": [
        {
          "output_type": "execute_result",
          "data": {
            "text/plain": [
              "         x0        x1        x2        x4        x7        x8        x9  \\\n",
              "0  1.213097  1.633915  2.102642 -0.919435  0.100634  3.410967  2.835348   \n",
              "1 -6.107529  1.842324 -2.916649  1.224465  0.797197  1.489769 -1.998853   \n",
              "2  1.212808  1.361291  2.042496  1.345239  1.198426  4.857754  1.350908   \n",
              "3  3.233899 -3.031896  4.898737  0.485339  2.815080  0.403660 -0.869913   \n",
              "4 -1.656295 -3.138347  3.525218  2.255503 -1.964322  0.100586  1.116528   \n",
              "\n",
              "        x10       x11       x12       x13       x14       x16       x18  \\\n",
              "0 -1.474579  0.619634  1.556348 -2.249574 -2.567865  0.189992  0.329330   \n",
              "1  0.959705 -1.922527  1.156929 -2.140415 -2.575481  0.988683 -3.105398   \n",
              "2  4.587435 -0.429308 -2.039040 -2.408805 -2.571180  1.049501 -1.660022   \n",
              "3  1.005482 -2.439489  0.218805 -0.049763  1.353217 -1.091548  3.117611   \n",
              "4 -0.221457  1.361958 -0.949180 -1.081096  0.569148 -0.715028 -0.858772   \n",
              "\n",
              "        x19  \n",
              "0 -1.535607  \n",
              "1 -0.893398  \n",
              "2 -0.071980  \n",
              "3 -1.400797  \n",
              "4 -0.710827  "
            ],
            "text/html": [
              "\n",
              "  <div id=\"df-6340b4a7-bb66-49a6-bc9c-eca695c3c66e\">\n",
              "    <div class=\"colab-df-container\">\n",
              "      <div>\n",
              "<style scoped>\n",
              "    .dataframe tbody tr th:only-of-type {\n",
              "        vertical-align: middle;\n",
              "    }\n",
              "\n",
              "    .dataframe tbody tr th {\n",
              "        vertical-align: top;\n",
              "    }\n",
              "\n",
              "    .dataframe thead th {\n",
              "        text-align: right;\n",
              "    }\n",
              "</style>\n",
              "<table border=\"1\" class=\"dataframe\">\n",
              "  <thead>\n",
              "    <tr style=\"text-align: right;\">\n",
              "      <th></th>\n",
              "      <th>x0</th>\n",
              "      <th>x1</th>\n",
              "      <th>x2</th>\n",
              "      <th>x4</th>\n",
              "      <th>x7</th>\n",
              "      <th>x8</th>\n",
              "      <th>x9</th>\n",
              "      <th>x10</th>\n",
              "      <th>x11</th>\n",
              "      <th>x12</th>\n",
              "      <th>x13</th>\n",
              "      <th>x14</th>\n",
              "      <th>x16</th>\n",
              "      <th>x18</th>\n",
              "      <th>x19</th>\n",
              "    </tr>\n",
              "  </thead>\n",
              "  <tbody>\n",
              "    <tr>\n",
              "      <th>0</th>\n",
              "      <td>1.213097</td>\n",
              "      <td>1.633915</td>\n",
              "      <td>2.102642</td>\n",
              "      <td>-0.919435</td>\n",
              "      <td>0.100634</td>\n",
              "      <td>3.410967</td>\n",
              "      <td>2.835348</td>\n",
              "      <td>-1.474579</td>\n",
              "      <td>0.619634</td>\n",
              "      <td>1.556348</td>\n",
              "      <td>-2.249574</td>\n",
              "      <td>-2.567865</td>\n",
              "      <td>0.189992</td>\n",
              "      <td>0.329330</td>\n",
              "      <td>-1.535607</td>\n",
              "    </tr>\n",
              "    <tr>\n",
              "      <th>1</th>\n",
              "      <td>-6.107529</td>\n",
              "      <td>1.842324</td>\n",
              "      <td>-2.916649</td>\n",
              "      <td>1.224465</td>\n",
              "      <td>0.797197</td>\n",
              "      <td>1.489769</td>\n",
              "      <td>-1.998853</td>\n",
              "      <td>0.959705</td>\n",
              "      <td>-1.922527</td>\n",
              "      <td>1.156929</td>\n",
              "      <td>-2.140415</td>\n",
              "      <td>-2.575481</td>\n",
              "      <td>0.988683</td>\n",
              "      <td>-3.105398</td>\n",
              "      <td>-0.893398</td>\n",
              "    </tr>\n",
              "    <tr>\n",
              "      <th>2</th>\n",
              "      <td>1.212808</td>\n",
              "      <td>1.361291</td>\n",
              "      <td>2.042496</td>\n",
              "      <td>1.345239</td>\n",
              "      <td>1.198426</td>\n",
              "      <td>4.857754</td>\n",
              "      <td>1.350908</td>\n",
              "      <td>4.587435</td>\n",
              "      <td>-0.429308</td>\n",
              "      <td>-2.039040</td>\n",
              "      <td>-2.408805</td>\n",
              "      <td>-2.571180</td>\n",
              "      <td>1.049501</td>\n",
              "      <td>-1.660022</td>\n",
              "      <td>-0.071980</td>\n",
              "    </tr>\n",
              "    <tr>\n",
              "      <th>3</th>\n",
              "      <td>3.233899</td>\n",
              "      <td>-3.031896</td>\n",
              "      <td>4.898737</td>\n",
              "      <td>0.485339</td>\n",
              "      <td>2.815080</td>\n",
              "      <td>0.403660</td>\n",
              "      <td>-0.869913</td>\n",
              "      <td>1.005482</td>\n",
              "      <td>-2.439489</td>\n",
              "      <td>0.218805</td>\n",
              "      <td>-0.049763</td>\n",
              "      <td>1.353217</td>\n",
              "      <td>-1.091548</td>\n",
              "      <td>3.117611</td>\n",
              "      <td>-1.400797</td>\n",
              "    </tr>\n",
              "    <tr>\n",
              "      <th>4</th>\n",
              "      <td>-1.656295</td>\n",
              "      <td>-3.138347</td>\n",
              "      <td>3.525218</td>\n",
              "      <td>2.255503</td>\n",
              "      <td>-1.964322</td>\n",
              "      <td>0.100586</td>\n",
              "      <td>1.116528</td>\n",
              "      <td>-0.221457</td>\n",
              "      <td>1.361958</td>\n",
              "      <td>-0.949180</td>\n",
              "      <td>-1.081096</td>\n",
              "      <td>0.569148</td>\n",
              "      <td>-0.715028</td>\n",
              "      <td>-0.858772</td>\n",
              "      <td>-0.710827</td>\n",
              "    </tr>\n",
              "  </tbody>\n",
              "</table>\n",
              "</div>\n",
              "      <button class=\"colab-df-convert\" onclick=\"convertToInteractive('df-6340b4a7-bb66-49a6-bc9c-eca695c3c66e')\"\n",
              "              title=\"Convert this dataframe to an interactive table.\"\n",
              "              style=\"display:none;\">\n",
              "        \n",
              "  <svg xmlns=\"http://www.w3.org/2000/svg\" height=\"24px\"viewBox=\"0 0 24 24\"\n",
              "       width=\"24px\">\n",
              "    <path d=\"M0 0h24v24H0V0z\" fill=\"none\"/>\n",
              "    <path d=\"M18.56 5.44l.94 2.06.94-2.06 2.06-.94-2.06-.94-.94-2.06-.94 2.06-2.06.94zm-11 1L8.5 8.5l.94-2.06 2.06-.94-2.06-.94L8.5 2.5l-.94 2.06-2.06.94zm10 10l.94 2.06.94-2.06 2.06-.94-2.06-.94-.94-2.06-.94 2.06-2.06.94z\"/><path d=\"M17.41 7.96l-1.37-1.37c-.4-.4-.92-.59-1.43-.59-.52 0-1.04.2-1.43.59L10.3 9.45l-7.72 7.72c-.78.78-.78 2.05 0 2.83L4 21.41c.39.39.9.59 1.41.59.51 0 1.02-.2 1.41-.59l7.78-7.78 2.81-2.81c.8-.78.8-2.07 0-2.86zM5.41 20L4 18.59l7.72-7.72 1.47 1.35L5.41 20z\"/>\n",
              "  </svg>\n",
              "      </button>\n",
              "      \n",
              "  <style>\n",
              "    .colab-df-container {\n",
              "      display:flex;\n",
              "      flex-wrap:wrap;\n",
              "      gap: 12px;\n",
              "    }\n",
              "\n",
              "    .colab-df-convert {\n",
              "      background-color: #E8F0FE;\n",
              "      border: none;\n",
              "      border-radius: 50%;\n",
              "      cursor: pointer;\n",
              "      display: none;\n",
              "      fill: #1967D2;\n",
              "      height: 32px;\n",
              "      padding: 0 0 0 0;\n",
              "      width: 32px;\n",
              "    }\n",
              "\n",
              "    .colab-df-convert:hover {\n",
              "      background-color: #E2EBFA;\n",
              "      box-shadow: 0px 1px 2px rgba(60, 64, 67, 0.3), 0px 1px 3px 1px rgba(60, 64, 67, 0.15);\n",
              "      fill: #174EA6;\n",
              "    }\n",
              "\n",
              "    [theme=dark] .colab-df-convert {\n",
              "      background-color: #3B4455;\n",
              "      fill: #D2E3FC;\n",
              "    }\n",
              "\n",
              "    [theme=dark] .colab-df-convert:hover {\n",
              "      background-color: #434B5C;\n",
              "      box-shadow: 0px 1px 3px 1px rgba(0, 0, 0, 0.15);\n",
              "      filter: drop-shadow(0px 1px 2px rgba(0, 0, 0, 0.3));\n",
              "      fill: #FFFFFF;\n",
              "    }\n",
              "  </style>\n",
              "\n",
              "      <script>\n",
              "        const buttonEl =\n",
              "          document.querySelector('#df-6340b4a7-bb66-49a6-bc9c-eca695c3c66e button.colab-df-convert');\n",
              "        buttonEl.style.display =\n",
              "          google.colab.kernel.accessAllowed ? 'block' : 'none';\n",
              "\n",
              "        async function convertToInteractive(key) {\n",
              "          const element = document.querySelector('#df-6340b4a7-bb66-49a6-bc9c-eca695c3c66e');\n",
              "          const dataTable =\n",
              "            await google.colab.kernel.invokeFunction('convertToInteractive',\n",
              "                                                     [key], {});\n",
              "          if (!dataTable) return;\n",
              "\n",
              "          const docLinkHtml = 'Like what you see? Visit the ' +\n",
              "            '<a target=\"_blank\" href=https://colab.research.google.com/notebooks/data_table.ipynb>data table notebook</a>'\n",
              "            + ' to learn more about interactive tables.';\n",
              "          element.innerHTML = '';\n",
              "          dataTable['output_type'] = 'display_data';\n",
              "          await google.colab.output.renderOutput(dataTable, element);\n",
              "          const docLink = document.createElement('div');\n",
              "          docLink.innerHTML = docLinkHtml;\n",
              "          element.appendChild(docLink);\n",
              "        }\n",
              "      </script>\n",
              "    </div>\n",
              "  </div>\n",
              "  "
            ]
          },
          "metadata": {},
          "execution_count": 214
        }
      ]
    },
    {
      "cell_type": "markdown",
      "source": [
        "Оценим точность модели на отобранных признаках"
      ],
      "metadata": {
        "id": "FsEbe2jaQYnt"
      }
    },
    {
      "cell_type": "code",
      "source": [
        "cross_val_score(LogisticRegression(), X_tmp, y, scoring='accuracy').mean()"
      ],
      "metadata": {
        "colab": {
          "base_uri": "https://localhost:8080/"
        },
        "id": "qKaoGBnVQS72",
        "outputId": "09a81ddf-e4f6-461e-f61c-054dfd72d968"
      },
      "execution_count": 215,
      "outputs": [
        {
          "output_type": "execute_result",
          "data": {
            "text/plain": [
              "0.9099999999999999"
            ]
          },
          "metadata": {},
          "execution_count": 215
        }
      ]
    },
    {
      "cell_type": "markdown",
      "source": [
        "### Отбор признаков на основе дисперсионного анализа"
      ],
      "metadata": {
        "id": "P5zP8C0sQ_rY"
      }
    },
    {
      "cell_type": "code",
      "source": [
        "selector = SelectKBest(k=5)\n",
        "X_tmp = selector.fit_transform(X, y)"
      ],
      "metadata": {
        "id": "uN-Q8Mz2QiPv"
      },
      "execution_count": 90,
      "outputs": []
    },
    {
      "cell_type": "code",
      "source": [
        "X_tmp = pd.DataFrame(X_tmp, columns=selector.get_feature_names_out())"
      ],
      "metadata": {
        "id": "FytBdPJZQsOU"
      },
      "execution_count": 92,
      "outputs": []
    },
    {
      "cell_type": "code",
      "source": [
        "X_tmp.head()"
      ],
      "metadata": {
        "colab": {
          "base_uri": "https://localhost:8080/",
          "height": 206
        },
        "id": "4_32BmuWRdfB",
        "outputId": "e438d3bb-b5c4-4207-dff6-516e99d8e9a7"
      },
      "execution_count": 93,
      "outputs": [
        {
          "output_type": "execute_result",
          "data": {
            "text/plain": [
              "         x1        x5        x6        x7       x14\n",
              "0  1.633915 -1.177928  1.300646  0.100634 -2.567865\n",
              "1  1.842324 -1.027143 -0.384007  0.797197 -2.575481\n",
              "2  1.361291 -1.387665 -2.940474  1.198426 -2.571180\n",
              "3 -3.031896 -1.024519  0.258203  2.815080  1.353217\n",
              "4 -3.138347 -1.842972 -0.894616 -1.964322  0.569148"
            ],
            "text/html": [
              "\n",
              "  <div id=\"df-f8045ac3-fb88-4bdd-90f7-a71fb65991ec\">\n",
              "    <div class=\"colab-df-container\">\n",
              "      <div>\n",
              "<style scoped>\n",
              "    .dataframe tbody tr th:only-of-type {\n",
              "        vertical-align: middle;\n",
              "    }\n",
              "\n",
              "    .dataframe tbody tr th {\n",
              "        vertical-align: top;\n",
              "    }\n",
              "\n",
              "    .dataframe thead th {\n",
              "        text-align: right;\n",
              "    }\n",
              "</style>\n",
              "<table border=\"1\" class=\"dataframe\">\n",
              "  <thead>\n",
              "    <tr style=\"text-align: right;\">\n",
              "      <th></th>\n",
              "      <th>x1</th>\n",
              "      <th>x5</th>\n",
              "      <th>x6</th>\n",
              "      <th>x7</th>\n",
              "      <th>x14</th>\n",
              "    </tr>\n",
              "  </thead>\n",
              "  <tbody>\n",
              "    <tr>\n",
              "      <th>0</th>\n",
              "      <td>1.633915</td>\n",
              "      <td>-1.177928</td>\n",
              "      <td>1.300646</td>\n",
              "      <td>0.100634</td>\n",
              "      <td>-2.567865</td>\n",
              "    </tr>\n",
              "    <tr>\n",
              "      <th>1</th>\n",
              "      <td>1.842324</td>\n",
              "      <td>-1.027143</td>\n",
              "      <td>-0.384007</td>\n",
              "      <td>0.797197</td>\n",
              "      <td>-2.575481</td>\n",
              "    </tr>\n",
              "    <tr>\n",
              "      <th>2</th>\n",
              "      <td>1.361291</td>\n",
              "      <td>-1.387665</td>\n",
              "      <td>-2.940474</td>\n",
              "      <td>1.198426</td>\n",
              "      <td>-2.571180</td>\n",
              "    </tr>\n",
              "    <tr>\n",
              "      <th>3</th>\n",
              "      <td>-3.031896</td>\n",
              "      <td>-1.024519</td>\n",
              "      <td>0.258203</td>\n",
              "      <td>2.815080</td>\n",
              "      <td>1.353217</td>\n",
              "    </tr>\n",
              "    <tr>\n",
              "      <th>4</th>\n",
              "      <td>-3.138347</td>\n",
              "      <td>-1.842972</td>\n",
              "      <td>-0.894616</td>\n",
              "      <td>-1.964322</td>\n",
              "      <td>0.569148</td>\n",
              "    </tr>\n",
              "  </tbody>\n",
              "</table>\n",
              "</div>\n",
              "      <button class=\"colab-df-convert\" onclick=\"convertToInteractive('df-f8045ac3-fb88-4bdd-90f7-a71fb65991ec')\"\n",
              "              title=\"Convert this dataframe to an interactive table.\"\n",
              "              style=\"display:none;\">\n",
              "        \n",
              "  <svg xmlns=\"http://www.w3.org/2000/svg\" height=\"24px\"viewBox=\"0 0 24 24\"\n",
              "       width=\"24px\">\n",
              "    <path d=\"M0 0h24v24H0V0z\" fill=\"none\"/>\n",
              "    <path d=\"M18.56 5.44l.94 2.06.94-2.06 2.06-.94-2.06-.94-.94-2.06-.94 2.06-2.06.94zm-11 1L8.5 8.5l.94-2.06 2.06-.94-2.06-.94L8.5 2.5l-.94 2.06-2.06.94zm10 10l.94 2.06.94-2.06 2.06-.94-2.06-.94-.94-2.06-.94 2.06-2.06.94z\"/><path d=\"M17.41 7.96l-1.37-1.37c-.4-.4-.92-.59-1.43-.59-.52 0-1.04.2-1.43.59L10.3 9.45l-7.72 7.72c-.78.78-.78 2.05 0 2.83L4 21.41c.39.39.9.59 1.41.59.51 0 1.02-.2 1.41-.59l7.78-7.78 2.81-2.81c.8-.78.8-2.07 0-2.86zM5.41 20L4 18.59l7.72-7.72 1.47 1.35L5.41 20z\"/>\n",
              "  </svg>\n",
              "      </button>\n",
              "      \n",
              "  <style>\n",
              "    .colab-df-container {\n",
              "      display:flex;\n",
              "      flex-wrap:wrap;\n",
              "      gap: 12px;\n",
              "    }\n",
              "\n",
              "    .colab-df-convert {\n",
              "      background-color: #E8F0FE;\n",
              "      border: none;\n",
              "      border-radius: 50%;\n",
              "      cursor: pointer;\n",
              "      display: none;\n",
              "      fill: #1967D2;\n",
              "      height: 32px;\n",
              "      padding: 0 0 0 0;\n",
              "      width: 32px;\n",
              "    }\n",
              "\n",
              "    .colab-df-convert:hover {\n",
              "      background-color: #E2EBFA;\n",
              "      box-shadow: 0px 1px 2px rgba(60, 64, 67, 0.3), 0px 1px 3px 1px rgba(60, 64, 67, 0.15);\n",
              "      fill: #174EA6;\n",
              "    }\n",
              "\n",
              "    [theme=dark] .colab-df-convert {\n",
              "      background-color: #3B4455;\n",
              "      fill: #D2E3FC;\n",
              "    }\n",
              "\n",
              "    [theme=dark] .colab-df-convert:hover {\n",
              "      background-color: #434B5C;\n",
              "      box-shadow: 0px 1px 3px 1px rgba(0, 0, 0, 0.15);\n",
              "      filter: drop-shadow(0px 1px 2px rgba(0, 0, 0, 0.3));\n",
              "      fill: #FFFFFF;\n",
              "    }\n",
              "  </style>\n",
              "\n",
              "      <script>\n",
              "        const buttonEl =\n",
              "          document.querySelector('#df-f8045ac3-fb88-4bdd-90f7-a71fb65991ec button.colab-df-convert');\n",
              "        buttonEl.style.display =\n",
              "          google.colab.kernel.accessAllowed ? 'block' : 'none';\n",
              "\n",
              "        async function convertToInteractive(key) {\n",
              "          const element = document.querySelector('#df-f8045ac3-fb88-4bdd-90f7-a71fb65991ec');\n",
              "          const dataTable =\n",
              "            await google.colab.kernel.invokeFunction('convertToInteractive',\n",
              "                                                     [key], {});\n",
              "          if (!dataTable) return;\n",
              "\n",
              "          const docLinkHtml = 'Like what you see? Visit the ' +\n",
              "            '<a target=\"_blank\" href=https://colab.research.google.com/notebooks/data_table.ipynb>data table notebook</a>'\n",
              "            + ' to learn more about interactive tables.';\n",
              "          element.innerHTML = '';\n",
              "          dataTable['output_type'] = 'display_data';\n",
              "          await google.colab.output.renderOutput(dataTable, element);\n",
              "          const docLink = document.createElement('div');\n",
              "          docLink.innerHTML = docLinkHtml;\n",
              "          element.appendChild(docLink);\n",
              "        }\n",
              "      </script>\n",
              "    </div>\n",
              "  </div>\n",
              "  "
            ]
          },
          "metadata": {},
          "execution_count": 93
        }
      ]
    },
    {
      "cell_type": "markdown",
      "source": [
        "Оценим точность модели"
      ],
      "metadata": {
        "id": "_qzAoRmHR6Lp"
      }
    },
    {
      "cell_type": "code",
      "source": [
        "cross_val_score(LogisticRegression(), X_tmp, y, scoring='accuracy').mean()"
      ],
      "metadata": {
        "colab": {
          "base_uri": "https://localhost:8080/"
        },
        "id": "3EoMMxYwR0Jr",
        "outputId": "f23b7ee4-08c9-41b2-d4fc-8a11be76c859"
      },
      "execution_count": 94,
      "outputs": [
        {
          "output_type": "execute_result",
          "data": {
            "text/plain": [
              "0.95"
            ]
          },
          "metadata": {},
          "execution_count": 94
        }
      ]
    },
    {
      "cell_type": "markdown",
      "source": [
        "### Отбор признаков с использованием моделей"
      ],
      "metadata": {
        "id": "1VPT-GHdSGUo"
      }
    },
    {
      "cell_type": "code",
      "source": [
        "selector = SelectFromModel(estimator=LogisticRegression(solver='saga', penalty='l1')).fit(X, y)\n",
        "X_tmp = selector.transform(X)"
      ],
      "metadata": {
        "id": "mWwHi9S8R-JY"
      },
      "execution_count": 117,
      "outputs": []
    },
    {
      "cell_type": "code",
      "source": [
        "X_tmp = pd.DataFrame(X_tmp, columns=selector.get_feature_names_out())\n",
        "X_tmp.head()"
      ],
      "metadata": {
        "colab": {
          "base_uri": "https://localhost:8080/",
          "height": 206
        },
        "id": "Tg554ojbWBNJ",
        "outputId": "35425217-4db3-44da-e2ff-2674e6ba75ca"
      },
      "execution_count": 118,
      "outputs": [
        {
          "output_type": "execute_result",
          "data": {
            "text/plain": [
              "         x0        x1        x3        x5        x7        x8        x9  \\\n",
              "0  1.213097  1.633915  3.314249 -1.177928  0.100634  3.410967  2.835348   \n",
              "1 -6.107529  1.842324  0.481011 -1.027143  0.797197  1.489769 -1.998853   \n",
              "2  1.212808  1.361291  2.991770 -1.387665  1.198426  4.857754  1.350908   \n",
              "3  3.233899 -3.031896  1.246724 -1.024519  2.815080  0.403660 -0.869913   \n",
              "4 -1.656295 -3.138347 -2.447759 -1.842972 -1.964322  0.100586  1.116528   \n",
              "\n",
              "        x12       x14       x15       x16       x18  \n",
              "0  1.556348 -2.567865  0.161502  0.189992  0.329330  \n",
              "1  1.156929 -2.575481 -2.988388  0.988683 -3.105398  \n",
              "2 -2.039040 -2.571180 -0.954248  1.049501 -1.660022  \n",
              "3  0.218805  1.353217 -0.397676 -1.091548  3.117611  \n",
              "4 -0.949180  0.569148  1.045310 -0.715028 -0.858772  "
            ],
            "text/html": [
              "\n",
              "  <div id=\"df-a5cfb32b-99a9-4b05-9bf0-781326a3281c\">\n",
              "    <div class=\"colab-df-container\">\n",
              "      <div>\n",
              "<style scoped>\n",
              "    .dataframe tbody tr th:only-of-type {\n",
              "        vertical-align: middle;\n",
              "    }\n",
              "\n",
              "    .dataframe tbody tr th {\n",
              "        vertical-align: top;\n",
              "    }\n",
              "\n",
              "    .dataframe thead th {\n",
              "        text-align: right;\n",
              "    }\n",
              "</style>\n",
              "<table border=\"1\" class=\"dataframe\">\n",
              "  <thead>\n",
              "    <tr style=\"text-align: right;\">\n",
              "      <th></th>\n",
              "      <th>x0</th>\n",
              "      <th>x1</th>\n",
              "      <th>x3</th>\n",
              "      <th>x5</th>\n",
              "      <th>x7</th>\n",
              "      <th>x8</th>\n",
              "      <th>x9</th>\n",
              "      <th>x12</th>\n",
              "      <th>x14</th>\n",
              "      <th>x15</th>\n",
              "      <th>x16</th>\n",
              "      <th>x18</th>\n",
              "    </tr>\n",
              "  </thead>\n",
              "  <tbody>\n",
              "    <tr>\n",
              "      <th>0</th>\n",
              "      <td>1.213097</td>\n",
              "      <td>1.633915</td>\n",
              "      <td>3.314249</td>\n",
              "      <td>-1.177928</td>\n",
              "      <td>0.100634</td>\n",
              "      <td>3.410967</td>\n",
              "      <td>2.835348</td>\n",
              "      <td>1.556348</td>\n",
              "      <td>-2.567865</td>\n",
              "      <td>0.161502</td>\n",
              "      <td>0.189992</td>\n",
              "      <td>0.329330</td>\n",
              "    </tr>\n",
              "    <tr>\n",
              "      <th>1</th>\n",
              "      <td>-6.107529</td>\n",
              "      <td>1.842324</td>\n",
              "      <td>0.481011</td>\n",
              "      <td>-1.027143</td>\n",
              "      <td>0.797197</td>\n",
              "      <td>1.489769</td>\n",
              "      <td>-1.998853</td>\n",
              "      <td>1.156929</td>\n",
              "      <td>-2.575481</td>\n",
              "      <td>-2.988388</td>\n",
              "      <td>0.988683</td>\n",
              "      <td>-3.105398</td>\n",
              "    </tr>\n",
              "    <tr>\n",
              "      <th>2</th>\n",
              "      <td>1.212808</td>\n",
              "      <td>1.361291</td>\n",
              "      <td>2.991770</td>\n",
              "      <td>-1.387665</td>\n",
              "      <td>1.198426</td>\n",
              "      <td>4.857754</td>\n",
              "      <td>1.350908</td>\n",
              "      <td>-2.039040</td>\n",
              "      <td>-2.571180</td>\n",
              "      <td>-0.954248</td>\n",
              "      <td>1.049501</td>\n",
              "      <td>-1.660022</td>\n",
              "    </tr>\n",
              "    <tr>\n",
              "      <th>3</th>\n",
              "      <td>3.233899</td>\n",
              "      <td>-3.031896</td>\n",
              "      <td>1.246724</td>\n",
              "      <td>-1.024519</td>\n",
              "      <td>2.815080</td>\n",
              "      <td>0.403660</td>\n",
              "      <td>-0.869913</td>\n",
              "      <td>0.218805</td>\n",
              "      <td>1.353217</td>\n",
              "      <td>-0.397676</td>\n",
              "      <td>-1.091548</td>\n",
              "      <td>3.117611</td>\n",
              "    </tr>\n",
              "    <tr>\n",
              "      <th>4</th>\n",
              "      <td>-1.656295</td>\n",
              "      <td>-3.138347</td>\n",
              "      <td>-2.447759</td>\n",
              "      <td>-1.842972</td>\n",
              "      <td>-1.964322</td>\n",
              "      <td>0.100586</td>\n",
              "      <td>1.116528</td>\n",
              "      <td>-0.949180</td>\n",
              "      <td>0.569148</td>\n",
              "      <td>1.045310</td>\n",
              "      <td>-0.715028</td>\n",
              "      <td>-0.858772</td>\n",
              "    </tr>\n",
              "  </tbody>\n",
              "</table>\n",
              "</div>\n",
              "      <button class=\"colab-df-convert\" onclick=\"convertToInteractive('df-a5cfb32b-99a9-4b05-9bf0-781326a3281c')\"\n",
              "              title=\"Convert this dataframe to an interactive table.\"\n",
              "              style=\"display:none;\">\n",
              "        \n",
              "  <svg xmlns=\"http://www.w3.org/2000/svg\" height=\"24px\"viewBox=\"0 0 24 24\"\n",
              "       width=\"24px\">\n",
              "    <path d=\"M0 0h24v24H0V0z\" fill=\"none\"/>\n",
              "    <path d=\"M18.56 5.44l.94 2.06.94-2.06 2.06-.94-2.06-.94-.94-2.06-.94 2.06-2.06.94zm-11 1L8.5 8.5l.94-2.06 2.06-.94-2.06-.94L8.5 2.5l-.94 2.06-2.06.94zm10 10l.94 2.06.94-2.06 2.06-.94-2.06-.94-.94-2.06-.94 2.06-2.06.94z\"/><path d=\"M17.41 7.96l-1.37-1.37c-.4-.4-.92-.59-1.43-.59-.52 0-1.04.2-1.43.59L10.3 9.45l-7.72 7.72c-.78.78-.78 2.05 0 2.83L4 21.41c.39.39.9.59 1.41.59.51 0 1.02-.2 1.41-.59l7.78-7.78 2.81-2.81c.8-.78.8-2.07 0-2.86zM5.41 20L4 18.59l7.72-7.72 1.47 1.35L5.41 20z\"/>\n",
              "  </svg>\n",
              "      </button>\n",
              "      \n",
              "  <style>\n",
              "    .colab-df-container {\n",
              "      display:flex;\n",
              "      flex-wrap:wrap;\n",
              "      gap: 12px;\n",
              "    }\n",
              "\n",
              "    .colab-df-convert {\n",
              "      background-color: #E8F0FE;\n",
              "      border: none;\n",
              "      border-radius: 50%;\n",
              "      cursor: pointer;\n",
              "      display: none;\n",
              "      fill: #1967D2;\n",
              "      height: 32px;\n",
              "      padding: 0 0 0 0;\n",
              "      width: 32px;\n",
              "    }\n",
              "\n",
              "    .colab-df-convert:hover {\n",
              "      background-color: #E2EBFA;\n",
              "      box-shadow: 0px 1px 2px rgba(60, 64, 67, 0.3), 0px 1px 3px 1px rgba(60, 64, 67, 0.15);\n",
              "      fill: #174EA6;\n",
              "    }\n",
              "\n",
              "    [theme=dark] .colab-df-convert {\n",
              "      background-color: #3B4455;\n",
              "      fill: #D2E3FC;\n",
              "    }\n",
              "\n",
              "    [theme=dark] .colab-df-convert:hover {\n",
              "      background-color: #434B5C;\n",
              "      box-shadow: 0px 1px 3px 1px rgba(0, 0, 0, 0.15);\n",
              "      filter: drop-shadow(0px 1px 2px rgba(0, 0, 0, 0.3));\n",
              "      fill: #FFFFFF;\n",
              "    }\n",
              "  </style>\n",
              "\n",
              "      <script>\n",
              "        const buttonEl =\n",
              "          document.querySelector('#df-a5cfb32b-99a9-4b05-9bf0-781326a3281c button.colab-df-convert');\n",
              "        buttonEl.style.display =\n",
              "          google.colab.kernel.accessAllowed ? 'block' : 'none';\n",
              "\n",
              "        async function convertToInteractive(key) {\n",
              "          const element = document.querySelector('#df-a5cfb32b-99a9-4b05-9bf0-781326a3281c');\n",
              "          const dataTable =\n",
              "            await google.colab.kernel.invokeFunction('convertToInteractive',\n",
              "                                                     [key], {});\n",
              "          if (!dataTable) return;\n",
              "\n",
              "          const docLinkHtml = 'Like what you see? Visit the ' +\n",
              "            '<a target=\"_blank\" href=https://colab.research.google.com/notebooks/data_table.ipynb>data table notebook</a>'\n",
              "            + ' to learn more about interactive tables.';\n",
              "          element.innerHTML = '';\n",
              "          dataTable['output_type'] = 'display_data';\n",
              "          await google.colab.output.renderOutput(dataTable, element);\n",
              "          const docLink = document.createElement('div');\n",
              "          docLink.innerHTML = docLinkHtml;\n",
              "          element.appendChild(docLink);\n",
              "        }\n",
              "      </script>\n",
              "    </div>\n",
              "  </div>\n",
              "  "
            ]
          },
          "metadata": {},
          "execution_count": 118
        }
      ]
    },
    {
      "cell_type": "markdown",
      "source": [
        "Оценим точность модели"
      ],
      "metadata": {
        "id": "Go4OS6d_WTyC"
      }
    },
    {
      "cell_type": "code",
      "source": [
        "cross_val_score(LogisticRegression(), X_tmp, y, scoring='accuracy').mean()"
      ],
      "metadata": {
        "colab": {
          "base_uri": "https://localhost:8080/"
        },
        "id": "zDBw9joKWHmB",
        "outputId": "19a86d61-537b-42e1-eaba-b9d0e340a05a"
      },
      "execution_count": 119,
      "outputs": [
        {
          "output_type": "execute_result",
          "data": {
            "text/plain": [
              "0.9099999999999999"
            ]
          },
          "metadata": {},
          "execution_count": 119
        }
      ]
    },
    {
      "cell_type": "markdown",
      "source": [
        "Отбор признаков на основе RandomForest"
      ],
      "metadata": {
        "id": "ExcCZAAwXqQd"
      }
    },
    {
      "cell_type": "code",
      "source": [
        "selector = RandomForestClassifier(random_state=0).fit(X, y)"
      ],
      "metadata": {
        "id": "qd9A6kKxWXU3"
      },
      "execution_count": 120,
      "outputs": []
    },
    {
      "cell_type": "code",
      "source": [
        "feature_importances = pd.Series(selector.feature_importances_, index=X.columns)"
      ],
      "metadata": {
        "id": "4N3TiS09WnY6"
      },
      "execution_count": 139,
      "outputs": []
    },
    {
      "cell_type": "code",
      "source": [
        "plt.rcParams['figure.figsize'] = 10,5\n",
        "feature_importances.nlargest(5).plot(kind='barh')"
      ],
      "metadata": {
        "colab": {
          "base_uri": "https://localhost:8080/",
          "height": 338
        },
        "id": "Plgdg0iiYCGy",
        "outputId": "58948705-c9b6-42e8-8ec4-1616a59383a1"
      },
      "execution_count": 141,
      "outputs": [
        {
          "output_type": "execute_result",
          "data": {
            "text/plain": [
              "<matplotlib.axes._subplots.AxesSubplot at 0x7f038dc381d0>"
            ]
          },
          "metadata": {},
          "execution_count": 141
        },
        {
          "output_type": "display_data",
          "data": {
            "text/plain": [
              "<Figure size 720x360 with 1 Axes>"
            ],
            "image/png": "[encoded data removed]"
          },
          "metadata": {
            "needs_background": "light"
          }
        }
      ]
    },
    {
      "cell_type": "markdown",
      "source": [
        "Выберем 5 максимально значимых признаков и проверим точность модели с использованием их"
      ],
      "metadata": {
        "id": "_FkMuJsyaWaB"
      }
    },
    {
      "cell_type": "code",
      "source": [
        "X_tmp = X.drop(X.columns.difference(feature_importances.nlargest(5).index), axis=1)"
      ],
      "metadata": {
        "id": "aP-bfvV-Y85q"
      },
      "execution_count": 193,
      "outputs": []
    },
    {
      "cell_type": "code",
      "source": [
        "X_tmp.head()"
      ],
      "metadata": {
        "colab": {
          "base_uri": "https://localhost:8080/",
          "height": 206
        },
        "id": "3fMVsCyAahlM",
        "outputId": "88f165ce-4f26-4a82-dcda-0f5ba14a2f19"
      },
      "execution_count": 194,
      "outputs": [
        {
          "output_type": "execute_result",
          "data": {
            "text/plain": [
              "         1         5         7         13        14\n",
              "0  1.633915 -1.177928  0.100634 -2.249574 -2.567865\n",
              "1  1.842324 -1.027143  0.797197 -2.140415 -2.575481\n",
              "2  1.361291 -1.387665  1.198426 -2.408805 -2.571180\n",
              "3 -3.031896 -1.024519  2.815080 -0.049763  1.353217\n",
              "4 -3.138347 -1.842972 -1.964322 -1.081096  0.569148"
            ],
            "text/html": [
              "\n",
              "  <div id=\"df-48d6a363-4f2b-41ef-ae08-713169a3574e\">\n",
              "    <div class=\"colab-df-container\">\n",
              "      <div>\n",
              "<style scoped>\n",
              "    .dataframe tbody tr th:only-of-type {\n",
              "        vertical-align: middle;\n",
              "    }\n",
              "\n",
              "    .dataframe tbody tr th {\n",
              "        vertical-align: top;\n",
              "    }\n",
              "\n",
              "    .dataframe thead th {\n",
              "        text-align: right;\n",
              "    }\n",
              "</style>\n",
              "<table border=\"1\" class=\"dataframe\">\n",
              "  <thead>\n",
              "    <tr style=\"text-align: right;\">\n",
              "      <th></th>\n",
              "      <th>1</th>\n",
              "      <th>5</th>\n",
              "      <th>7</th>\n",
              "      <th>13</th>\n",
              "      <th>14</th>\n",
              "    </tr>\n",
              "  </thead>\n",
              "  <tbody>\n",
              "    <tr>\n",
              "      <th>0</th>\n",
              "      <td>1.633915</td>\n",
              "      <td>-1.177928</td>\n",
              "      <td>0.100634</td>\n",
              "      <td>-2.249574</td>\n",
              "      <td>-2.567865</td>\n",
              "    </tr>\n",
              "    <tr>\n",
              "      <th>1</th>\n",
              "      <td>1.842324</td>\n",
              "      <td>-1.027143</td>\n",
              "      <td>0.797197</td>\n",
              "      <td>-2.140415</td>\n",
              "      <td>-2.575481</td>\n",
              "    </tr>\n",
              "    <tr>\n",
              "      <th>2</th>\n",
              "      <td>1.361291</td>\n",
              "      <td>-1.387665</td>\n",
              "      <td>1.198426</td>\n",
              "      <td>-2.408805</td>\n",
              "      <td>-2.571180</td>\n",
              "    </tr>\n",
              "    <tr>\n",
              "      <th>3</th>\n",
              "      <td>-3.031896</td>\n",
              "      <td>-1.024519</td>\n",
              "      <td>2.815080</td>\n",
              "      <td>-0.049763</td>\n",
              "      <td>1.353217</td>\n",
              "    </tr>\n",
              "    <tr>\n",
              "      <th>4</th>\n",
              "      <td>-3.138347</td>\n",
              "      <td>-1.842972</td>\n",
              "      <td>-1.964322</td>\n",
              "      <td>-1.081096</td>\n",
              "      <td>0.569148</td>\n",
              "    </tr>\n",
              "  </tbody>\n",
              "</table>\n",
              "</div>\n",
              "      <button class=\"colab-df-convert\" onclick=\"convertToInteractive('df-48d6a363-4f2b-41ef-ae08-713169a3574e')\"\n",
              "              title=\"Convert this dataframe to an interactive table.\"\n",
              "              style=\"display:none;\">\n",
              "        \n",
              "  <svg xmlns=\"http://www.w3.org/2000/svg\" height=\"24px\"viewBox=\"0 0 24 24\"\n",
              "       width=\"24px\">\n",
              "    <path d=\"M0 0h24v24H0V0z\" fill=\"none\"/>\n",
              "    <path d=\"M18.56 5.44l.94 2.06.94-2.06 2.06-.94-2.06-.94-.94-2.06-.94 2.06-2.06.94zm-11 1L8.5 8.5l.94-2.06 2.06-.94-2.06-.94L8.5 2.5l-.94 2.06-2.06.94zm10 10l.94 2.06.94-2.06 2.06-.94-2.06-.94-.94-2.06-.94 2.06-2.06.94z\"/><path d=\"M17.41 7.96l-1.37-1.37c-.4-.4-.92-.59-1.43-.59-.52 0-1.04.2-1.43.59L10.3 9.45l-7.72 7.72c-.78.78-.78 2.05 0 2.83L4 21.41c.39.39.9.59 1.41.59.51 0 1.02-.2 1.41-.59l7.78-7.78 2.81-2.81c.8-.78.8-2.07 0-2.86zM5.41 20L4 18.59l7.72-7.72 1.47 1.35L5.41 20z\"/>\n",
              "  </svg>\n",
              "      </button>\n",
              "      \n",
              "  <style>\n",
              "    .colab-df-container {\n",
              "      display:flex;\n",
              "      flex-wrap:wrap;\n",
              "      gap: 12px;\n",
              "    }\n",
              "\n",
              "    .colab-df-convert {\n",
              "      background-color: #E8F0FE;\n",
              "      border: none;\n",
              "      border-radius: 50%;\n",
              "      cursor: pointer;\n",
              "      display: none;\n",
              "      fill: #1967D2;\n",
              "      height: 32px;\n",
              "      padding: 0 0 0 0;\n",
              "      width: 32px;\n",
              "    }\n",
              "\n",
              "    .colab-df-convert:hover {\n",
              "      background-color: #E2EBFA;\n",
              "      box-shadow: 0px 1px 2px rgba(60, 64, 67, 0.3), 0px 1px 3px 1px rgba(60, 64, 67, 0.15);\n",
              "      fill: #174EA6;\n",
              "    }\n",
              "\n",
              "    [theme=dark] .colab-df-convert {\n",
              "      background-color: #3B4455;\n",
              "      fill: #D2E3FC;\n",
              "    }\n",
              "\n",
              "    [theme=dark] .colab-df-convert:hover {\n",
              "      background-color: #434B5C;\n",
              "      box-shadow: 0px 1px 3px 1px rgba(0, 0, 0, 0.15);\n",
              "      filter: drop-shadow(0px 1px 2px rgba(0, 0, 0, 0.3));\n",
              "      fill: #FFFFFF;\n",
              "    }\n",
              "  </style>\n",
              "\n",
              "      <script>\n",
              "        const buttonEl =\n",
              "          document.querySelector('#df-48d6a363-4f2b-41ef-ae08-713169a3574e button.colab-df-convert');\n",
              "        buttonEl.style.display =\n",
              "          google.colab.kernel.accessAllowed ? 'block' : 'none';\n",
              "\n",
              "        async function convertToInteractive(key) {\n",
              "          const element = document.querySelector('#df-48d6a363-4f2b-41ef-ae08-713169a3574e');\n",
              "          const dataTable =\n",
              "            await google.colab.kernel.invokeFunction('convertToInteractive',\n",
              "                                                     [key], {});\n",
              "          if (!dataTable) return;\n",
              "\n",
              "          const docLinkHtml = 'Like what you see? Visit the ' +\n",
              "            '<a target=\"_blank\" href=https://colab.research.google.com/notebooks/data_table.ipynb>data table notebook</a>'\n",
              "            + ' to learn more about interactive tables.';\n",
              "          element.innerHTML = '';\n",
              "          dataTable['output_type'] = 'display_data';\n",
              "          await google.colab.output.renderOutput(dataTable, element);\n",
              "          const docLink = document.createElement('div');\n",
              "          docLink.innerHTML = docLinkHtml;\n",
              "          element.appendChild(docLink);\n",
              "        }\n",
              "      </script>\n",
              "    </div>\n",
              "  </div>\n",
              "  "
            ]
          },
          "metadata": {},
          "execution_count": 194
        }
      ]
    },
    {
      "cell_type": "markdown",
      "source": [
        "Оценим качество модели"
      ],
      "metadata": {
        "id": "-a-MxpvccWKg"
      }
    },
    {
      "cell_type": "code",
      "source": [
        "cross_val_score(LogisticRegression(), X_tmp, y, scoring='accuracy').mean()"
      ],
      "metadata": {
        "colab": {
          "base_uri": "https://localhost:8080/"
        },
        "id": "F38T_R2qcS3u",
        "outputId": "608216d1-e79b-4b9e-a606-9a2b70a4587c"
      },
      "execution_count": 195,
      "outputs": [
        {
          "output_type": "execute_result",
          "data": {
            "text/plain": [
              "0.95"
            ]
          },
          "metadata": {},
          "execution_count": 195
        }
      ]
    },
    {
      "cell_type": "markdown",
      "source": [
        "Учитывая сильную корреляцию признака 1 с целевой переменной и максимальную значимость его по \"мнению\" RandomForest можем попробовать построить модель, используя только этот признак"
      ],
      "metadata": {
        "id": "fndh8LnAc9WK"
      }
    },
    {
      "cell_type": "code",
      "source": [
        "X_tmp = X.drop(X.columns.difference(feature_importances.nlargest(1).index), axis=1)"
      ],
      "metadata": {
        "id": "hYc7K0sYcaS0"
      },
      "execution_count": 200,
      "outputs": []
    },
    {
      "cell_type": "code",
      "source": [
        "X_tmp.head()"
      ],
      "metadata": {
        "colab": {
          "base_uri": "https://localhost:8080/",
          "height": 206
        },
        "id": "dN3M-R8ydMsi",
        "outputId": "34cade5d-db6a-4419-ee8c-0e857236ed2b"
      },
      "execution_count": 201,
      "outputs": [
        {
          "output_type": "execute_result",
          "data": {
            "text/plain": [
              "          1\n",
              "0  1.633915\n",
              "1  1.842324\n",
              "2  1.361291\n",
              "3 -3.031896\n",
              "4 -3.138347"
            ],
            "text/html": [
              "\n",
              "  <div id=\"df-bc689d33-1dc0-47b8-abfc-014ad2f58d83\">\n",
              "    <div class=\"colab-df-container\">\n",
              "      <div>\n",
              "<style scoped>\n",
              "    .dataframe tbody tr th:only-of-type {\n",
              "        vertical-align: middle;\n",
              "    }\n",
              "\n",
              "    .dataframe tbody tr th {\n",
              "        vertical-align: top;\n",
              "    }\n",
              "\n",
              "    .dataframe thead th {\n",
              "        text-align: right;\n",
              "    }\n",
              "</style>\n",
              "<table border=\"1\" class=\"dataframe\">\n",
              "  <thead>\n",
              "    <tr style=\"text-align: right;\">\n",
              "      <th></th>\n",
              "      <th>1</th>\n",
              "    </tr>\n",
              "  </thead>\n",
              "  <tbody>\n",
              "    <tr>\n",
              "      <th>0</th>\n",
              "      <td>1.633915</td>\n",
              "    </tr>\n",
              "    <tr>\n",
              "      <th>1</th>\n",
              "      <td>1.842324</td>\n",
              "    </tr>\n",
              "    <tr>\n",
              "      <th>2</th>\n",
              "      <td>1.361291</td>\n",
              "    </tr>\n",
              "    <tr>\n",
              "      <th>3</th>\n",
              "      <td>-3.031896</td>\n",
              "    </tr>\n",
              "    <tr>\n",
              "      <th>4</th>\n",
              "      <td>-3.138347</td>\n",
              "    </tr>\n",
              "  </tbody>\n",
              "</table>\n",
              "</div>\n",
              "      <button class=\"colab-df-convert\" onclick=\"convertToInteractive('df-bc689d33-1dc0-47b8-abfc-014ad2f58d83')\"\n",
              "              title=\"Convert this dataframe to an interactive table.\"\n",
              "              style=\"display:none;\">\n",
              "        \n",
              "  <svg xmlns=\"http://www.w3.org/2000/svg\" height=\"24px\"viewBox=\"0 0 24 24\"\n",
              "       width=\"24px\">\n",
              "    <path d=\"M0 0h24v24H0V0z\" fill=\"none\"/>\n",
              "    <path d=\"M18.56 5.44l.94 2.06.94-2.06 2.06-.94-2.06-.94-.94-2.06-.94 2.06-2.06.94zm-11 1L8.5 8.5l.94-2.06 2.06-.94-2.06-.94L8.5 2.5l-.94 2.06-2.06.94zm10 10l.94 2.06.94-2.06 2.06-.94-2.06-.94-.94-2.06-.94 2.06-2.06.94z\"/><path d=\"M17.41 7.96l-1.37-1.37c-.4-.4-.92-.59-1.43-.59-.52 0-1.04.2-1.43.59L10.3 9.45l-7.72 7.72c-.78.78-.78 2.05 0 2.83L4 21.41c.39.39.9.59 1.41.59.51 0 1.02-.2 1.41-.59l7.78-7.78 2.81-2.81c.8-.78.8-2.07 0-2.86zM5.41 20L4 18.59l7.72-7.72 1.47 1.35L5.41 20z\"/>\n",
              "  </svg>\n",
              "      </button>\n",
              "      \n",
              "  <style>\n",
              "    .colab-df-container {\n",
              "      display:flex;\n",
              "      flex-wrap:wrap;\n",
              "      gap: 12px;\n",
              "    }\n",
              "\n",
              "    .colab-df-convert {\n",
              "      background-color: #E8F0FE;\n",
              "      border: none;\n",
              "      border-radius: 50%;\n",
              "      cursor: pointer;\n",
              "      display: none;\n",
              "      fill: #1967D2;\n",
              "      height: 32px;\n",
              "      padding: 0 0 0 0;\n",
              "      width: 32px;\n",
              "    }\n",
              "\n",
              "    .colab-df-convert:hover {\n",
              "      background-color: #E2EBFA;\n",
              "      box-shadow: 0px 1px 2px rgba(60, 64, 67, 0.3), 0px 1px 3px 1px rgba(60, 64, 67, 0.15);\n",
              "      fill: #174EA6;\n",
              "    }\n",
              "\n",
              "    [theme=dark] .colab-df-convert {\n",
              "      background-color: #3B4455;\n",
              "      fill: #D2E3FC;\n",
              "    }\n",
              "\n",
              "    [theme=dark] .colab-df-convert:hover {\n",
              "      background-color: #434B5C;\n",
              "      box-shadow: 0px 1px 3px 1px rgba(0, 0, 0, 0.15);\n",
              "      filter: drop-shadow(0px 1px 2px rgba(0, 0, 0, 0.3));\n",
              "      fill: #FFFFFF;\n",
              "    }\n",
              "  </style>\n",
              "\n",
              "      <script>\n",
              "        const buttonEl =\n",
              "          document.querySelector('#df-bc689d33-1dc0-47b8-abfc-014ad2f58d83 button.colab-df-convert');\n",
              "        buttonEl.style.display =\n",
              "          google.colab.kernel.accessAllowed ? 'block' : 'none';\n",
              "\n",
              "        async function convertToInteractive(key) {\n",
              "          const element = document.querySelector('#df-bc689d33-1dc0-47b8-abfc-014ad2f58d83');\n",
              "          const dataTable =\n",
              "            await google.colab.kernel.invokeFunction('convertToInteractive',\n",
              "                                                     [key], {});\n",
              "          if (!dataTable) return;\n",
              "\n",
              "          const docLinkHtml = 'Like what you see? Visit the ' +\n",
              "            '<a target=\"_blank\" href=https://colab.research.google.com/notebooks/data_table.ipynb>data table notebook</a>'\n",
              "            + ' to learn more about interactive tables.';\n",
              "          element.innerHTML = '';\n",
              "          dataTable['output_type'] = 'display_data';\n",
              "          await google.colab.output.renderOutput(dataTable, element);\n",
              "          const docLink = document.createElement('div');\n",
              "          docLink.innerHTML = docLinkHtml;\n",
              "          element.appendChild(docLink);\n",
              "        }\n",
              "      </script>\n",
              "    </div>\n",
              "  </div>\n",
              "  "
            ]
          },
          "metadata": {},
          "execution_count": 201
        }
      ]
    },
    {
      "cell_type": "code",
      "source": [
        "cross_val_score(LogisticRegression(), X_tmp, y, scoring='accuracy').mean()"
      ],
      "metadata": {
        "colab": {
          "base_uri": "https://localhost:8080/"
        },
        "id": "L6ORsjXCdTCe",
        "outputId": "87671e67-4ad9-4885-8ff2-8ba38080dc1c"
      },
      "execution_count": 202,
      "outputs": [
        {
          "output_type": "execute_result",
          "data": {
            "text/plain": [
              "0.96"
            ]
          },
          "metadata": {},
          "execution_count": 202
        }
      ]
    },
    {
      "cell_type": "markdown",
      "source": [
        "В итоге мы получили максимальный результат, используя только 1 признак"
      ],
      "metadata": {
        "id": "22ywRkoGdjZG"
      }
    },
    {
      "cell_type": "markdown",
      "source": [
        "### Перебор признаков"
      ],
      "metadata": {
        "id": "s3eoOHbLd714"
      }
    },
    {
      "cell_type": "code",
      "source": [
        "selector = SequentialFeatureSelector(RandomForestClassifier(random_state=0))\n",
        "selector.fit(X, y)"
      ],
      "metadata": {
        "colab": {
          "base_uri": "https://localhost:8080/"
        },
        "id": "5Mv_8IwgdhLq",
        "outputId": "0b5a5aa9-5722-4e76-cc0d-f67e4c9a893e"
      },
      "execution_count": 204,
      "outputs": [
        {
          "output_type": "execute_result",
          "data": {
            "text/plain": [
              "SequentialFeatureSelector(estimator=RandomForestClassifier(random_state=0))"
            ]
          },
          "metadata": {},
          "execution_count": 204
        }
      ]
    },
    {
      "cell_type": "code",
      "source": [
        "X_tmp = selector.transform(X)"
      ],
      "metadata": {
        "id": "s6qoHok-eiwN"
      },
      "execution_count": 205,
      "outputs": []
    },
    {
      "cell_type": "code",
      "source": [
        "X_tmp = pd.DataFrame(X_tmp, columns=selector.get_feature_names_out())\n",
        "X_tmp.head()"
      ],
      "metadata": {
        "colab": {
          "base_uri": "https://localhost:8080/",
          "height": 206
        },
        "id": "QTBNsr7CfAGQ",
        "outputId": "20ea0f54-ac62-4fc1-813e-7d91ccaa3f2e"
      },
      "execution_count": 206,
      "outputs": [
        {
          "output_type": "execute_result",
          "data": {
            "text/plain": [
              "         x0        x1        x2        x3        x4        x5        x6  \\\n",
              "0  1.213097  1.633915  2.102642  3.314249 -0.919435 -1.177928  1.300646   \n",
              "1 -6.107529  1.842324 -2.916649  0.481011  1.224465 -1.027143 -0.384007   \n",
              "2  1.212808  1.361291  2.042496  2.991770  1.345239 -1.387665 -2.940474   \n",
              "3  3.233899 -3.031896  4.898737  1.246724  0.485339 -1.024519  0.258203   \n",
              "4 -1.656295 -3.138347  3.525218 -2.447759  2.255503 -1.842972 -0.894616   \n",
              "\n",
              "         x8       x15       x17  \n",
              "0  3.410967  0.161502 -0.729076  \n",
              "1  1.489769 -2.988388  0.408755  \n",
              "2  4.857754 -0.954248  2.074078  \n",
              "3  0.403660 -0.397676 -0.406789  \n",
              "4  0.100586  1.045310  0.197884  "
            ],
            "text/html": [
              "\n",
              "  <div id=\"df-a73ac82f-3dbd-4c50-ad23-76e32ae8bbfc\">\n",
              "    <div class=\"colab-df-container\">\n",
              "      <div>\n",
              "<style scoped>\n",
              "    .dataframe tbody tr th:only-of-type {\n",
              "        vertical-align: middle;\n",
              "    }\n",
              "\n",
              "    .dataframe tbody tr th {\n",
              "        vertical-align: top;\n",
              "    }\n",
              "\n",
              "    .dataframe thead th {\n",
              "        text-align: right;\n",
              "    }\n",
              "</style>\n",
              "<table border=\"1\" class=\"dataframe\">\n",
              "  <thead>\n",
              "    <tr style=\"text-align: right;\">\n",
              "      <th></th>\n",
              "      <th>x0</th>\n",
              "      <th>x1</th>\n",
              "      <th>x2</th>\n",
              "      <th>x3</th>\n",
              "      <th>x4</th>\n",
              "      <th>x5</th>\n",
              "      <th>x6</th>\n",
              "      <th>x8</th>\n",
              "      <th>x15</th>\n",
              "      <th>x17</th>\n",
              "    </tr>\n",
              "  </thead>\n",
              "  <tbody>\n",
              "    <tr>\n",
              "      <th>0</th>\n",
              "      <td>1.213097</td>\n",
              "      <td>1.633915</td>\n",
              "      <td>2.102642</td>\n",
              "      <td>3.314249</td>\n",
              "      <td>-0.919435</td>\n",
              "      <td>-1.177928</td>\n",
              "      <td>1.300646</td>\n",
              "      <td>3.410967</td>\n",
              "      <td>0.161502</td>\n",
              "      <td>-0.729076</td>\n",
              "    </tr>\n",
              "    <tr>\n",
              "      <th>1</th>\n",
              "      <td>-6.107529</td>\n",
              "      <td>1.842324</td>\n",
              "      <td>-2.916649</td>\n",
              "      <td>0.481011</td>\n",
              "      <td>1.224465</td>\n",
              "      <td>-1.027143</td>\n",
              "      <td>-0.384007</td>\n",
              "      <td>1.489769</td>\n",
              "      <td>-2.988388</td>\n",
              "      <td>0.408755</td>\n",
              "    </tr>\n",
              "    <tr>\n",
              "      <th>2</th>\n",
              "      <td>1.212808</td>\n",
              "      <td>1.361291</td>\n",
              "      <td>2.042496</td>\n",
              "      <td>2.991770</td>\n",
              "      <td>1.345239</td>\n",
              "      <td>-1.387665</td>\n",
              "      <td>-2.940474</td>\n",
              "      <td>4.857754</td>\n",
              "      <td>-0.954248</td>\n",
              "      <td>2.074078</td>\n",
              "    </tr>\n",
              "    <tr>\n",
              "      <th>3</th>\n",
              "      <td>3.233899</td>\n",
              "      <td>-3.031896</td>\n",
              "      <td>4.898737</td>\n",
              "      <td>1.246724</td>\n",
              "      <td>0.485339</td>\n",
              "      <td>-1.024519</td>\n",
              "      <td>0.258203</td>\n",
              "      <td>0.403660</td>\n",
              "      <td>-0.397676</td>\n",
              "      <td>-0.406789</td>\n",
              "    </tr>\n",
              "    <tr>\n",
              "      <th>4</th>\n",
              "      <td>-1.656295</td>\n",
              "      <td>-3.138347</td>\n",
              "      <td>3.525218</td>\n",
              "      <td>-2.447759</td>\n",
              "      <td>2.255503</td>\n",
              "      <td>-1.842972</td>\n",
              "      <td>-0.894616</td>\n",
              "      <td>0.100586</td>\n",
              "      <td>1.045310</td>\n",
              "      <td>0.197884</td>\n",
              "    </tr>\n",
              "  </tbody>\n",
              "</table>\n",
              "</div>\n",
              "      <button class=\"colab-df-convert\" onclick=\"convertToInteractive('df-a73ac82f-3dbd-4c50-ad23-76e32ae8bbfc')\"\n",
              "              title=\"Convert this dataframe to an interactive table.\"\n",
              "              style=\"display:none;\">\n",
              "        \n",
              "  <svg xmlns=\"http://www.w3.org/2000/svg\" height=\"24px\"viewBox=\"0 0 24 24\"\n",
              "       width=\"24px\">\n",
              "    <path d=\"M0 0h24v24H0V0z\" fill=\"none\"/>\n",
              "    <path d=\"M18.56 5.44l.94 2.06.94-2.06 2.06-.94-2.06-.94-.94-2.06-.94 2.06-2.06.94zm-11 1L8.5 8.5l.94-2.06 2.06-.94-2.06-.94L8.5 2.5l-.94 2.06-2.06.94zm10 10l.94 2.06.94-2.06 2.06-.94-2.06-.94-.94-2.06-.94 2.06-2.06.94z\"/><path d=\"M17.41 7.96l-1.37-1.37c-.4-.4-.92-.59-1.43-.59-.52 0-1.04.2-1.43.59L10.3 9.45l-7.72 7.72c-.78.78-.78 2.05 0 2.83L4 21.41c.39.39.9.59 1.41.59.51 0 1.02-.2 1.41-.59l7.78-7.78 2.81-2.81c.8-.78.8-2.07 0-2.86zM5.41 20L4 18.59l7.72-7.72 1.47 1.35L5.41 20z\"/>\n",
              "  </svg>\n",
              "      </button>\n",
              "      \n",
              "  <style>\n",
              "    .colab-df-container {\n",
              "      display:flex;\n",
              "      flex-wrap:wrap;\n",
              "      gap: 12px;\n",
              "    }\n",
              "\n",
              "    .colab-df-convert {\n",
              "      background-color: #E8F0FE;\n",
              "      border: none;\n",
              "      border-radius: 50%;\n",
              "      cursor: pointer;\n",
              "      display: none;\n",
              "      fill: #1967D2;\n",
              "      height: 32px;\n",
              "      padding: 0 0 0 0;\n",
              "      width: 32px;\n",
              "    }\n",
              "\n",
              "    .colab-df-convert:hover {\n",
              "      background-color: #E2EBFA;\n",
              "      box-shadow: 0px 1px 2px rgba(60, 64, 67, 0.3), 0px 1px 3px 1px rgba(60, 64, 67, 0.15);\n",
              "      fill: #174EA6;\n",
              "    }\n",
              "\n",
              "    [theme=dark] .colab-df-convert {\n",
              "      background-color: #3B4455;\n",
              "      fill: #D2E3FC;\n",
              "    }\n",
              "\n",
              "    [theme=dark] .colab-df-convert:hover {\n",
              "      background-color: #434B5C;\n",
              "      box-shadow: 0px 1px 3px 1px rgba(0, 0, 0, 0.15);\n",
              "      filter: drop-shadow(0px 1px 2px rgba(0, 0, 0, 0.3));\n",
              "      fill: #FFFFFF;\n",
              "    }\n",
              "  </style>\n",
              "\n",
              "      <script>\n",
              "        const buttonEl =\n",
              "          document.querySelector('#df-a73ac82f-3dbd-4c50-ad23-76e32ae8bbfc button.colab-df-convert');\n",
              "        buttonEl.style.display =\n",
              "          google.colab.kernel.accessAllowed ? 'block' : 'none';\n",
              "\n",
              "        async function convertToInteractive(key) {\n",
              "          const element = document.querySelector('#df-a73ac82f-3dbd-4c50-ad23-76e32ae8bbfc');\n",
              "          const dataTable =\n",
              "            await google.colab.kernel.invokeFunction('convertToInteractive',\n",
              "                                                     [key], {});\n",
              "          if (!dataTable) return;\n",
              "\n",
              "          const docLinkHtml = 'Like what you see? Visit the ' +\n",
              "            '<a target=\"_blank\" href=https://colab.research.google.com/notebooks/data_table.ipynb>data table notebook</a>'\n",
              "            + ' to learn more about interactive tables.';\n",
              "          element.innerHTML = '';\n",
              "          dataTable['output_type'] = 'display_data';\n",
              "          await google.colab.output.renderOutput(dataTable, element);\n",
              "          const docLink = document.createElement('div');\n",
              "          docLink.innerHTML = docLinkHtml;\n",
              "          element.appendChild(docLink);\n",
              "        }\n",
              "      </script>\n",
              "    </div>\n",
              "  </div>\n",
              "  "
            ]
          },
          "metadata": {},
          "execution_count": 206
        }
      ]
    },
    {
      "cell_type": "code",
      "source": [
        "cross_val_score(LogisticRegression(), X_tmp, y, scoring='accuracy').mean()"
      ],
      "metadata": {
        "colab": {
          "base_uri": "https://localhost:8080/"
        },
        "id": "e3SXLYekfGSi",
        "outputId": "32757847-36fe-43b1-e824-69536bb322c6"
      },
      "execution_count": 207,
      "outputs": [
        {
          "output_type": "execute_result",
          "data": {
            "text/plain": [
              "0.93"
            ]
          },
          "metadata": {},
          "execution_count": 207
        }
      ]
    },
    {
      "cell_type": "markdown",
      "source": [
        "## Выводы\n",
        "| Метод отбора признаков                                                    | score |\n",
        "|---------------------------------------------------------------------------|-------|\n",
        "| Baseline                                                                  | 0.9   |\n",
        "| Удалены признаки с высокой корреляцией                                    | 0.9   |\n",
        "| VarianceThreshold(threshold=3.6)                                          | 0.91  |\n",
        "| SelectKBest(k=5)                                                          | 0.95  |\n",
        "| SelectFromModel(estimator=LogisticRegression(solver='saga', penalty='l1') | 0.91  |\n",
        "| RandomForestClassifier, nlargest(5)                                       | 0.95  |\n",
        "| RandomForestClassifier, nlargest(1)                                       | 0.96  |\n",
        "| SequentialFeatureSelector(RandomForestClassifier())                       | 0.93  |\n",
        "\n",
        "Методы отбора признаков существенно улучшают качество модели.\n",
        "По счастливому стечению обстоятельств максимальный результат получен всего на одном признаке с высокой корреляцией с целевой переменной."
      ],
      "metadata": {
        "id": "pU4ks1RxfWQA"
      }
    }
  ]
}