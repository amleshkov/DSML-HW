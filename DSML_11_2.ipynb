{
 "cells": [
  {
   "cell_type": "markdown",
   "id": "2bb54b38",
   "metadata": {
    "id": "2bb54b38"
   },
   "source": [
    "# Домашнее задание «Функции потерь и оптимизация»\n",
    "## Реализация логистической регресии\n",
    "\n",
    "Для собственной реализации логистической регрессии в качестве функции потерь используем бинарную кросс-энтропию.\n",
    "\n",
    "Для оптимизации поиска минимума функции потерь используем стохастический градиентный спуск (SGD)\n",
    "\n",
    "Алгоритм будет иметь встроенный аналог SandardScaler"
   ]
  },
  {
   "cell_type": "code",
   "execution_count": null,
   "id": "f6df8cc7",
   "metadata": {
    "id": "f6df8cc7"
   },
   "outputs": [],
   "source": [
    "import numpy as np\n",
    "import pandas as pd\n",
    "from numpy.typing import ArrayLike"
   ]
  },
  {
   "cell_type": "code",
   "execution_count": null,
   "id": "0f49083a",
   "metadata": {
    "id": "0f49083a"
   },
   "outputs": [],
   "source": [
    "class CustomLogisticRegression:\n",
    "    \n",
    "    def __init__(self, bs:int, epochs:int, lr:float) -> None:\n",
    "        '''\n",
    "        Создает экземпляр модели логистической регресси с указанными параметрами\n",
    "        \n",
    "        Параметры\n",
    "        ---------\n",
    "        bs : размер батча для SDG\n",
    "        epochs: количество итераций\n",
    "        lr : learning rate\n",
    "        '''\n",
    "        self._bs = bs\n",
    "        self._epochs = epochs\n",
    "        self._lr = lr\n",
    "    \n",
    "    def _sigmoid(self, z:ArrayLike) -> ArrayLike:\n",
    "        '''\n",
    "        реализация функции сигмоида\n",
    "        '''\n",
    "        return 1.0/(1 + np.exp(-z))\n",
    "        \n",
    "    def _loss(self, y:float, y_p:float) -> float:\n",
    "        '''\n",
    "        Возвращает значение функции потерь\n",
    "        \n",
    "        Парметры\n",
    "        --------\n",
    "        y : истиное значение класса\n",
    "        y_p : предсказаное значение класса\n",
    "        '''\n",
    "        return -np.mean(y*(np.log(y_p)) - (1-y)*np.log(1-y_p))\n",
    "    \n",
    "    def _derivatives(self, X:ArrayLike, y:int, y_p:int) -> (float, float):\n",
    "        '''\n",
    "        Возвращает производные для коэффициентов tetha0(b) и tetha1(w)\n",
    "        \n",
    "        Параметры\n",
    "        ---------\n",
    "        X : массив признаков\n",
    "        y : истинное значение класса\n",
    "        y_p : предсказанное значение класса\n",
    "        \n",
    "        Возвращает\n",
    "        ----------\n",
    "        dw : производная для tetha1\n",
    "        db : производная для tetha0\n",
    "        '''\n",
    "        m = X.shape[0]\n",
    "        dw = (1/m)*np.dot(X.T, (y_p - y))\n",
    "        db = (1/m)*np.sum((y_p - y))\n",
    "        return dw, db\n",
    "    \n",
    "    def _scale(self, X: ArrayLike) -> ArrayLike:\n",
    "        '''\n",
    "        Аналог StandardScaler\n",
    "        \n",
    "        Параметры\n",
    "        ---------\n",
    "        X : массив признаков\n",
    "        \n",
    "        Возвращает\n",
    "        ----------\n",
    "        X : преобразованый массив признаков\n",
    "        '''\n",
    "        m, n = X.shape\n",
    "        for i in range(n):\n",
    "            X = (X - X.mean(axis=0))/X.std(axis=0)\n",
    "        return X\n",
    "        \n",
    "    def fit(self, X:ArrayLike, y:ArrayLike) -> None:\n",
    "        '''\n",
    "        Обучает экземпляр модели\n",
    "        \n",
    "        Параметры\n",
    "        ---------\n",
    "        X : массив признаков\n",
    "        y : массив истинных значений класса\n",
    "        '''\n",
    "        m, n = X.shape\n",
    "        \n",
    "        # устанавливаем начальные значения w и b\n",
    "        w = np.zeros((n,1))\n",
    "        b = 0\n",
    "        \n",
    "        # решейпим y\n",
    "        try:\n",
    "            y = y.reshape(m,1)\n",
    "        except AttributeError:\n",
    "            y = y.to_numpy().reshape(m,1)\n",
    "        \n",
    "        # нормализуем пространство признаков\n",
    "        x = self._scale(X)\n",
    "        \n",
    "        losses = []\n",
    "        for epoch in range(self._epochs):\n",
    "            ## Определяем батчи для SGD\n",
    "            for i in range((m-1)//self._bs +1):\n",
    "                start_iter = i*self._bs\n",
    "                stop_iter = start_iter + self._bs\n",
    "                xb = X[start_iter:stop_iter]\n",
    "                yb = y[start_iter:stop_iter]\n",
    "                \n",
    "                # Вычисляем вероятность значения класса\n",
    "                y_p = self._sigmoid(np.dot(xb, w) + b)\n",
    "                \n",
    "                # Получаем значения производных для tetha0 и tetha1\n",
    "                dw, db = self._derivatives(xb, yb, y_p)\n",
    "                \n",
    "                # Обновляем значения tetha0 и tetha1\n",
    "                w = w - self._lr*dw\n",
    "                b = b - self._lr*db\n",
    "                \n",
    "            # Вычисляем loss и добавляем к списку\n",
    "            y_p = self._sigmoid(np.dot(X, w) + b)\n",
    "            l = self._loss(y, y_p)\n",
    "            losses.append(l)\n",
    "        self.losses = losses\n",
    "        self.w = w\n",
    "        self.b = b\n",
    "    \n",
    "    def predict(self, X:ArrayLike) -> ArrayLike:\n",
    "        '''\n",
    "        Возвращает вычисленный массив классов\n",
    "        \n",
    "        Параметры\n",
    "        ---------\n",
    "        X : массив признаков\n",
    "        \n",
    "        Возвращает\n",
    "        ----------\n",
    "        y_p : массив классов\n",
    "        '''\n",
    "        \n",
    "        preds = [p[0] for p in self.predict_proba(X)]\n",
    "        pred_class = []\n",
    "        # 1 если y_p >= 0.5\n",
    "        # 0 если y_p < 0.5\n",
    "        pred_class = [1 if i > 0.5 else 0 for i in preds]\n",
    "        return np.array(pred_class)\n",
    "    \n",
    "    def predict_proba(self, X:ArrayLike) -> ArrayLike:\n",
    "        '''\n",
    "        Возвращает вероятность принадлежности к тому или иному классу\n",
    "        \n",
    "        Параметры\n",
    "        ---------\n",
    "        X : массив признаков\n",
    "        \n",
    "        Возвращает\n",
    "        ----------\n",
    "        T : массив вероятностей принадлежности к тому или иному классу\n",
    "        '''\n",
    "        \n",
    "        # нормализуем пространство признаков\n",
    "        x = self._scale(X)\n",
    "        preds = self._sigmoid(np.dot(x, self.w) + self.b)\n",
    "        pred_proba = []\n",
    "        pred_proba = [[p, 1-p] for p in preds]\n",
    "        return pred_proba\n",
    "    \n",
    "    def score(self, X:ArrayLike, y:ArrayLike) -> float:\n",
    "        '''\n",
    "        Возвращает среднюю точность (accuracy) модели:\n",
    "        \n",
    "        Параметры\n",
    "        ---------\n",
    "        X: массив признаков\n",
    "        y : массив истинных классов\n",
    "        \n",
    "        \n",
    "        Возвращает\n",
    "        ----------\n",
    "        score: средняя точность модели\n",
    "        '''\n",
    "        y_p = self.predict(X)\n",
    "        score = np.sum(y == y_p) / len(y)\n",
    "        return score"
   ]
  },
  {
   "cell_type": "markdown",
   "id": "d226ebd6",
   "metadata": {
    "id": "d226ebd6"
   },
   "source": [
    "### Проверка работы модели\n",
    "Загрузим датасет iris"
   ]
  },
  {
   "cell_type": "code",
   "execution_count": null,
   "id": "10f811fe",
   "metadata": {
    "id": "10f811fe"
   },
   "outputs": [],
   "source": [
    "from sklearn.datasets import load_iris"
   ]
  },
  {
   "cell_type": "code",
   "execution_count": null,
   "id": "1c8ff5d2",
   "metadata": {
    "id": "1c8ff5d2"
   },
   "outputs": [],
   "source": [
    "dataset = load_iris()"
   ]
  },
  {
   "cell_type": "code",
   "execution_count": null,
   "id": "d50fe04b",
   "metadata": {
    "id": "d50fe04b"
   },
   "outputs": [],
   "source": [
    "df = pd.DataFrame(data= np.c_[dataset['data'], dataset['target']],\n",
    "                     columns= dataset['feature_names'] + ['target'])"
   ]
  },
  {
   "cell_type": "code",
   "execution_count": null,
   "id": "c7b28011",
   "metadata": {
    "id": "c7b28011",
    "outputId": "f07c7db3-29fe-4d68-e049-199033c7bb23"
   },
   "outputs": [
    {
     "data": {
      "text/html": [
       "<div>\n",
       "<style scoped>\n",
       "    .dataframe tbody tr th:only-of-type {\n",
       "        vertical-align: middle;\n",
       "    }\n",
       "\n",
       "    .dataframe tbody tr th {\n",
       "        vertical-align: top;\n",
       "    }\n",
       "\n",
       "    .dataframe thead th {\n",
       "        text-align: right;\n",
       "    }\n",
       "</style>\n",
       "<table border=\"1\" class=\"dataframe\">\n",
       "  <thead>\n",
       "    <tr style=\"text-align: right;\">\n",
       "      <th></th>\n",
       "      <th>sepal length (cm)</th>\n",
       "      <th>sepal width (cm)</th>\n",
       "      <th>petal length (cm)</th>\n",
       "      <th>petal width (cm)</th>\n",
       "      <th>target</th>\n",
       "    </tr>\n",
       "  </thead>\n",
       "  <tbody>\n",
       "    <tr>\n",
       "      <th>0</th>\n",
       "      <td>5.1</td>\n",
       "      <td>3.5</td>\n",
       "      <td>1.4</td>\n",
       "      <td>0.2</td>\n",
       "      <td>0.0</td>\n",
       "    </tr>\n",
       "    <tr>\n",
       "      <th>1</th>\n",
       "      <td>4.9</td>\n",
       "      <td>3.0</td>\n",
       "      <td>1.4</td>\n",
       "      <td>0.2</td>\n",
       "      <td>0.0</td>\n",
       "    </tr>\n",
       "    <tr>\n",
       "      <th>2</th>\n",
       "      <td>4.7</td>\n",
       "      <td>3.2</td>\n",
       "      <td>1.3</td>\n",
       "      <td>0.2</td>\n",
       "      <td>0.0</td>\n",
       "    </tr>\n",
       "    <tr>\n",
       "      <th>3</th>\n",
       "      <td>4.6</td>\n",
       "      <td>3.1</td>\n",
       "      <td>1.5</td>\n",
       "      <td>0.2</td>\n",
       "      <td>0.0</td>\n",
       "    </tr>\n",
       "    <tr>\n",
       "      <th>4</th>\n",
       "      <td>5.0</td>\n",
       "      <td>3.6</td>\n",
       "      <td>1.4</td>\n",
       "      <td>0.2</td>\n",
       "      <td>0.0</td>\n",
       "    </tr>\n",
       "    <tr>\n",
       "      <th>...</th>\n",
       "      <td>...</td>\n",
       "      <td>...</td>\n",
       "      <td>...</td>\n",
       "      <td>...</td>\n",
       "      <td>...</td>\n",
       "    </tr>\n",
       "    <tr>\n",
       "      <th>145</th>\n",
       "      <td>6.7</td>\n",
       "      <td>3.0</td>\n",
       "      <td>5.2</td>\n",
       "      <td>2.3</td>\n",
       "      <td>2.0</td>\n",
       "    </tr>\n",
       "    <tr>\n",
       "      <th>146</th>\n",
       "      <td>6.3</td>\n",
       "      <td>2.5</td>\n",
       "      <td>5.0</td>\n",
       "      <td>1.9</td>\n",
       "      <td>2.0</td>\n",
       "    </tr>\n",
       "    <tr>\n",
       "      <th>147</th>\n",
       "      <td>6.5</td>\n",
       "      <td>3.0</td>\n",
       "      <td>5.2</td>\n",
       "      <td>2.0</td>\n",
       "      <td>2.0</td>\n",
       "    </tr>\n",
       "    <tr>\n",
       "      <th>148</th>\n",
       "      <td>6.2</td>\n",
       "      <td>3.4</td>\n",
       "      <td>5.4</td>\n",
       "      <td>2.3</td>\n",
       "      <td>2.0</td>\n",
       "    </tr>\n",
       "    <tr>\n",
       "      <th>149</th>\n",
       "      <td>5.9</td>\n",
       "      <td>3.0</td>\n",
       "      <td>5.1</td>\n",
       "      <td>1.8</td>\n",
       "      <td>2.0</td>\n",
       "    </tr>\n",
       "  </tbody>\n",
       "</table>\n",
       "<p>150 rows × 5 columns</p>\n",
       "</div>"
      ],
      "text/plain": [
       "     sepal length (cm)  sepal width (cm)  petal length (cm)  petal width (cm)  \\\n",
       "0                  5.1               3.5                1.4               0.2   \n",
       "1                  4.9               3.0                1.4               0.2   \n",
       "2                  4.7               3.2                1.3               0.2   \n",
       "3                  4.6               3.1                1.5               0.2   \n",
       "4                  5.0               3.6                1.4               0.2   \n",
       "..                 ...               ...                ...               ...   \n",
       "145                6.7               3.0                5.2               2.3   \n",
       "146                6.3               2.5                5.0               1.9   \n",
       "147                6.5               3.0                5.2               2.0   \n",
       "148                6.2               3.4                5.4               2.3   \n",
       "149                5.9               3.0                5.1               1.8   \n",
       "\n",
       "     target  \n",
       "0       0.0  \n",
       "1       0.0  \n",
       "2       0.0  \n",
       "3       0.0  \n",
       "4       0.0  \n",
       "..      ...  \n",
       "145     2.0  \n",
       "146     2.0  \n",
       "147     2.0  \n",
       "148     2.0  \n",
       "149     2.0  \n",
       "\n",
       "[150 rows x 5 columns]"
      ]
     },
     "execution_count": 225,
     "metadata": {},
     "output_type": "execute_result"
    }
   ],
   "source": [
    "df"
   ]
  },
  {
   "cell_type": "markdown",
   "id": "3e88bad4",
   "metadata": {
    "id": "3e88bad4"
   },
   "source": [
    "Отфильтруем класс Setosa. Оставшие метки классов преобразуем к [0,1]"
   ]
  },
  {
   "cell_type": "code",
   "execution_count": null,
   "id": "36e8eb6a",
   "metadata": {
    "id": "36e8eb6a"
   },
   "outputs": [],
   "source": [
    "df_filtered = df[df[\"target\"] != 0]"
   ]
  },
  {
   "cell_type": "code",
   "execution_count": null,
   "id": "1d9f0b31",
   "metadata": {
    "id": "1d9f0b31",
    "outputId": "76cd3840-aef9-457b-e89e-0127063c8e48"
   },
   "outputs": [
    {
     "name": "stderr",
     "output_type": "stream",
     "text": [
      "/home/anonymous/Projects/lab/lib/python3.10/site-packages/pandas/core/generic.py:6619: SettingWithCopyWarning: \n",
      "A value is trying to be set on a copy of a slice from a DataFrame\n",
      "\n",
      "See the caveats in the documentation: https://pandas.pydata.org/pandas-docs/stable/user_guide/indexing.html#returning-a-view-versus-a-copy\n",
      "  return self._update_inplace(result)\n"
     ]
    }
   ],
   "source": [
    "df_filtered['target'].replace(to_replace={1:0, 2:1}, inplace=True)"
   ]
  },
  {
   "cell_type": "code",
   "execution_count": null,
   "id": "dd7b3b57",
   "metadata": {
    "id": "dd7b3b57",
    "outputId": "e5c1ec0d-a066-4c36-8b8d-13f9c85214d6"
   },
   "outputs": [
    {
     "data": {
      "text/html": [
       "<div>\n",
       "<style scoped>\n",
       "    .dataframe tbody tr th:only-of-type {\n",
       "        vertical-align: middle;\n",
       "    }\n",
       "\n",
       "    .dataframe tbody tr th {\n",
       "        vertical-align: top;\n",
       "    }\n",
       "\n",
       "    .dataframe thead th {\n",
       "        text-align: right;\n",
       "    }\n",
       "</style>\n",
       "<table border=\"1\" class=\"dataframe\">\n",
       "  <thead>\n",
       "    <tr style=\"text-align: right;\">\n",
       "      <th></th>\n",
       "      <th>sepal length (cm)</th>\n",
       "      <th>sepal width (cm)</th>\n",
       "      <th>petal length (cm)</th>\n",
       "      <th>petal width (cm)</th>\n",
       "      <th>target</th>\n",
       "    </tr>\n",
       "  </thead>\n",
       "  <tbody>\n",
       "    <tr>\n",
       "      <th>50</th>\n",
       "      <td>7.0</td>\n",
       "      <td>3.2</td>\n",
       "      <td>4.7</td>\n",
       "      <td>1.4</td>\n",
       "      <td>0.0</td>\n",
       "    </tr>\n",
       "    <tr>\n",
       "      <th>51</th>\n",
       "      <td>6.4</td>\n",
       "      <td>3.2</td>\n",
       "      <td>4.5</td>\n",
       "      <td>1.5</td>\n",
       "      <td>0.0</td>\n",
       "    </tr>\n",
       "    <tr>\n",
       "      <th>52</th>\n",
       "      <td>6.9</td>\n",
       "      <td>3.1</td>\n",
       "      <td>4.9</td>\n",
       "      <td>1.5</td>\n",
       "      <td>0.0</td>\n",
       "    </tr>\n",
       "    <tr>\n",
       "      <th>53</th>\n",
       "      <td>5.5</td>\n",
       "      <td>2.3</td>\n",
       "      <td>4.0</td>\n",
       "      <td>1.3</td>\n",
       "      <td>0.0</td>\n",
       "    </tr>\n",
       "    <tr>\n",
       "      <th>54</th>\n",
       "      <td>6.5</td>\n",
       "      <td>2.8</td>\n",
       "      <td>4.6</td>\n",
       "      <td>1.5</td>\n",
       "      <td>0.0</td>\n",
       "    </tr>\n",
       "    <tr>\n",
       "      <th>...</th>\n",
       "      <td>...</td>\n",
       "      <td>...</td>\n",
       "      <td>...</td>\n",
       "      <td>...</td>\n",
       "      <td>...</td>\n",
       "    </tr>\n",
       "    <tr>\n",
       "      <th>145</th>\n",
       "      <td>6.7</td>\n",
       "      <td>3.0</td>\n",
       "      <td>5.2</td>\n",
       "      <td>2.3</td>\n",
       "      <td>1.0</td>\n",
       "    </tr>\n",
       "    <tr>\n",
       "      <th>146</th>\n",
       "      <td>6.3</td>\n",
       "      <td>2.5</td>\n",
       "      <td>5.0</td>\n",
       "      <td>1.9</td>\n",
       "      <td>1.0</td>\n",
       "    </tr>\n",
       "    <tr>\n",
       "      <th>147</th>\n",
       "      <td>6.5</td>\n",
       "      <td>3.0</td>\n",
       "      <td>5.2</td>\n",
       "      <td>2.0</td>\n",
       "      <td>1.0</td>\n",
       "    </tr>\n",
       "    <tr>\n",
       "      <th>148</th>\n",
       "      <td>6.2</td>\n",
       "      <td>3.4</td>\n",
       "      <td>5.4</td>\n",
       "      <td>2.3</td>\n",
       "      <td>1.0</td>\n",
       "    </tr>\n",
       "    <tr>\n",
       "      <th>149</th>\n",
       "      <td>5.9</td>\n",
       "      <td>3.0</td>\n",
       "      <td>5.1</td>\n",
       "      <td>1.8</td>\n",
       "      <td>1.0</td>\n",
       "    </tr>\n",
       "  </tbody>\n",
       "</table>\n",
       "<p>100 rows × 5 columns</p>\n",
       "</div>"
      ],
      "text/plain": [
       "     sepal length (cm)  sepal width (cm)  petal length (cm)  petal width (cm)  \\\n",
       "50                 7.0               3.2                4.7               1.4   \n",
       "51                 6.4               3.2                4.5               1.5   \n",
       "52                 6.9               3.1                4.9               1.5   \n",
       "53                 5.5               2.3                4.0               1.3   \n",
       "54                 6.5               2.8                4.6               1.5   \n",
       "..                 ...               ...                ...               ...   \n",
       "145                6.7               3.0                5.2               2.3   \n",
       "146                6.3               2.5                5.0               1.9   \n",
       "147                6.5               3.0                5.2               2.0   \n",
       "148                6.2               3.4                5.4               2.3   \n",
       "149                5.9               3.0                5.1               1.8   \n",
       "\n",
       "     target  \n",
       "50      0.0  \n",
       "51      0.0  \n",
       "52      0.0  \n",
       "53      0.0  \n",
       "54      0.0  \n",
       "..      ...  \n",
       "145     1.0  \n",
       "146     1.0  \n",
       "147     1.0  \n",
       "148     1.0  \n",
       "149     1.0  \n",
       "\n",
       "[100 rows x 5 columns]"
      ]
     },
     "execution_count": 228,
     "metadata": {},
     "output_type": "execute_result"
    }
   ],
   "source": [
    "df_filtered"
   ]
  },
  {
   "cell_type": "markdown",
   "id": "1bc84b3f",
   "metadata": {
    "id": "1bc84b3f"
   },
   "source": [
    "Матрица корреляции признаков"
   ]
  },
  {
   "cell_type": "code",
   "execution_count": null,
   "id": "1a4a0c90",
   "metadata": {
    "id": "1a4a0c90"
   },
   "outputs": [],
   "source": [
    "import matplotlib.pyplot as plt\n",
    "import seaborn as sns"
   ]
  },
  {
   "cell_type": "code",
   "execution_count": null,
   "id": "b4e09df4",
   "metadata": {
    "id": "b4e09df4",
    "outputId": "fde749a0-3299-4743-9eb0-b34fd75ed48b"
   },
   "outputs": [
    {
     "name": "stderr",
     "output_type": "stream",
     "text": [
      "/tmp/ipykernel_338951/1496439667.py:3: DeprecationWarning: `np.bool` is a deprecated alias for the builtin `bool`. To silence this warning, use `bool` by itself. Doing this will not modify any behavior and is safe. If you specifically wanted the numpy scalar type, use `np.bool_` here.\n",
      "Deprecated in NumPy 1.20; for more details and guidance: https://numpy.org/devdocs/release/1.20.0-notes.html#deprecations\n",
      "  sns.heatmap(corr, mask=np.zeros_like(corr, dtype=np.bool),\n"
     ]
    },
    {
     "data": {
      "text/plain": [
       "<AxesSubplot:>"
      ]
     },
     "execution_count": 230,
     "metadata": {},
     "output_type": "execute_result"
    },
    {
     "data": {
      "image/png": "[encoded data removed]",
      "text/plain": [
       "<Figure size 2160x2160 with 2 Axes>"
      ]
     },
     "metadata": {
      "needs_background": "light"
     },
     "output_type": "display_data"
    }
   ],
   "source": [
    "f, ax = plt.subplots(figsize=(30,30))\n",
    "corr = df_filtered.corr()\n",
    "sns.heatmap(corr, mask=np.zeros_like(corr, dtype=np.bool),\n",
    "            cmap=sns.diverging_palette(220, 10, as_cmap=True),\n",
    "            square=True, ax=ax)"
   ]
  },
  {
   "cell_type": "markdown",
   "id": "c84257c5",
   "metadata": {
    "id": "c84257c5"
   },
   "source": [
    "Хорошо видно, что между классом и признаками есть заметная корреляция\n",
    "Подготовим данные для обучения и проверки"
   ]
  },
  {
   "cell_type": "code",
   "execution_count": null,
   "id": "75146e90",
   "metadata": {
    "id": "75146e90"
   },
   "outputs": [],
   "source": [
    "X = df_filtered[dataset['feature_names']]\n",
    "y = df_filtered['target']"
   ]
  },
  {
   "cell_type": "code",
   "execution_count": null,
   "id": "9e4b5730",
   "metadata": {
    "id": "9e4b5730"
   },
   "outputs": [],
   "source": [
    "from sklearn.model_selection import train_test_split\n"
   ]
  },
  {
   "cell_type": "code",
   "execution_count": null,
   "id": "2012c8f7",
   "metadata": {
    "id": "2012c8f7"
   },
   "outputs": [],
   "source": [
    "X_train, X_test, y_train, y_test = train_test_split(X, y, test_size=0.2, random_state=0)"
   ]
  },
  {
   "cell_type": "markdown",
   "id": "3f91d855",
   "metadata": {
    "id": "3f91d855"
   },
   "source": [
    "Для нашей модели выберем следующие гиперпараметры:\n",
    "\n",
    "Batch Size: 30\n",
    "\n",
    "epochs: 1000\n",
    "\n",
    "leraning rate: 0.01\n"
   ]
  },
  {
   "cell_type": "code",
   "execution_count": null,
   "id": "5db8866e",
   "metadata": {
    "id": "5db8866e"
   },
   "outputs": [],
   "source": [
    "custom_model = CustomLogisticRegression(bs=30, epochs=1000, lr=0.01)"
   ]
  },
  {
   "cell_type": "markdown",
   "id": "e7b46663",
   "metadata": {
    "id": "e7b46663"
   },
   "source": [
    "Обучим модель с замером скорости обучения"
   ]
  },
  {
   "cell_type": "code",
   "execution_count": null,
   "id": "4fdf8039",
   "metadata": {
    "id": "4fdf8039",
    "outputId": "07970f75-70b6-4555-a7b0-6a38a041c401"
   },
   "outputs": [
    {
     "name": "stdout",
     "output_type": "stream",
     "text": [
      "746 ms ± 26.6 ms per loop (mean ± std. dev. of 7 runs, 1 loop each)\n"
     ]
    }
   ],
   "source": [
    "%%timeit\n",
    "custom_model.fit(X_train, y_train)"
   ]
  },
  {
   "cell_type": "markdown",
   "id": "7d0f47a6",
   "metadata": {
    "id": "7d0f47a6"
   },
   "source": [
    "Точность модели"
   ]
  },
  {
   "cell_type": "code",
   "execution_count": null,
   "id": "de5b5889",
   "metadata": {
    "id": "de5b5889",
    "outputId": "8ad4aaa5-7ed1-463a-ded0-24f91884edea"
   },
   "outputs": [
    {
     "data": {
      "text/plain": [
       "0.9"
      ]
     },
     "execution_count": 238,
     "metadata": {},
     "output_type": "execute_result"
    }
   ],
   "source": [
    "custom_model.score(X_train, y_train)"
   ]
  },
  {
   "cell_type": "code",
   "execution_count": null,
   "id": "fc20f8df",
   "metadata": {
    "id": "fc20f8df",
    "outputId": "dcec9c5b-53df-4812-ca2b-79de34489af7"
   },
   "outputs": [
    {
     "data": {
      "text/plain": [
       "0.9"
      ]
     },
     "execution_count": 239,
     "metadata": {},
     "output_type": "execute_result"
    }
   ],
   "source": [
    "custom_model.score(X_test, y_test)"
   ]
  },
  {
   "cell_type": "markdown",
   "id": "645870f8",
   "metadata": {
    "id": "645870f8"
   },
   "source": [
    "Сравним нашу модель с LogisticRegression"
   ]
  },
  {
   "cell_type": "code",
   "execution_count": null,
   "id": "154a0083",
   "metadata": {
    "id": "154a0083"
   },
   "outputs": [],
   "source": [
    "from sklearn.linear_model import LogisticRegression\n",
    "from sklearn.preprocessing import StandardScaler\n",
    "from sklearn.pipeline import make_pipeline"
   ]
  },
  {
   "cell_type": "markdown",
   "id": "4aee5252",
   "metadata": {
    "id": "4aee5252"
   },
   "source": [
    "Для предобработки будем в пайплайне использовать StandardScaler, по аналогии с нашей моделью"
   ]
  },
  {
   "cell_type": "code",
   "execution_count": null,
   "id": "636c4193",
   "metadata": {
    "id": "636c4193"
   },
   "outputs": [],
   "source": [
    "pipeline = make_pipeline(StandardScaler(), LogisticRegression(max_iter=1000))"
   ]
  },
  {
   "cell_type": "code",
   "execution_count": null,
   "id": "6400cc37",
   "metadata": {
    "id": "6400cc37",
    "outputId": "53022191-2c03-4bf7-aa4f-42acc72758d1"
   },
   "outputs": [
    {
     "name": "stdout",
     "output_type": "stream",
     "text": [
      "4.05 ms ± 215 µs per loop (mean ± std. dev. of 7 runs, 100 loops each)\n"
     ]
    }
   ],
   "source": [
    "%%timeit\n",
    "pipeline.fit(X_train, y_train)"
   ]
  },
  {
   "cell_type": "code",
   "execution_count": null,
   "id": "4703a90f",
   "metadata": {
    "id": "4703a90f",
    "outputId": "33f37ee6-b1d7-46d5-f282-42c04c99a975"
   },
   "outputs": [
    {
     "data": {
      "text/plain": [
       "0.975"
      ]
     },
     "execution_count": 243,
     "metadata": {},
     "output_type": "execute_result"
    }
   ],
   "source": [
    "pipeline.score(X_train, y_train)"
   ]
  },
  {
   "cell_type": "code",
   "execution_count": null,
   "id": "1dd33dfd",
   "metadata": {
    "id": "1dd33dfd",
    "outputId": "7cf545cd-c5df-49c3-d27f-4ea7d0264a19"
   },
   "outputs": [
    {
     "data": {
      "text/plain": [
       "0.9"
      ]
     },
     "execution_count": 244,
     "metadata": {},
     "output_type": "execute_result"
    }
   ],
   "source": [
    "pipeline.score(X_test, y_test)"
   ]
  },
  {
   "cell_type": "markdown",
   "id": "7fee660d",
   "metadata": {
    "id": "7fee660d"
   },
   "source": [
    "Сравним нашу модель с моделью LogisticRegression обученой с помощью SGD (аналогично нашей модели)"
   ]
  },
  {
   "cell_type": "code",
   "execution_count": null,
   "id": "dba0c09b",
   "metadata": {
    "id": "dba0c09b"
   },
   "outputs": [],
   "source": [
    "from sklearn.linear_model import SGDClassifier"
   ]
  },
  {
   "cell_type": "markdown",
   "id": "83cbe950",
   "metadata": {
    "id": "83cbe950"
   },
   "source": [
    "Гиперпараметры выбираем аналогично нашей модели"
   ]
  },
  {
   "cell_type": "code",
   "execution_count": null,
   "id": "6515afbe",
   "metadata": {
    "id": "6515afbe"
   },
   "outputs": [],
   "source": [
    "pipeline = make_pipeline(StandardScaler(), SGDClassifier(loss='log', max_iter=1000, learning_rate='constant',\n",
    "                                                        eta0=0.01))"
   ]
  },
  {
   "cell_type": "code",
   "execution_count": null,
   "id": "0e71ddee",
   "metadata": {
    "id": "0e71ddee",
    "outputId": "fbbd3a95-da11-4262-c63a-5893575d3edd"
   },
   "outputs": [
    {
     "name": "stdout",
     "output_type": "stream",
     "text": [
      "2.37 ms ± 66.1 µs per loop (mean ± std. dev. of 7 runs, 100 loops each)\n"
     ]
    }
   ],
   "source": [
    "%%timeit\n",
    "pipeline.fit(X_train, y_train)"
   ]
  },
  {
   "cell_type": "code",
   "execution_count": null,
   "id": "83926e98",
   "metadata": {
    "id": "83926e98",
    "outputId": "8a72427c-dec5-49c3-9e30-2657c5b9173d"
   },
   "outputs": [
    {
     "data": {
      "text/plain": [
       "0.975"
      ]
     },
     "execution_count": 248,
     "metadata": {},
     "output_type": "execute_result"
    }
   ],
   "source": [
    "pipeline.score(X_train, y_train)"
   ]
  },
  {
   "cell_type": "code",
   "execution_count": null,
   "id": "f14d0685",
   "metadata": {
    "id": "f14d0685",
    "outputId": "a2d0fcf3-6b15-44ef-ca77-241572e14188"
   },
   "outputs": [
    {
     "data": {
      "text/plain": [
       "0.9"
      ]
     },
     "execution_count": 249,
     "metadata": {},
     "output_type": "execute_result"
    }
   ],
   "source": [
    "pipeline.score(X_test, y_test)"
   ]
  },
  {
   "cell_type": "markdown",
   "id": "32696eee",
   "metadata": {
    "id": "32696eee"
   },
   "source": [
    "### Выводы\n",
    "Видно, что наша модель работает почти в 20 раз медленней библиотечной LogisticRegression и почти в 40 раз медленее SGDClassifier.\n",
    "\n",
    "Точность на тренировочных данных библиотечная модель дает выше, на тестовых результат идентичен.\n",
    "\n",
    "| model                               | train score | test score | time              |\n",
    "|-------------------------------------|-------------|------------|-------------------|\n",
    "| Custom LogisticRegression           | 0.9         | 0.9        | 746 ms ± 26.6 ms  |\n",
    "| LogisticRegression + StandardSclaer | 0.975       | 0.9        | 4.05 ms ± 215 µs  |\n",
    "| SGDClassifier + StandardScaler      | 0.975       | 0.9        | 2.37 ms ± 66.1 µs |\n"
   ]
  },
  {
   "cell_type": "code",
   "execution_count": null,
   "id": "b08871f4",
   "metadata": {
    "id": "b08871f4"
   },
   "outputs": [],
   "source": []
  }
 ],
 "metadata": {
  "colab": {
   "provenance": []
  },
  "kernelspec": {
   "display_name": "Python 3",
   "language": "python",
   "name": "python3"
  },
  "language_info": {
   "codemirror_mode": {
    "name": "ipython",
    "version": 3
   },
   "file_extension": ".py",
   "mimetype": "text/x-python",
   "name": "python",
   "nbconvert_exporter": "python",
   "pygments_lexer": "ipython3",
   "version": "3.10.8"
  }
 },
 "nbformat": 4,
 "nbformat_minor": 5
}
