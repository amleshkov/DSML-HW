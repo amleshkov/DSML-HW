{
 "cells": [
  {
   "cell_type": "markdown",
   "metadata": {
    "id": "cDmPG54JEwv3"
   },
   "source": [
    "## Домашнее задание «Проблема качества данных»\n"
   ]
  },
  {
   "cell_type": "code",
   "execution_count": 1,
   "metadata": {
    "colab": {
     "base_uri": "https://localhost:8080/"
    },
    "id": "xR5OKtsPEo0c",
    "outputId": "d2f28654-1e92-4b48-cc57-a9a56f8098d3"
   },
   "outputs": [
    {
     "name": "stdout",
     "output_type": "stream",
     "text": [
      "--2022-11-04 12:33:31--  https://raw.githubusercontent.com/datasciencedojo/datasets/master/titanic.csv\n",
      "Loaded CA certificate '/etc/ssl/certs/ca-certificates.crt'\n",
      "Resolving raw.githubusercontent.com (raw.githubusercontent.com)... 185.199.108.133, 185.199.109.133, 185.199.110.133, ...\n",
      "Connecting to raw.githubusercontent.com (raw.githubusercontent.com)|185.199.108.133|:443... connected.\n",
      "HTTP request sent, awaiting response... 200 OK\n",
      "Length: 60302 (59K) [text/plain]\n",
      "Saving to: ‘titanic.csv’\n",
      "\n",
      "titanic.csv         100%[===================>]  58,89K  --.-KB/s    in 0,05s   \n",
      "\n",
      "2022-11-04 12:33:31 (1,13 MB/s) - ‘titanic.csv’ saved [60302/60302]\n",
      "\n"
     ]
    }
   ],
   "source": [
    "!wget https://raw.githubusercontent.com/datasciencedojo/datasets/master/titanic.csv"
   ]
  },
  {
   "cell_type": "code",
   "execution_count": 2,
   "metadata": {
    "id": "gru9MCvaE4ZQ"
   },
   "outputs": [],
   "source": [
    "import pandas as pd"
   ]
  },
  {
   "cell_type": "code",
   "execution_count": 3,
   "metadata": {
    "id": "0P3WDI-gE-mw"
   },
   "outputs": [],
   "source": [
    "data = pd.read_csv(\"titanic.csv\")"
   ]
  },
  {
   "cell_type": "code",
   "execution_count": 4,
   "metadata": {
    "colab": {
     "base_uri": "https://localhost:8080/",
     "height": 206
    },
    "id": "tEh1FPiMFGA2",
    "outputId": "3892cf70-248c-4262-e026-b14d02466d5c"
   },
   "outputs": [
    {
     "data": {
      "text/html": [
       "<div>\n",
       "<style scoped>\n",
       "    .dataframe tbody tr th:only-of-type {\n",
       "        vertical-align: middle;\n",
       "    }\n",
       "\n",
       "    .dataframe tbody tr th {\n",
       "        vertical-align: top;\n",
       "    }\n",
       "\n",
       "    .dataframe thead th {\n",
       "        text-align: right;\n",
       "    }\n",
       "</style>\n",
       "<table border=\"1\" class=\"dataframe\">\n",
       "  <thead>\n",
       "    <tr style=\"text-align: right;\">\n",
       "      <th></th>\n",
       "      <th>PassengerId</th>\n",
       "      <th>Survived</th>\n",
       "      <th>Pclass</th>\n",
       "      <th>Name</th>\n",
       "      <th>Sex</th>\n",
       "      <th>Age</th>\n",
       "      <th>SibSp</th>\n",
       "      <th>Parch</th>\n",
       "      <th>Ticket</th>\n",
       "      <th>Fare</th>\n",
       "      <th>Cabin</th>\n",
       "      <th>Embarked</th>\n",
       "    </tr>\n",
       "  </thead>\n",
       "  <tbody>\n",
       "    <tr>\n",
       "      <th>0</th>\n",
       "      <td>1</td>\n",
       "      <td>0</td>\n",
       "      <td>3</td>\n",
       "      <td>Braund, Mr. Owen Harris</td>\n",
       "      <td>male</td>\n",
       "      <td>22.0</td>\n",
       "      <td>1</td>\n",
       "      <td>0</td>\n",
       "      <td>A/5 21171</td>\n",
       "      <td>7.2500</td>\n",
       "      <td>NaN</td>\n",
       "      <td>S</td>\n",
       "    </tr>\n",
       "    <tr>\n",
       "      <th>1</th>\n",
       "      <td>2</td>\n",
       "      <td>1</td>\n",
       "      <td>1</td>\n",
       "      <td>Cumings, Mrs. John Bradley (Florence Briggs Th...</td>\n",
       "      <td>female</td>\n",
       "      <td>38.0</td>\n",
       "      <td>1</td>\n",
       "      <td>0</td>\n",
       "      <td>PC 17599</td>\n",
       "      <td>71.2833</td>\n",
       "      <td>C85</td>\n",
       "      <td>C</td>\n",
       "    </tr>\n",
       "    <tr>\n",
       "      <th>2</th>\n",
       "      <td>3</td>\n",
       "      <td>1</td>\n",
       "      <td>3</td>\n",
       "      <td>Heikkinen, Miss. Laina</td>\n",
       "      <td>female</td>\n",
       "      <td>26.0</td>\n",
       "      <td>0</td>\n",
       "      <td>0</td>\n",
       "      <td>STON/O2. 3101282</td>\n",
       "      <td>7.9250</td>\n",
       "      <td>NaN</td>\n",
       "      <td>S</td>\n",
       "    </tr>\n",
       "    <tr>\n",
       "      <th>3</th>\n",
       "      <td>4</td>\n",
       "      <td>1</td>\n",
       "      <td>1</td>\n",
       "      <td>Futrelle, Mrs. Jacques Heath (Lily May Peel)</td>\n",
       "      <td>female</td>\n",
       "      <td>35.0</td>\n",
       "      <td>1</td>\n",
       "      <td>0</td>\n",
       "      <td>113803</td>\n",
       "      <td>53.1000</td>\n",
       "      <td>C123</td>\n",
       "      <td>S</td>\n",
       "    </tr>\n",
       "    <tr>\n",
       "      <th>4</th>\n",
       "      <td>5</td>\n",
       "      <td>0</td>\n",
       "      <td>3</td>\n",
       "      <td>Allen, Mr. William Henry</td>\n",
       "      <td>male</td>\n",
       "      <td>35.0</td>\n",
       "      <td>0</td>\n",
       "      <td>0</td>\n",
       "      <td>373450</td>\n",
       "      <td>8.0500</td>\n",
       "      <td>NaN</td>\n",
       "      <td>S</td>\n",
       "    </tr>\n",
       "  </tbody>\n",
       "</table>\n",
       "</div>"
      ],
      "text/plain": [
       "   PassengerId  Survived  Pclass  \\\n",
       "0            1         0       3   \n",
       "1            2         1       1   \n",
       "2            3         1       3   \n",
       "3            4         1       1   \n",
       "4            5         0       3   \n",
       "\n",
       "                                                Name     Sex   Age  SibSp  \\\n",
       "0                            Braund, Mr. Owen Harris    male  22.0      1   \n",
       "1  Cumings, Mrs. John Bradley (Florence Briggs Th...  female  38.0      1   \n",
       "2                             Heikkinen, Miss. Laina  female  26.0      0   \n",
       "3       Futrelle, Mrs. Jacques Heath (Lily May Peel)  female  35.0      1   \n",
       "4                           Allen, Mr. William Henry    male  35.0      0   \n",
       "\n",
       "   Parch            Ticket     Fare Cabin Embarked  \n",
       "0      0         A/5 21171   7.2500   NaN        S  \n",
       "1      0          PC 17599  71.2833   C85        C  \n",
       "2      0  STON/O2. 3101282   7.9250   NaN        S  \n",
       "3      0            113803  53.1000  C123        S  \n",
       "4      0            373450   8.0500   NaN        S  "
      ]
     },
     "execution_count": 4,
     "metadata": {},
     "output_type": "execute_result"
    }
   ],
   "source": [
    "data.head()"
   ]
  },
  {
   "cell_type": "markdown",
   "metadata": {
    "id": "AETabpvh18ZR"
   },
   "source": [
    "Посмотрим на пропуски"
   ]
  },
  {
   "cell_type": "code",
   "execution_count": 5,
   "metadata": {
    "colab": {
     "base_uri": "https://localhost:8080/"
    },
    "id": "tbKLvw0PFHKd",
    "outputId": "87b5a862-6639-4aa8-ccb9-5f644df766cd"
   },
   "outputs": [
    {
     "name": "stdout",
     "output_type": "stream",
     "text": [
      "<class 'pandas.core.frame.DataFrame'>\n",
      "RangeIndex: 891 entries, 0 to 890\n",
      "Data columns (total 12 columns):\n",
      " #   Column       Non-Null Count  Dtype  \n",
      "---  ------       --------------  -----  \n",
      " 0   PassengerId  891 non-null    int64  \n",
      " 1   Survived     891 non-null    int64  \n",
      " 2   Pclass       891 non-null    int64  \n",
      " 3   Name         891 non-null    object \n",
      " 4   Sex          891 non-null    object \n",
      " 5   Age          714 non-null    float64\n",
      " 6   SibSp        891 non-null    int64  \n",
      " 7   Parch        891 non-null    int64  \n",
      " 8   Ticket       891 non-null    object \n",
      " 9   Fare         891 non-null    float64\n",
      " 10  Cabin        204 non-null    object \n",
      " 11  Embarked     889 non-null    object \n",
      "dtypes: float64(2), int64(5), object(5)\n",
      "memory usage: 83.7+ KB\n"
     ]
    }
   ],
   "source": [
    "data.info()"
   ]
  },
  {
   "cell_type": "markdown",
   "metadata": {
    "id": "k4t30f792BTP"
   },
   "source": [
    "Видим, что есть отсутствующие значения в колонке Age и очень мало данных в колонке Cabin\n",
    "\n",
    "Посмотрим на статистику"
   ]
  },
  {
   "cell_type": "code",
   "execution_count": 6,
   "metadata": {
    "colab": {
     "base_uri": "https://localhost:8080/",
     "height": 300
    },
    "id": "ckSv2zejI3-6",
    "outputId": "a48e507d-4f64-4f7f-9848-719c0f0fa3bb"
   },
   "outputs": [
    {
     "data": {
      "text/html": [
       "<div>\n",
       "<style scoped>\n",
       "    .dataframe tbody tr th:only-of-type {\n",
       "        vertical-align: middle;\n",
       "    }\n",
       "\n",
       "    .dataframe tbody tr th {\n",
       "        vertical-align: top;\n",
       "    }\n",
       "\n",
       "    .dataframe thead th {\n",
       "        text-align: right;\n",
       "    }\n",
       "</style>\n",
       "<table border=\"1\" class=\"dataframe\">\n",
       "  <thead>\n",
       "    <tr style=\"text-align: right;\">\n",
       "      <th></th>\n",
       "      <th>PassengerId</th>\n",
       "      <th>Survived</th>\n",
       "      <th>Pclass</th>\n",
       "      <th>Age</th>\n",
       "      <th>SibSp</th>\n",
       "      <th>Parch</th>\n",
       "      <th>Fare</th>\n",
       "    </tr>\n",
       "  </thead>\n",
       "  <tbody>\n",
       "    <tr>\n",
       "      <th>count</th>\n",
       "      <td>891.000000</td>\n",
       "      <td>891.000000</td>\n",
       "      <td>891.000000</td>\n",
       "      <td>714.000000</td>\n",
       "      <td>891.000000</td>\n",
       "      <td>891.000000</td>\n",
       "      <td>891.000000</td>\n",
       "    </tr>\n",
       "    <tr>\n",
       "      <th>mean</th>\n",
       "      <td>446.000000</td>\n",
       "      <td>0.383838</td>\n",
       "      <td>2.308642</td>\n",
       "      <td>29.699118</td>\n",
       "      <td>0.523008</td>\n",
       "      <td>0.381594</td>\n",
       "      <td>32.204208</td>\n",
       "    </tr>\n",
       "    <tr>\n",
       "      <th>std</th>\n",
       "      <td>257.353842</td>\n",
       "      <td>0.486592</td>\n",
       "      <td>0.836071</td>\n",
       "      <td>14.526497</td>\n",
       "      <td>1.102743</td>\n",
       "      <td>0.806057</td>\n",
       "      <td>49.693429</td>\n",
       "    </tr>\n",
       "    <tr>\n",
       "      <th>min</th>\n",
       "      <td>1.000000</td>\n",
       "      <td>0.000000</td>\n",
       "      <td>1.000000</td>\n",
       "      <td>0.420000</td>\n",
       "      <td>0.000000</td>\n",
       "      <td>0.000000</td>\n",
       "      <td>0.000000</td>\n",
       "    </tr>\n",
       "    <tr>\n",
       "      <th>25%</th>\n",
       "      <td>223.500000</td>\n",
       "      <td>0.000000</td>\n",
       "      <td>2.000000</td>\n",
       "      <td>20.125000</td>\n",
       "      <td>0.000000</td>\n",
       "      <td>0.000000</td>\n",
       "      <td>7.910400</td>\n",
       "    </tr>\n",
       "    <tr>\n",
       "      <th>50%</th>\n",
       "      <td>446.000000</td>\n",
       "      <td>0.000000</td>\n",
       "      <td>3.000000</td>\n",
       "      <td>28.000000</td>\n",
       "      <td>0.000000</td>\n",
       "      <td>0.000000</td>\n",
       "      <td>14.454200</td>\n",
       "    </tr>\n",
       "    <tr>\n",
       "      <th>75%</th>\n",
       "      <td>668.500000</td>\n",
       "      <td>1.000000</td>\n",
       "      <td>3.000000</td>\n",
       "      <td>38.000000</td>\n",
       "      <td>1.000000</td>\n",
       "      <td>0.000000</td>\n",
       "      <td>31.000000</td>\n",
       "    </tr>\n",
       "    <tr>\n",
       "      <th>max</th>\n",
       "      <td>891.000000</td>\n",
       "      <td>1.000000</td>\n",
       "      <td>3.000000</td>\n",
       "      <td>80.000000</td>\n",
       "      <td>8.000000</td>\n",
       "      <td>6.000000</td>\n",
       "      <td>512.329200</td>\n",
       "    </tr>\n",
       "  </tbody>\n",
       "</table>\n",
       "</div>"
      ],
      "text/plain": [
       "       PassengerId    Survived      Pclass         Age       SibSp  \\\n",
       "count   891.000000  891.000000  891.000000  714.000000  891.000000   \n",
       "mean    446.000000    0.383838    2.308642   29.699118    0.523008   \n",
       "std     257.353842    0.486592    0.836071   14.526497    1.102743   \n",
       "min       1.000000    0.000000    1.000000    0.420000    0.000000   \n",
       "25%     223.500000    0.000000    2.000000   20.125000    0.000000   \n",
       "50%     446.000000    0.000000    3.000000   28.000000    0.000000   \n",
       "75%     668.500000    1.000000    3.000000   38.000000    1.000000   \n",
       "max     891.000000    1.000000    3.000000   80.000000    8.000000   \n",
       "\n",
       "            Parch        Fare  \n",
       "count  891.000000  891.000000  \n",
       "mean     0.381594   32.204208  \n",
       "std      0.806057   49.693429  \n",
       "min      0.000000    0.000000  \n",
       "25%      0.000000    7.910400  \n",
       "50%      0.000000   14.454200  \n",
       "75%      0.000000   31.000000  \n",
       "max      6.000000  512.329200  "
      ]
     },
     "execution_count": 6,
     "metadata": {},
     "output_type": "execute_result"
    }
   ],
   "source": [
    "data.describe()"
   ]
  },
  {
   "cell_type": "markdown",
   "metadata": {
    "id": "N9pmbTz82wRg"
   },
   "source": [
    "### \"Наивная\" модель\n",
    "Создадим \"наивную\" модель, выкинув все пропуски и категориальные признаки\n",
    "\n",
    "Выкидываем колонку `Cabin` целиком"
   ]
  },
  {
   "cell_type": "code",
   "execution_count": 7,
   "metadata": {
    "id": "hwJ0-SJoMuJC"
   },
   "outputs": [],
   "source": [
    "data.drop(columns=['Cabin'], axis=1, inplace=True)"
   ]
  },
  {
   "cell_type": "markdown",
   "metadata": {
    "id": "E7Y8g5Oo3dEW"
   },
   "source": [
    "Удалим строки с пропущенными значениями"
   ]
  },
  {
   "cell_type": "code",
   "execution_count": 8,
   "metadata": {
    "id": "GMaeyEZVM1yT"
   },
   "outputs": [],
   "source": [
    "data.dropna(inplace=True)"
   ]
  },
  {
   "cell_type": "code",
   "execution_count": 9,
   "metadata": {
    "colab": {
     "base_uri": "https://localhost:8080/"
    },
    "id": "lPl3Tcw73mmV",
    "outputId": "67d28407-ff2a-4428-cbf9-8aaccb088bb6"
   },
   "outputs": [
    {
     "name": "stdout",
     "output_type": "stream",
     "text": [
      "<class 'pandas.core.frame.DataFrame'>\n",
      "Int64Index: 712 entries, 0 to 890\n",
      "Data columns (total 11 columns):\n",
      " #   Column       Non-Null Count  Dtype  \n",
      "---  ------       --------------  -----  \n",
      " 0   PassengerId  712 non-null    int64  \n",
      " 1   Survived     712 non-null    int64  \n",
      " 2   Pclass       712 non-null    int64  \n",
      " 3   Name         712 non-null    object \n",
      " 4   Sex          712 non-null    object \n",
      " 5   Age          712 non-null    float64\n",
      " 6   SibSp        712 non-null    int64  \n",
      " 7   Parch        712 non-null    int64  \n",
      " 8   Ticket       712 non-null    object \n",
      " 9   Fare         712 non-null    float64\n",
      " 10  Embarked     712 non-null    object \n",
      "dtypes: float64(2), int64(5), object(4)\n",
      "memory usage: 66.8+ KB\n"
     ]
    }
   ],
   "source": [
    "data.info()"
   ]
  },
  {
   "cell_type": "markdown",
   "metadata": {
    "id": "9kRYhZIr-BWR"
   },
   "source": [
    "Удалим все нечисловые категориальные колонки"
   ]
  },
  {
   "cell_type": "code",
   "execution_count": 10,
   "metadata": {
    "id": "6WwAp7RP3xru"
   },
   "outputs": [],
   "source": [
    "data.drop(columns=['Name', 'Sex', 'Ticket', 'Embarked'], axis=1, inplace=True)"
   ]
  },
  {
   "cell_type": "code",
   "execution_count": 11,
   "metadata": {
    "colab": {
     "base_uri": "https://localhost:8080/",
     "height": 206
    },
    "id": "IaiI9FFP-cmi",
    "outputId": "a15cd079-25cd-4693-9912-866f549803b6"
   },
   "outputs": [
    {
     "data": {
      "text/html": [
       "<div>\n",
       "<style scoped>\n",
       "    .dataframe tbody tr th:only-of-type {\n",
       "        vertical-align: middle;\n",
       "    }\n",
       "\n",
       "    .dataframe tbody tr th {\n",
       "        vertical-align: top;\n",
       "    }\n",
       "\n",
       "    .dataframe thead th {\n",
       "        text-align: right;\n",
       "    }\n",
       "</style>\n",
       "<table border=\"1\" class=\"dataframe\">\n",
       "  <thead>\n",
       "    <tr style=\"text-align: right;\">\n",
       "      <th></th>\n",
       "      <th>PassengerId</th>\n",
       "      <th>Survived</th>\n",
       "      <th>Pclass</th>\n",
       "      <th>Age</th>\n",
       "      <th>SibSp</th>\n",
       "      <th>Parch</th>\n",
       "      <th>Fare</th>\n",
       "    </tr>\n",
       "  </thead>\n",
       "  <tbody>\n",
       "    <tr>\n",
       "      <th>0</th>\n",
       "      <td>1</td>\n",
       "      <td>0</td>\n",
       "      <td>3</td>\n",
       "      <td>22.0</td>\n",
       "      <td>1</td>\n",
       "      <td>0</td>\n",
       "      <td>7.2500</td>\n",
       "    </tr>\n",
       "    <tr>\n",
       "      <th>1</th>\n",
       "      <td>2</td>\n",
       "      <td>1</td>\n",
       "      <td>1</td>\n",
       "      <td>38.0</td>\n",
       "      <td>1</td>\n",
       "      <td>0</td>\n",
       "      <td>71.2833</td>\n",
       "    </tr>\n",
       "    <tr>\n",
       "      <th>2</th>\n",
       "      <td>3</td>\n",
       "      <td>1</td>\n",
       "      <td>3</td>\n",
       "      <td>26.0</td>\n",
       "      <td>0</td>\n",
       "      <td>0</td>\n",
       "      <td>7.9250</td>\n",
       "    </tr>\n",
       "    <tr>\n",
       "      <th>3</th>\n",
       "      <td>4</td>\n",
       "      <td>1</td>\n",
       "      <td>1</td>\n",
       "      <td>35.0</td>\n",
       "      <td>1</td>\n",
       "      <td>0</td>\n",
       "      <td>53.1000</td>\n",
       "    </tr>\n",
       "    <tr>\n",
       "      <th>4</th>\n",
       "      <td>5</td>\n",
       "      <td>0</td>\n",
       "      <td>3</td>\n",
       "      <td>35.0</td>\n",
       "      <td>0</td>\n",
       "      <td>0</td>\n",
       "      <td>8.0500</td>\n",
       "    </tr>\n",
       "  </tbody>\n",
       "</table>\n",
       "</div>"
      ],
      "text/plain": [
       "   PassengerId  Survived  Pclass   Age  SibSp  Parch     Fare\n",
       "0            1         0       3  22.0      1      0   7.2500\n",
       "1            2         1       1  38.0      1      0  71.2833\n",
       "2            3         1       3  26.0      0      0   7.9250\n",
       "3            4         1       1  35.0      1      0  53.1000\n",
       "4            5         0       3  35.0      0      0   8.0500"
      ]
     },
     "execution_count": 11,
     "metadata": {},
     "output_type": "execute_result"
    }
   ],
   "source": [
    "data.head()"
   ]
  },
  {
   "cell_type": "markdown",
   "metadata": {
    "id": "X4Pb0zq8-0q1"
   },
   "source": [
    "Разделим данные на массив признаков и массив меток класса"
   ]
  },
  {
   "cell_type": "code",
   "execution_count": 12,
   "metadata": {
    "id": "1cVvjdMm-d6I"
   },
   "outputs": [],
   "source": [
    "X = data.drop(columns=['Survived'], axis=1)\n",
    "y = data['Survived']"
   ]
  },
  {
   "cell_type": "markdown",
   "metadata": {
    "id": "Q2SXK-2F_BRW"
   },
   "source": [
    "Для обучения возьмем LogisticRegression + StandartScaler"
   ]
  },
  {
   "cell_type": "code",
   "execution_count": 13,
   "metadata": {
    "id": "mX5TCrXt-7bw"
   },
   "outputs": [],
   "source": [
    "from sklearn.model_selection import train_test_split\n",
    "from sklearn.preprocessing import StandardScaler\n",
    "from sklearn.linear_model import LogisticRegression\n",
    "from sklearn.pipeline import make_pipeline\n",
    "from sklearn.metrics import roc_auc_score, f1_score"
   ]
  },
  {
   "cell_type": "code",
   "execution_count": 14,
   "metadata": {
    "id": "s4xLrGHh-9D1"
   },
   "outputs": [],
   "source": [
    "model = make_pipeline(StandardScaler(), LogisticRegression())"
   ]
  },
  {
   "cell_type": "code",
   "execution_count": 15,
   "metadata": {
    "id": "9e8PUJpDA6Xr"
   },
   "outputs": [],
   "source": [
    "X_train, X_test, y_train, y_test = train_test_split(X, y, train_size=0.8, random_state=0)"
   ]
  },
  {
   "cell_type": "code",
   "execution_count": 16,
   "metadata": {
    "colab": {
     "base_uri": "https://localhost:8080/"
    },
    "id": "fgOPTmL0BQfG",
    "outputId": "ae2301c2-bd0f-48de-8b0e-4fa485b530cb"
   },
   "outputs": [
    {
     "data": {
      "text/plain": [
       "Pipeline(steps=[('standardscaler', StandardScaler()),\n",
       "                ('logisticregression', LogisticRegression())])"
      ]
     },
     "execution_count": 16,
     "metadata": {},
     "output_type": "execute_result"
    }
   ],
   "source": [
    "model.fit(X_train, y_train)"
   ]
  },
  {
   "cell_type": "markdown",
   "metadata": {
    "id": "xL_sN9EQCLJB"
   },
   "source": [
    "Получим метрики качества ROC_AUC и F1 для тренировочных данных"
   ]
  },
  {
   "cell_type": "code",
   "execution_count": 17,
   "metadata": {
    "id": "_QUVc7XMBjr0"
   },
   "outputs": [],
   "source": [
    "predict_proba = model.predict_proba(X_train)"
   ]
  },
  {
   "cell_type": "code",
   "execution_count": 18,
   "metadata": {
    "colab": {
     "base_uri": "https://localhost:8080/"
    },
    "id": "zH7Vqz6SBpdD",
    "outputId": "1e3e06c2-f775-466a-961b-316767bc3969"
   },
   "outputs": [
    {
     "data": {
      "text/plain": [
       "0.7643300615709612"
      ]
     },
     "execution_count": 18,
     "metadata": {},
     "output_type": "execute_result"
    }
   ],
   "source": [
    "roc_auc_score(y_train, predict_proba[:, 1])"
   ]
  },
  {
   "cell_type": "code",
   "execution_count": 19,
   "metadata": {
    "id": "hlo22Z0ACJi6"
   },
   "outputs": [],
   "source": [
    "predictions = model.predict(X_train)"
   ]
  },
  {
   "cell_type": "code",
   "execution_count": 20,
   "metadata": {
    "colab": {
     "base_uri": "https://localhost:8080/"
    },
    "id": "oxZtWwqnCUlf",
    "outputId": "6d328ccf-87f3-4c00-a34e-b14ef4c5cad0"
   },
   "outputs": [
    {
     "data": {
      "text/plain": [
       "0.5935162094763091"
      ]
     },
     "execution_count": 20,
     "metadata": {},
     "output_type": "execute_result"
    }
   ],
   "source": [
    "f1_score(y_train, predictions)"
   ]
  },
  {
   "cell_type": "markdown",
   "metadata": {
    "id": "V87jZzpMX6bz"
   },
   "source": [
    "Получим эти же метрики с тестовых данных"
   ]
  },
  {
   "cell_type": "code",
   "execution_count": 21,
   "metadata": {
    "id": "KPIuek_0C02p"
   },
   "outputs": [],
   "source": [
    "predict_proba = model.predict_proba(X_test)"
   ]
  },
  {
   "cell_type": "code",
   "execution_count": 22,
   "metadata": {
    "colab": {
     "base_uri": "https://localhost:8080/"
    },
    "id": "WeHTeoI9C7_f",
    "outputId": "c51b8cb8-84e8-43ef-eee4-249fc8c2d584"
   },
   "outputs": [
    {
     "data": {
      "text/plain": [
       "0.7309076369452219"
      ]
     },
     "execution_count": 22,
     "metadata": {},
     "output_type": "execute_result"
    }
   ],
   "source": [
    "roc_auc_score(y_test, predict_proba[:, 1])"
   ]
  },
  {
   "cell_type": "code",
   "execution_count": 23,
   "metadata": {
    "id": "PoawBZ3dYRGX"
   },
   "outputs": [],
   "source": [
    "predictions = model.predict(X_test)"
   ]
  },
  {
   "cell_type": "code",
   "execution_count": 24,
   "metadata": {
    "colab": {
     "base_uri": "https://localhost:8080/"
    },
    "id": "SN7nruHqYUsp",
    "outputId": "ae99625b-6521-41f9-c18d-c036f200ed3a"
   },
   "outputs": [
    {
     "data": {
      "text/plain": [
       "0.5599999999999999"
      ]
     },
     "execution_count": 24,
     "metadata": {},
     "output_type": "execute_result"
    }
   ],
   "source": [
    "f1_score(y_test, predictions)"
   ]
  },
  {
   "cell_type": "markdown",
   "metadata": {
    "id": "rbRq18nwY6fB"
   },
   "source": [
    "### Модель с предварительной обработкой"
   ]
  },
  {
   "cell_type": "code",
   "execution_count": 25,
   "metadata": {
    "id": "L1mnlm-OZOtA"
   },
   "outputs": [],
   "source": [
    "dropna_lenght = len(data)\n",
    "data = pd.read_csv(\"titanic.csv\")\n",
    "full_lenght = len(data)"
   ]
  },
  {
   "cell_type": "markdown",
   "metadata": {
    "id": "fVXN00H3ZvKs"
   },
   "source": [
    "Процент потеряных данных после применения `dropna`"
   ]
  },
  {
   "cell_type": "code",
   "execution_count": 26,
   "metadata": {
    "colab": {
     "base_uri": "https://localhost:8080/"
    },
    "id": "Tvt1XCA4ZPE3",
    "outputId": "5d2a2be3-564b-4f98-8db1-080c4c6b8d9c"
   },
   "outputs": [
    {
     "data": {
      "text/plain": [
       "20.08978675645342"
      ]
     },
     "execution_count": 26,
     "metadata": {},
     "output_type": "execute_result"
    }
   ],
   "source": [
    "(1 - dropna_lenght/full_lenght)*100"
   ]
  },
  {
   "cell_type": "markdown",
   "metadata": {
    "id": "voMQufD0mMqc"
   },
   "source": [
    "Проанализируем цены в зависимости от класса, что-бы определить наличие выбросов\n",
    "\n"
   ]
  },
  {
   "cell_type": "code",
   "execution_count": 31,
   "metadata": {
    "colab": {
     "base_uri": "https://localhost:8080/"
    },
    "id": "wzmqTfHGnVoA",
    "outputId": "14545f49-0051-45cc-b086-15c33a17d4f3"
   },
   "outputs": [
    {
     "name": "stdout",
     "output_type": "stream",
     "text": [
      "+-------+-------+-----+----------+--------------------+--------------------+----------------+\n",
      "| Class | Count | Min |   Max    |        Mean        |       Median       |      Mode      |\n",
      "+-------+-------+-----+----------+--------------------+--------------------+----------------+\n",
      "|   1   |  216  | 0.0 | 512.3292 |     84.1546875     | 60.287499999999994 |   0    26.55   |\n",
      "|       |       |     |          |                    |                    | dtype: float64 |\n",
      "|   2   |  184  | 0.0 |   73.5   | 20.662183152173913 |       14.25        |   0    13.0    |\n",
      "|       |       |     |          |                    |                    | dtype: float64 |\n",
      "|   3   |  491  | 0.0 |  69.55   | 13.675550101832993 |        8.05        |   0    8.05    |\n",
      "|       |       |     |          |                    |                    | dtype: float64 |\n",
      "+-------+-------+-----+----------+--------------------+--------------------+----------------+\n"
     ]
    }
   ],
   "source": [
    "from prettytable import PrettyTable\n",
    "t = PrettyTable([\"Class\", 'Count', 'Min', 'Max', 'Mean', 'Median', 'Mode'])\n",
    "for class_ in [1,2,3]:\n",
    "    fares = data[data['Pclass'] == class_]['Fare']\n",
    "    t.add_row([class_, fares.count(), fares.min(), fares.max(), fares.mean(), fares.median(), fares.mode()])\n",
    "print(t)\n"
   ]
  },
  {
   "cell_type": "markdown",
   "metadata": {
    "id": "2n3gGTTUq7sM"
   },
   "source": [
    "Значение 512.3292 кажется слишком большим, посмотрим на данные с таким значение `Fare`"
   ]
  },
  {
   "cell_type": "code",
   "execution_count": 32,
   "metadata": {
    "colab": {
     "base_uri": "https://localhost:8080/",
     "height": 143
    },
    "id": "e7cdG3T0q7EF",
    "outputId": "801b838f-108b-4656-9dcb-df2006e05e32"
   },
   "outputs": [
    {
     "data": {
      "text/html": [
       "<div>\n",
       "<style scoped>\n",
       "    .dataframe tbody tr th:only-of-type {\n",
       "        vertical-align: middle;\n",
       "    }\n",
       "\n",
       "    .dataframe tbody tr th {\n",
       "        vertical-align: top;\n",
       "    }\n",
       "\n",
       "    .dataframe thead th {\n",
       "        text-align: right;\n",
       "    }\n",
       "</style>\n",
       "<table border=\"1\" class=\"dataframe\">\n",
       "  <thead>\n",
       "    <tr style=\"text-align: right;\">\n",
       "      <th></th>\n",
       "      <th>PassengerId</th>\n",
       "      <th>Survived</th>\n",
       "      <th>Pclass</th>\n",
       "      <th>Name</th>\n",
       "      <th>Sex</th>\n",
       "      <th>Age</th>\n",
       "      <th>SibSp</th>\n",
       "      <th>Parch</th>\n",
       "      <th>Ticket</th>\n",
       "      <th>Fare</th>\n",
       "      <th>Cabin</th>\n",
       "      <th>Embarked</th>\n",
       "    </tr>\n",
       "  </thead>\n",
       "  <tbody>\n",
       "    <tr>\n",
       "      <th>258</th>\n",
       "      <td>259</td>\n",
       "      <td>1</td>\n",
       "      <td>1</td>\n",
       "      <td>Ward, Miss. Anna</td>\n",
       "      <td>female</td>\n",
       "      <td>35.0</td>\n",
       "      <td>0</td>\n",
       "      <td>0</td>\n",
       "      <td>PC 17755</td>\n",
       "      <td>512.3292</td>\n",
       "      <td>NaN</td>\n",
       "      <td>C</td>\n",
       "    </tr>\n",
       "    <tr>\n",
       "      <th>679</th>\n",
       "      <td>680</td>\n",
       "      <td>1</td>\n",
       "      <td>1</td>\n",
       "      <td>Cardeza, Mr. Thomas Drake Martinez</td>\n",
       "      <td>male</td>\n",
       "      <td>36.0</td>\n",
       "      <td>0</td>\n",
       "      <td>1</td>\n",
       "      <td>PC 17755</td>\n",
       "      <td>512.3292</td>\n",
       "      <td>B51 B53 B55</td>\n",
       "      <td>C</td>\n",
       "    </tr>\n",
       "    <tr>\n",
       "      <th>737</th>\n",
       "      <td>738</td>\n",
       "      <td>1</td>\n",
       "      <td>1</td>\n",
       "      <td>Lesurer, Mr. Gustave J</td>\n",
       "      <td>male</td>\n",
       "      <td>35.0</td>\n",
       "      <td>0</td>\n",
       "      <td>0</td>\n",
       "      <td>PC 17755</td>\n",
       "      <td>512.3292</td>\n",
       "      <td>B101</td>\n",
       "      <td>C</td>\n",
       "    </tr>\n",
       "  </tbody>\n",
       "</table>\n",
       "</div>"
      ],
      "text/plain": [
       "     PassengerId  Survived  Pclass                                Name  \\\n",
       "258          259         1       1                    Ward, Miss. Anna   \n",
       "679          680         1       1  Cardeza, Mr. Thomas Drake Martinez   \n",
       "737          738         1       1              Lesurer, Mr. Gustave J   \n",
       "\n",
       "        Sex   Age  SibSp  Parch    Ticket      Fare        Cabin Embarked  \n",
       "258  female  35.0      0      0  PC 17755  512.3292          NaN        C  \n",
       "679    male  36.0      0      1  PC 17755  512.3292  B51 B53 B55        C  \n",
       "737    male  35.0      0      0  PC 17755  512.3292         B101        C  "
      ]
     },
     "execution_count": 32,
     "metadata": {},
     "output_type": "execute_result"
    }
   ],
   "source": [
    "data[data['Fare'] > 512]"
   ]
  },
  {
   "cell_type": "markdown",
   "metadata": {
    "id": "CpccD2D4rNlR"
   },
   "source": [
    "Видно, что это один билет сразу на трех человек с, как миниммум, четырьма каютами."
   ]
  },
  {
   "cell_type": "markdown",
   "metadata": {
    "id": "oBNOKbWHcmzM"
   },
   "source": [
    "Удалим колонку `PassengerId`, т.к. она не несет никакой информации\n",
    "\n",
    "Также удалим колонку `Cabin`, т.к. в ней слишком много пропусков и никакой полезной информации из нее нельзя извлечь\n",
    "\n",
    "Удалим колонку `Ticket`, т.к. номер билета не несет никакой информации"
   ]
  },
  {
   "cell_type": "code",
   "execution_count": 33,
   "metadata": {
    "id": "Z3uDgmT4ZS1c"
   },
   "outputs": [],
   "source": [
    "data.drop(columns=['PassengerId', 'Ticket', 'Cabin'], axis=1, inplace=True)"
   ]
  },
  {
   "cell_type": "code",
   "execution_count": 34,
   "metadata": {
    "colab": {
     "base_uri": "https://localhost:8080/"
    },
    "id": "7BzmhshGaLRX",
    "outputId": "fccee631-3620-422a-e422-4939eab41d1b"
   },
   "outputs": [
    {
     "name": "stdout",
     "output_type": "stream",
     "text": [
      "<class 'pandas.core.frame.DataFrame'>\n",
      "RangeIndex: 891 entries, 0 to 890\n",
      "Data columns (total 9 columns):\n",
      " #   Column    Non-Null Count  Dtype  \n",
      "---  ------    --------------  -----  \n",
      " 0   Survived  891 non-null    int64  \n",
      " 1   Pclass    891 non-null    int64  \n",
      " 2   Name      891 non-null    object \n",
      " 3   Sex       891 non-null    object \n",
      " 4   Age       714 non-null    float64\n",
      " 5   SibSp     891 non-null    int64  \n",
      " 6   Parch     891 non-null    int64  \n",
      " 7   Fare      891 non-null    float64\n",
      " 8   Embarked  889 non-null    object \n",
      "dtypes: float64(2), int64(4), object(3)\n",
      "memory usage: 62.8+ KB\n"
     ]
    }
   ],
   "source": [
    "data.info()"
   ]
  },
  {
   "cell_type": "markdown",
   "metadata": {
    "id": "kZPscbAfeSVT"
   },
   "source": [
    "Преобразуем колонку `Name` путем извлечения из нее обращения (Mrs, Mr, и т.д.)"
   ]
  },
  {
   "cell_type": "code",
   "execution_count": 35,
   "metadata": {
    "id": "mC7FzhgMdxiK"
   },
   "outputs": [],
   "source": [
    "data['Name'] = data['Name'].str.replace(r'^.*?\\,\\s([\\s\\w]+?)\\..*?$', r'\\1', regex=True)"
   ]
  },
  {
   "cell_type": "code",
   "execution_count": 36,
   "metadata": {
    "colab": {
     "base_uri": "https://localhost:8080/",
     "height": 206
    },
    "id": "SZZVhdyifDsU",
    "outputId": "70d6ac03-77b6-4263-87ca-91aeb5d966a4"
   },
   "outputs": [
    {
     "data": {
      "text/html": [
       "<div>\n",
       "<style scoped>\n",
       "    .dataframe tbody tr th:only-of-type {\n",
       "        vertical-align: middle;\n",
       "    }\n",
       "\n",
       "    .dataframe tbody tr th {\n",
       "        vertical-align: top;\n",
       "    }\n",
       "\n",
       "    .dataframe thead th {\n",
       "        text-align: right;\n",
       "    }\n",
       "</style>\n",
       "<table border=\"1\" class=\"dataframe\">\n",
       "  <thead>\n",
       "    <tr style=\"text-align: right;\">\n",
       "      <th></th>\n",
       "      <th>Survived</th>\n",
       "      <th>Pclass</th>\n",
       "      <th>Name</th>\n",
       "      <th>Sex</th>\n",
       "      <th>Age</th>\n",
       "      <th>SibSp</th>\n",
       "      <th>Parch</th>\n",
       "      <th>Fare</th>\n",
       "      <th>Embarked</th>\n",
       "    </tr>\n",
       "  </thead>\n",
       "  <tbody>\n",
       "    <tr>\n",
       "      <th>0</th>\n",
       "      <td>0</td>\n",
       "      <td>3</td>\n",
       "      <td>Mr</td>\n",
       "      <td>male</td>\n",
       "      <td>22.0</td>\n",
       "      <td>1</td>\n",
       "      <td>0</td>\n",
       "      <td>7.2500</td>\n",
       "      <td>S</td>\n",
       "    </tr>\n",
       "    <tr>\n",
       "      <th>1</th>\n",
       "      <td>1</td>\n",
       "      <td>1</td>\n",
       "      <td>Mrs</td>\n",
       "      <td>female</td>\n",
       "      <td>38.0</td>\n",
       "      <td>1</td>\n",
       "      <td>0</td>\n",
       "      <td>71.2833</td>\n",
       "      <td>C</td>\n",
       "    </tr>\n",
       "    <tr>\n",
       "      <th>2</th>\n",
       "      <td>1</td>\n",
       "      <td>3</td>\n",
       "      <td>Miss</td>\n",
       "      <td>female</td>\n",
       "      <td>26.0</td>\n",
       "      <td>0</td>\n",
       "      <td>0</td>\n",
       "      <td>7.9250</td>\n",
       "      <td>S</td>\n",
       "    </tr>\n",
       "    <tr>\n",
       "      <th>3</th>\n",
       "      <td>1</td>\n",
       "      <td>1</td>\n",
       "      <td>Mrs</td>\n",
       "      <td>female</td>\n",
       "      <td>35.0</td>\n",
       "      <td>1</td>\n",
       "      <td>0</td>\n",
       "      <td>53.1000</td>\n",
       "      <td>S</td>\n",
       "    </tr>\n",
       "    <tr>\n",
       "      <th>4</th>\n",
       "      <td>0</td>\n",
       "      <td>3</td>\n",
       "      <td>Mr</td>\n",
       "      <td>male</td>\n",
       "      <td>35.0</td>\n",
       "      <td>0</td>\n",
       "      <td>0</td>\n",
       "      <td>8.0500</td>\n",
       "      <td>S</td>\n",
       "    </tr>\n",
       "  </tbody>\n",
       "</table>\n",
       "</div>"
      ],
      "text/plain": [
       "   Survived  Pclass  Name     Sex   Age  SibSp  Parch     Fare Embarked\n",
       "0         0       3    Mr    male  22.0      1      0   7.2500        S\n",
       "1         1       1   Mrs  female  38.0      1      0  71.2833        C\n",
       "2         1       3  Miss  female  26.0      0      0   7.9250        S\n",
       "3         1       1   Mrs  female  35.0      1      0  53.1000        S\n",
       "4         0       3    Mr    male  35.0      0      0   8.0500        S"
      ]
     },
     "execution_count": 36,
     "metadata": {},
     "output_type": "execute_result"
    }
   ],
   "source": [
    "data.head()"
   ]
  },
  {
   "cell_type": "markdown",
   "metadata": {
    "id": "tWBaj-txgJ42"
   },
   "source": [
    "Обращение косвенно указывает на возраст, проверим эту гипотезу"
   ]
  },
  {
   "cell_type": "code",
   "execution_count": 37,
   "metadata": {
    "id": "9hYRHLaIfGra"
   },
   "outputs": [],
   "source": [
    "from prettytable import PrettyTable\n",
    "t = PrettyTable([\"Title\", 'Count', 'Min', 'Max', 'Mean', 'Median'])\n",
    "for title in data['Name'].unique():\n",
    "    ages = data[data['Name'] == title]['Age']\n",
    "    t.add_row([title, ages.count(), ages.min(), ages.max(), ages.mean(), ages.median()])"
   ]
  },
  {
   "cell_type": "code",
   "execution_count": 38,
   "metadata": {
    "colab": {
     "base_uri": "https://localhost:8080/"
    },
    "id": "4deqmCgkjwQS",
    "outputId": "62e650df-0d92-42c8-f667-719f9e99d39f"
   },
   "outputs": [
    {
     "name": "stdout",
     "output_type": "stream",
     "text": [
      "+--------------+-------+------+------+--------------------+--------+\n",
      "|    Title     | Count | Min  | Max  |        Mean        | Median |\n",
      "+--------------+-------+------+------+--------------------+--------+\n",
      "|      Mr      |  398  | 11.0 | 80.0 | 32.368090452261306 |  30.0  |\n",
      "|     Mrs      |  108  | 14.0 | 63.0 | 35.898148148148145 |  35.0  |\n",
      "|     Miss     |  146  | 0.75 | 63.0 | 21.773972602739725 |  21.0  |\n",
      "|    Master    |   36  | 0.42 | 12.0 | 4.574166666666667  |  3.5   |\n",
      "|     Don      |   1   | 40.0 | 40.0 |        40.0        |  40.0  |\n",
      "|     Rev      |   6   | 27.0 | 57.0 | 43.166666666666664 |  46.5  |\n",
      "|      Dr      |   6   | 23.0 | 54.0 |        42.0        |  46.5  |\n",
      "|     Mme      |   1   | 24.0 | 24.0 |        24.0        |  24.0  |\n",
      "|      Ms      |   1   | 28.0 | 28.0 |        28.0        |  28.0  |\n",
      "|    Major     |   2   | 45.0 | 52.0 |        48.5        |  48.5  |\n",
      "|     Lady     |   1   | 48.0 | 48.0 |        48.0        |  48.0  |\n",
      "|     Sir      |   1   | 49.0 | 49.0 |        49.0        |  49.0  |\n",
      "|     Mlle     |   2   | 24.0 | 24.0 |        24.0        |  24.0  |\n",
      "|     Col      |   2   | 56.0 | 60.0 |        58.0        |  58.0  |\n",
      "|     Capt     |   1   | 70.0 | 70.0 |        70.0        |  70.0  |\n",
      "| the Countess |   1   | 33.0 | 33.0 |        33.0        |  33.0  |\n",
      "|   Jonkheer   |   1   | 38.0 | 38.0 |        38.0        |  38.0  |\n",
      "+--------------+-------+------+------+--------------------+--------+\n"
     ]
    }
   ],
   "source": [
    "print(t)"
   ]
  },
  {
   "cell_type": "code",
   "execution_count": 39,
   "metadata": {
    "colab": {
     "base_uri": "https://localhost:8080/",
     "height": 175
    },
    "id": "E9mXC2BStIbj",
    "outputId": "5748e420-8aa2-47b6-a2d9-f60ffba0630d"
   },
   "outputs": [
    {
     "data": {
      "text/html": [
       "<div>\n",
       "<style scoped>\n",
       "    .dataframe tbody tr th:only-of-type {\n",
       "        vertical-align: middle;\n",
       "    }\n",
       "\n",
       "    .dataframe tbody tr th {\n",
       "        vertical-align: top;\n",
       "    }\n",
       "\n",
       "    .dataframe thead tr th {\n",
       "        text-align: left;\n",
       "    }\n",
       "\n",
       "    .dataframe thead tr:last-of-type th {\n",
       "        text-align: right;\n",
       "    }\n",
       "</style>\n",
       "<table border=\"1\" class=\"dataframe\">\n",
       "  <thead>\n",
       "    <tr>\n",
       "      <th></th>\n",
       "      <th colspan=\"17\" halign=\"left\">Survived</th>\n",
       "    </tr>\n",
       "    <tr>\n",
       "      <th>Name</th>\n",
       "      <th>Capt</th>\n",
       "      <th>Col</th>\n",
       "      <th>Don</th>\n",
       "      <th>Dr</th>\n",
       "      <th>Jonkheer</th>\n",
       "      <th>Lady</th>\n",
       "      <th>Major</th>\n",
       "      <th>Master</th>\n",
       "      <th>Miss</th>\n",
       "      <th>Mlle</th>\n",
       "      <th>Mme</th>\n",
       "      <th>Mr</th>\n",
       "      <th>Mrs</th>\n",
       "      <th>Ms</th>\n",
       "      <th>Rev</th>\n",
       "      <th>Sir</th>\n",
       "      <th>the Countess</th>\n",
       "    </tr>\n",
       "    <tr>\n",
       "      <th>Sex</th>\n",
       "      <th></th>\n",
       "      <th></th>\n",
       "      <th></th>\n",
       "      <th></th>\n",
       "      <th></th>\n",
       "      <th></th>\n",
       "      <th></th>\n",
       "      <th></th>\n",
       "      <th></th>\n",
       "      <th></th>\n",
       "      <th></th>\n",
       "      <th></th>\n",
       "      <th></th>\n",
       "      <th></th>\n",
       "      <th></th>\n",
       "      <th></th>\n",
       "      <th></th>\n",
       "    </tr>\n",
       "  </thead>\n",
       "  <tbody>\n",
       "    <tr>\n",
       "      <th>female</th>\n",
       "      <td>NaN</td>\n",
       "      <td>NaN</td>\n",
       "      <td>NaN</td>\n",
       "      <td>1.0</td>\n",
       "      <td>NaN</td>\n",
       "      <td>1.0</td>\n",
       "      <td>NaN</td>\n",
       "      <td>NaN</td>\n",
       "      <td>182.0</td>\n",
       "      <td>2.0</td>\n",
       "      <td>1.0</td>\n",
       "      <td>NaN</td>\n",
       "      <td>125.0</td>\n",
       "      <td>1.0</td>\n",
       "      <td>NaN</td>\n",
       "      <td>NaN</td>\n",
       "      <td>1.0</td>\n",
       "    </tr>\n",
       "    <tr>\n",
       "      <th>male</th>\n",
       "      <td>1.0</td>\n",
       "      <td>2.0</td>\n",
       "      <td>1.0</td>\n",
       "      <td>6.0</td>\n",
       "      <td>1.0</td>\n",
       "      <td>NaN</td>\n",
       "      <td>2.0</td>\n",
       "      <td>40.0</td>\n",
       "      <td>NaN</td>\n",
       "      <td>NaN</td>\n",
       "      <td>NaN</td>\n",
       "      <td>517.0</td>\n",
       "      <td>NaN</td>\n",
       "      <td>NaN</td>\n",
       "      <td>6.0</td>\n",
       "      <td>1.0</td>\n",
       "      <td>NaN</td>\n",
       "    </tr>\n",
       "  </tbody>\n",
       "</table>\n",
       "</div>"
      ],
      "text/plain": [
       "       Survived                                                             \\\n",
       "Name       Capt  Col  Don   Dr Jonkheer Lady Major Master   Miss Mlle  Mme   \n",
       "Sex                                                                          \n",
       "female      NaN  NaN  NaN  1.0      NaN  1.0   NaN    NaN  182.0  2.0  1.0   \n",
       "male        1.0  2.0  1.0  6.0      1.0  NaN   2.0   40.0    NaN  NaN  NaN   \n",
       "\n",
       "                                                  \n",
       "Name       Mr    Mrs   Ms  Rev  Sir the Countess  \n",
       "Sex                                               \n",
       "female    NaN  125.0  1.0  NaN  NaN          1.0  \n",
       "male    517.0    NaN  NaN  6.0  1.0          NaN  "
      ]
     },
     "execution_count": 39,
     "metadata": {},
     "output_type": "execute_result"
    }
   ],
   "source": [
    "data[['Name', 'Sex', 'Survived']].pivot_table(index='Sex', columns='Name', aggfunc='count')"
   ]
  },
  {
   "cell_type": "code",
   "execution_count": 41,
   "metadata": {
    "colab": {
     "base_uri": "https://localhost:8080/",
     "height": 620
    },
    "id": "fAMnEsQnU_OT",
    "outputId": "cb542b3e-7ae1-4369-ff7d-ec7a7895bc11"
   },
   "outputs": [
    {
     "name": "stderr",
     "output_type": "stream",
     "text": [
      "/tmp/ipykernel_812981/2549359237.py:10: UserWarning: \n",
      "\n",
      "`distplot` is a deprecated function and will be removed in seaborn v0.14.0.\n",
      "\n",
      "Please adapt your code to use either `displot` (a figure-level function with\n",
      "similar flexibility) or `histplot` (an axes-level function for histograms).\n",
      "\n",
      "For a guide to updating your code to use the new functions, please see\n",
      "https://gist.github.com/mwaskom/de44147ed2974457ad6372750bbe5751\n",
      "\n",
      "  sns.distplot(x1, color='blue', ax=axes[0], axlabel='Mr')\n",
      "/tmp/ipykernel_812981/2549359237.py:11: UserWarning: \n",
      "\n",
      "`distplot` is a deprecated function and will be removed in seaborn v0.14.0.\n",
      "\n",
      "Please adapt your code to use either `displot` (a figure-level function with\n",
      "similar flexibility) or `histplot` (an axes-level function for histograms).\n",
      "\n",
      "For a guide to updating your code to use the new functions, please see\n",
      "https://gist.github.com/mwaskom/de44147ed2974457ad6372750bbe5751\n",
      "\n",
      "  sns.distplot(x2, color='deeppink', ax=axes[1], axlabel='Mrs')\n",
      "/tmp/ipykernel_812981/2549359237.py:12: UserWarning: \n",
      "\n",
      "`distplot` is a deprecated function and will be removed in seaborn v0.14.0.\n",
      "\n",
      "Please adapt your code to use either `displot` (a figure-level function with\n",
      "similar flexibility) or `histplot` (an axes-level function for histograms).\n",
      "\n",
      "For a guide to updating your code to use the new functions, please see\n",
      "https://gist.github.com/mwaskom/de44147ed2974457ad6372750bbe5751\n",
      "\n",
      "  sns.distplot(x3, color='gold', ax=axes[2], axlabel='Miss')\n",
      "/tmp/ipykernel_812981/2549359237.py:13: UserWarning: \n",
      "\n",
      "`distplot` is a deprecated function and will be removed in seaborn v0.14.0.\n",
      "\n",
      "Please adapt your code to use either `displot` (a figure-level function with\n",
      "similar flexibility) or `histplot` (an axes-level function for histograms).\n",
      "\n",
      "For a guide to updating your code to use the new functions, please see\n",
      "https://gist.github.com/mwaskom/de44147ed2974457ad6372750bbe5751\n",
      "\n",
      "  sns.distplot(x4, color='dodgerblue', ax=axes[3], axlabel='Master')\n"
     ]
    },
    {
     "data": {
      "text/plain": [
       "(0.0, 80.0)"
      ]
     },
     "execution_count": 41,
     "metadata": {},
     "output_type": "execute_result"
    },
    {
     "data": {
      "image/png": "[encoded data removed]",
      "text/plain": [
       "<Figure size 2000x500 with 4 Axes>"
      ]
     },
     "metadata": {
      "needs_background": "light"
     },
     "output_type": "display_data"
    }
   ],
   "source": [
    "import seaborn as sns\n",
    "import matplotlib.pyplot as plt\n",
    "\n",
    "x1 = data.loc[data['Name'] == 'Mr', 'Age']\n",
    "x2 = data.loc[data['Name'] == 'Mrs', 'Age']\n",
    "x3 = data.loc[data['Name'] == 'Miss', 'Age']\n",
    "x4 = data.loc[data['Name'] == 'Master', 'Age']\n",
    "\n",
    "fig, axes = plt.subplots(1,4, figsize=(20, 5), sharey=True, dpi=100)\n",
    "sns.distplot(x1, color='blue', ax=axes[0], axlabel='Mr')\n",
    "sns.distplot(x2, color='deeppink', ax=axes[1], axlabel='Mrs')\n",
    "sns.distplot(x3, color='gold', ax=axes[2], axlabel='Miss')\n",
    "sns.distplot(x4, color='dodgerblue', ax=axes[3], axlabel='Master')\n",
    "plt.xlim(0,80)"
   ]
  },
  {
   "cell_type": "markdown",
   "metadata": {
    "id": "UyqdBCeHhSEB"
   },
   "source": [
    "\n",
    "\n",
    "Попробуем свести все встречающиеся обращения к 4-ю наиболее встречающимся классам:\n",
    "* Mr - Мужчина (Mister)\n",
    "* Mrs - Замужняя женщина (Missis)\n",
    "* Miss - Незамужняя женщина, девочка (Miss)\n",
    "* Master - Ребенок мужского пола\n",
    "\n",
    "Для остальных классов напишем соответствия:\n",
    "\n",
    "* Don - Mr\n",
    "* Rev - оставляем как есть (Священник)\n",
    "* Dr - оставляем как есть (встречаются оба пола)\n",
    "* Mme - Mrs\n",
    "* Ms - Miss\n",
    "* Major - Mr\n",
    "* Lady - Mrs\n",
    "* Sir - Mr\n",
    "* Mlle - Miss\n",
    "* Col - Mr\n",
    "* Capt - Mr\n",
    "* Countess - Mrs (Графиня)\n",
    "* Jonkheer - Mr (мужчина 38 лет)\n",
    "\n",
    "Для всех измененных признаков выставляем специальный флаг `title_changed`"
   ]
  },
  {
   "cell_type": "code",
   "execution_count": 42,
   "metadata": {
    "id": "BN0FPcYrgWo1"
   },
   "outputs": [],
   "source": [
    "data['title_changed'] = 0\n",
    "data.loc[data['Name'].isin(['Don', 'Major', 'Sir', 'Col', 'Capt', 'Jonkheer']), 'title_changed'] = 1\n",
    "data.loc[data['Name'].isin(['Don', 'Major', 'Sir', 'Col', 'Capt', 'Jonkheer']), 'Name'] = 'Mr'\n",
    "data.loc[data['Name'].isin(['Mme', 'Lady', 'the Countess']), 'title_changed'] = 1\n",
    "data.loc[data['Name'].isin(['Mme', 'Lady', 'the Countess']), 'Name'] = 'Mrs'\n",
    "data.loc[data['Name'].isin(['Ms', 'Mlle']), 'title_changed'] = 1\n",
    "data.loc[data['Name'].isin(['Ms', 'Mlle']), 'Name'] = 'Miss'"
   ]
  },
  {
   "cell_type": "code",
   "execution_count": 43,
   "metadata": {
    "colab": {
     "base_uri": "https://localhost:8080/"
    },
    "id": "VupjfUWx6Nw2",
    "outputId": "6809ec21-ee2f-41b6-c917-4940059528a7"
   },
   "outputs": [
    {
     "name": "stdout",
     "output_type": "stream",
     "text": [
      "+--------+-------+------+------+--------------------+--------+\n",
      "| Title  | Count | Min  | Max  |        Mean        | Median |\n",
      "+--------+-------+------+------+--------------------+--------+\n",
      "|   Mr   |  406  | 11.0 | 80.0 | 32.74014778325123  |  30.0  |\n",
      "|  Mrs   |  111  | 14.0 | 63.0 | 35.873873873873876 |  35.0  |\n",
      "|  Miss  |  149  | 0.75 | 63.0 | 21.845637583892618 |  21.0  |\n",
      "| Master |   36  | 0.42 | 12.0 | 4.574166666666667  |  3.5   |\n",
      "|  Rev   |   6   | 27.0 | 57.0 | 43.166666666666664 |  46.5  |\n",
      "|   Dr   |   6   | 23.0 | 54.0 |        42.0        |  46.5  |\n",
      "+--------+-------+------+------+--------------------+--------+\n"
     ]
    }
   ],
   "source": [
    "from prettytable import PrettyTable\n",
    "t = PrettyTable([\"Title\", 'Count', 'Min', 'Max', 'Mean', 'Median'])\n",
    "for title in data['Name'].unique():\n",
    "    ages = data[data['Name'] == title]['Age']\n",
    "    t.add_row([title, ages.count(), ages.min(), ages.max(), ages.mean(), ages.median()])\n",
    "print(t)"
   ]
  },
  {
   "cell_type": "markdown",
   "metadata": {
    "id": "vsQHy5qD6uwk"
   },
   "source": [
    "Заполним пропуски по возрасту медианным значением добавив колонку с признаком, что данные вычислены `age_changed`"
   ]
  },
  {
   "cell_type": "code",
   "execution_count": 44,
   "metadata": {
    "id": "lLC3IhkT62he"
   },
   "outputs": [],
   "source": [
    "data['age_changed'] = 0\n",
    "for title in data['Name'].unique():\n",
    "    data.loc[(data['Name'] == title) & data['Age'].isnull(), 'age_changed'] = 1\n",
    "    data.loc[(data['Name'] == title) & data['Age'].isnull(), 'Age'] = data[data['Name'] == title]['Age'].median()"
   ]
  },
  {
   "cell_type": "markdown",
   "metadata": {
    "id": "7H1VNq9j9yDK"
   },
   "source": [
    "У нас остались пропуски в колонке `Embarked`"
   ]
  },
  {
   "cell_type": "code",
   "execution_count": 45,
   "metadata": {
    "colab": {
     "base_uri": "https://localhost:8080/"
    },
    "id": "_Y1D1ApH7-wC",
    "outputId": "afd75236-ef7a-4134-f50b-44a4975a7ee9"
   },
   "outputs": [
    {
     "data": {
      "text/plain": [
       "S      644\n",
       "C      168\n",
       "Q       77\n",
       "NaN      2\n",
       "Name: Embarked, dtype: int64"
      ]
     },
     "execution_count": 45,
     "metadata": {},
     "output_type": "execute_result"
    }
   ],
   "source": [
    "data['Embarked'].value_counts(dropna=False)"
   ]
  },
  {
   "cell_type": "markdown",
   "metadata": {
    "id": "rXjOKoKb93s2"
   },
   "source": [
    "Заполним их модальным значением, на всякий случай добавив колонку признака `embarked_changed`"
   ]
  },
  {
   "cell_type": "code",
   "execution_count": 46,
   "metadata": {
    "id": "zFaegv9793Ay"
   },
   "outputs": [],
   "source": [
    "data['embarked_changed'] = 0\n",
    "data.loc[data['Embarked'].isnull(), 'embarked_changed'] = 1\n",
    "data.loc[data['Embarked'].isnull(), 'Embarked'] = 'S'"
   ]
  },
  {
   "cell_type": "code",
   "execution_count": 47,
   "metadata": {
    "colab": {
     "base_uri": "https://localhost:8080/"
    },
    "id": "Fkj4c5lB8Tdo",
    "outputId": "29690aeb-831c-40a4-aa67-a9abb89f7e82"
   },
   "outputs": [
    {
     "name": "stdout",
     "output_type": "stream",
     "text": [
      "<class 'pandas.core.frame.DataFrame'>\n",
      "RangeIndex: 891 entries, 0 to 890\n",
      "Data columns (total 12 columns):\n",
      " #   Column            Non-Null Count  Dtype  \n",
      "---  ------            --------------  -----  \n",
      " 0   Survived          891 non-null    int64  \n",
      " 1   Pclass            891 non-null    int64  \n",
      " 2   Name              891 non-null    object \n",
      " 3   Sex               891 non-null    object \n",
      " 4   Age               891 non-null    float64\n",
      " 5   SibSp             891 non-null    int64  \n",
      " 6   Parch             891 non-null    int64  \n",
      " 7   Fare              891 non-null    float64\n",
      " 8   Embarked          891 non-null    object \n",
      " 9   title_changed     891 non-null    int64  \n",
      " 10  age_changed       891 non-null    int64  \n",
      " 11  embarked_changed  891 non-null    int64  \n",
      "dtypes: float64(2), int64(7), object(3)\n",
      "memory usage: 83.7+ KB\n"
     ]
    }
   ],
   "source": [
    "data.info()"
   ]
  },
  {
   "cell_type": "markdown",
   "metadata": {
    "id": "Ze-WUmQ9c5Ma"
   },
   "source": [
    "Преобразуем категориальные признаки с помощью one-hot encoder. Причем колонку `Pclass` преобразуем таким же образом, т.к. это тоже категориальный признак.\n"
   ]
  },
  {
   "cell_type": "code",
   "execution_count": 48,
   "metadata": {
    "colab": {
     "base_uri": "https://localhost:8080/"
    },
    "id": "hfHjUNCH-9iG",
    "outputId": "a395d3d6-fe13-4ba8-f7f1-a9c07d8062f6"
   },
   "outputs": [
    {
     "data": {
      "text/plain": [
       "Index(['Survived', 'Age', 'SibSp', 'Parch', 'Fare', 'title_changed',\n",
       "       'age_changed', 'embarked_changed', 'Pclass_1', 'Pclass_2', 'Pclass_3',\n",
       "       'Name_Dr', 'Name_Master', 'Name_Miss', 'Name_Mr', 'Name_Mrs',\n",
       "       'Name_Rev', 'Sex_female', 'Sex_male', 'Embarked_C', 'Embarked_Q',\n",
       "       'Embarked_S'],\n",
       "      dtype='object')"
      ]
     },
     "execution_count": 48,
     "metadata": {},
     "output_type": "execute_result"
    }
   ],
   "source": [
    "data_transformed = pd.get_dummies(data, columns=['Pclass','Name', 'Sex', 'Embarked'])\n",
    "data_transformed.columns"
   ]
  },
  {
   "cell_type": "markdown",
   "metadata": {
    "id": "QuonLM3Kd7LK"
   },
   "source": [
    "Посмотрим корреляцию возраста, пола, и вероятности выжить"
   ]
  },
  {
   "cell_type": "code",
   "execution_count": 49,
   "metadata": {
    "colab": {
     "base_uri": "https://localhost:8080/",
     "height": 672
    },
    "id": "qO_s4Ti_dnDY",
    "outputId": "6a4a2fb2-f90c-488c-a31d-e73d11d1ab87"
   },
   "outputs": [
    {
     "name": "stderr",
     "output_type": "stream",
     "text": [
      "/tmp/ipykernel_812981/4027654453.py:4: DeprecationWarning: `np.bool` is a deprecated alias for the builtin `bool`. To silence this warning, use `bool` by itself. Doing this will not modify any behavior and is safe. If you specifically wanted the numpy scalar type, use `np.bool_` here.\n",
      "Deprecated in NumPy 1.20; for more details and guidance: https://numpy.org/devdocs/release/1.20.0-notes.html#deprecations\n",
      "  sns.heatmap(corr, mask=np.zeros_like(corr, dtype=np.bool),\n"
     ]
    },
    {
     "data": {
      "text/plain": [
       "<AxesSubplot:>"
      ]
     },
     "execution_count": 49,
     "metadata": {},
     "output_type": "execute_result"
    },
    {
     "data": {
      "image/png": "[encoded data removed]",
      "text/plain": [
       "<Figure size 720x720 with 2 Axes>"
      ]
     },
     "metadata": {
      "needs_background": "light"
     },
     "output_type": "display_data"
    }
   ],
   "source": [
    "import numpy as np\n",
    "f, ax = plt.subplots(figsize=(10,10))\n",
    "corr = data_transformed[['Age', 'Sex_female', 'Survived']].corr()\n",
    "sns.heatmap(corr, mask=np.zeros_like(corr, dtype=np.bool),\n",
    "            cmap=sns.diverging_palette(220, 10, as_cmap=True),\n",
    "            square=True, ax=ax)"
   ]
  },
  {
   "cell_type": "markdown",
   "metadata": {
    "id": "-zAapBUwglcY"
   },
   "source": [
    "Видно, что чем старше человек, тем меньше вероятности выжить, у женщин вероятность выжить чуть выше\n",
    "\n",
    "### Улучшенная модель"
   ]
  },
  {
   "cell_type": "code",
   "execution_count": 50,
   "metadata": {
    "id": "GjI5nMlaebBU"
   },
   "outputs": [],
   "source": [
    "y = data_transformed['Survived']\n",
    "X = data_transformed.drop(['Survived'], axis=1)"
   ]
  },
  {
   "cell_type": "markdown",
   "metadata": {
    "id": "DrTvXHy9hpon"
   },
   "source": [
    "Посмотрим на перекос класса"
   ]
  },
  {
   "cell_type": "code",
   "execution_count": 51,
   "metadata": {
    "colab": {
     "base_uri": "https://localhost:8080/"
    },
    "id": "gMrkNURHf8ED",
    "outputId": "79b42d20-46bf-421e-b961-d66d151ae819"
   },
   "outputs": [
    {
     "data": {
      "text/plain": [
       "1.605263157894737"
      ]
     },
     "execution_count": 51,
     "metadata": {},
     "output_type": "execute_result"
    }
   ],
   "source": [
    "y.value_counts()[0]/y.value_counts()[1]"
   ]
  },
  {
   "cell_type": "markdown",
   "metadata": {
    "id": "d9b2alSGiBrO"
   },
   "source": [
    "Видим некоторый перекос\n",
    "Для разбиения обучающей и проверочной выборок используем стратификацию"
   ]
  },
  {
   "cell_type": "code",
   "execution_count": 52,
   "metadata": {
    "id": "1Ur8epqbhyxO"
   },
   "outputs": [],
   "source": [
    "\n",
    "X_train, X_test, y_train, y_test = train_test_split(X, y, train_size=0.8, random_state=0, stratify=y)"
   ]
  },
  {
   "cell_type": "code",
   "execution_count": 53,
   "metadata": {
    "id": "4cn8avSRiy_W"
   },
   "outputs": [],
   "source": [
    "model = make_pipeline(StandardScaler(), LogisticRegression())"
   ]
  },
  {
   "cell_type": "code",
   "execution_count": 54,
   "metadata": {
    "colab": {
     "base_uri": "https://localhost:8080/"
    },
    "id": "7ut22nX1i6gX",
    "outputId": "d6d40d7f-bc1b-4acd-cbf2-f64299da77bb"
   },
   "outputs": [
    {
     "data": {
      "text/plain": [
       "Pipeline(steps=[('standardscaler', StandardScaler()),\n",
       "                ('logisticregression', LogisticRegression())])"
      ]
     },
     "execution_count": 54,
     "metadata": {},
     "output_type": "execute_result"
    }
   ],
   "source": [
    "model.fit(X_train, y_train)"
   ]
  },
  {
   "cell_type": "markdown",
   "metadata": {
    "id": "KSlGUGggjkS0"
   },
   "source": [
    "Получим метрики качества аналогично \"наивной модели\""
   ]
  },
  {
   "cell_type": "code",
   "execution_count": 55,
   "metadata": {
    "id": "wAYWEmB7i9-y"
   },
   "outputs": [],
   "source": [
    "predict_proba = model.predict_proba(X_train)"
   ]
  },
  {
   "cell_type": "code",
   "execution_count": 56,
   "metadata": {
    "colab": {
     "base_uri": "https://localhost:8080/"
    },
    "id": "0SPgBwt0jFJ6",
    "outputId": "1251b450-0acd-4714-ed22-e0d152f9b736"
   },
   "outputs": [
    {
     "data": {
      "text/plain": [
       "0.8858210885545739"
      ]
     },
     "execution_count": 56,
     "metadata": {},
     "output_type": "execute_result"
    }
   ],
   "source": [
    "roc_auc_score(y_train, predict_proba[:, 1])"
   ]
  },
  {
   "cell_type": "code",
   "execution_count": 57,
   "metadata": {
    "id": "2-UGfoEIjJM4"
   },
   "outputs": [],
   "source": [
    "predictions = model.predict(X_train)"
   ]
  },
  {
   "cell_type": "code",
   "execution_count": 58,
   "metadata": {
    "colab": {
     "base_uri": "https://localhost:8080/"
    },
    "id": "ijKslzyXjPh_",
    "outputId": "876e3fa2-f8d8-435c-eebd-34fc6a679849"
   },
   "outputs": [
    {
     "data": {
      "text/plain": [
       "0.783427495291902"
      ]
     },
     "execution_count": 58,
     "metadata": {},
     "output_type": "execute_result"
    }
   ],
   "source": [
    "f1_score(y_train, predictions)"
   ]
  },
  {
   "cell_type": "code",
   "execution_count": 59,
   "metadata": {
    "id": "Y9kda7ncjSRs"
   },
   "outputs": [],
   "source": [
    "predict_proba = model.predict_proba(X_test)"
   ]
  },
  {
   "cell_type": "code",
   "execution_count": 60,
   "metadata": {
    "colab": {
     "base_uri": "https://localhost:8080/"
    },
    "id": "G1tS0NpsjVSE",
    "outputId": "93a64ca7-1624-4aca-b4be-954195b65383"
   },
   "outputs": [
    {
     "data": {
      "text/plain": [
       "0.8554018445322794"
      ]
     },
     "execution_count": 60,
     "metadata": {},
     "output_type": "execute_result"
    }
   ],
   "source": [
    "roc_auc_score(y_test, predict_proba[:, 1])"
   ]
  },
  {
   "cell_type": "code",
   "execution_count": 61,
   "metadata": {
    "id": "g4BqJ2SRjZs9"
   },
   "outputs": [],
   "source": [
    "predictions = model.predict(X_test)"
   ]
  },
  {
   "cell_type": "code",
   "execution_count": 62,
   "metadata": {
    "colab": {
     "base_uri": "https://localhost:8080/"
    },
    "id": "H3WF41V1jcYI",
    "outputId": "52a73e81-f205-4f73-e083-6f19671c8b83"
   },
   "outputs": [
    {
     "data": {
      "text/plain": [
       "0.7286821705426356"
      ]
     },
     "execution_count": 62,
     "metadata": {},
     "output_type": "execute_result"
    }
   ],
   "source": [
    "f1_score(y_test, predictions)"
   ]
  },
  {
   "cell_type": "markdown",
   "metadata": {},
   "source": [
    "Добавим новый признак типа polynomial feature, основанный на возрасте, количестве детей и родителей"
   ]
  },
  {
   "cell_type": "code",
   "execution_count": 64,
   "metadata": {},
   "outputs": [],
   "source": [
    "from sklearn.preprocessing import PolynomialFeatures"
   ]
  },
  {
   "cell_type": "code",
   "execution_count": 110,
   "metadata": {},
   "outputs": [],
   "source": [
    "transformer = PolynomialFeatures(degree=2)\n",
    "poly_feature = transformer.fit_transform(data_transformed[['Age', 'SibSp', 'Parch']])"
   ]
  },
  {
   "cell_type": "code",
   "execution_count": 111,
   "metadata": {},
   "outputs": [
    {
     "data": {
      "text/plain": [
       "10"
      ]
     },
     "execution_count": 111,
     "metadata": {},
     "output_type": "execute_result"
    }
   ],
   "source": [
    "len(poly_feature[0])"
   ]
  },
  {
   "cell_type": "code",
   "execution_count": 112,
   "metadata": {},
   "outputs": [],
   "source": [
    "data_transformed[['f1','f2', 'f3', 'f4', 'f5', 'f6', 'f7', 'f8', 'f9', 'f10']] = poly_feature"
   ]
  },
  {
   "cell_type": "code",
   "execution_count": 113,
   "metadata": {},
   "outputs": [],
   "source": [
    "y = data_transformed['Survived']\n",
    "X = data_transformed.drop(['Survived'], axis=1)"
   ]
  },
  {
   "cell_type": "code",
   "execution_count": 114,
   "metadata": {},
   "outputs": [
    {
     "data": {
      "text/plain": [
       "0.8907023121146129"
      ]
     },
     "execution_count": 114,
     "metadata": {},
     "output_type": "execute_result"
    }
   ],
   "source": [
    "model = make_pipeline(StandardScaler(), LogisticRegression())\n",
    "X_train, X_test, y_train, y_test = train_test_split(X, y, train_size=0.8, random_state=0, stratify=y)\n",
    "model.fit(X_train, y_train)\n",
    "predict_proba = model.predict_proba(X_train)\n",
    "roc_auc_score(y_train, predict_proba[:, 1])"
   ]
  },
  {
   "cell_type": "code",
   "execution_count": 115,
   "metadata": {},
   "outputs": [
    {
     "data": {
      "text/plain": [
       "0.7909604519774011"
      ]
     },
     "execution_count": 115,
     "metadata": {},
     "output_type": "execute_result"
    }
   ],
   "source": [
    "predictions = model.predict(X_train)\n",
    "f1_score(y_train, predictions)"
   ]
  },
  {
   "cell_type": "code",
   "execution_count": 116,
   "metadata": {},
   "outputs": [
    {
     "data": {
      "text/plain": [
       "0.8436758893280633"
      ]
     },
     "execution_count": 116,
     "metadata": {},
     "output_type": "execute_result"
    }
   ],
   "source": [
    "predict_proba = model.predict_proba(X_test)\n",
    "roc_auc_score(y_test, predict_proba[:, 1])"
   ]
  },
  {
   "cell_type": "code",
   "execution_count": 117,
   "metadata": {},
   "outputs": [
    {
     "data": {
      "text/plain": [
       "0.7301587301587301"
      ]
     },
     "execution_count": 117,
     "metadata": {},
     "output_type": "execute_result"
    }
   ],
   "source": [
    "predictions = model.predict(X_test)\n",
    "f1_score(y_test, predictions)"
   ]
  },
  {
   "cell_type": "markdown",
   "metadata": {
    "id": "ySpbsXLRjrgi"
   },
   "source": [
    "### Выводы\n",
    "Оценки качества:\n",
    "\n",
    "| model         | train ROC_AUC      | test ROC_AUC       | train F1           | test F1            |\n",
    "|---------------|--------------------|--------------------|--------------------|--------------------|\n",
    "| \"Наивная\" LR  | 0.7643300615709612 | 0.7309076369452219 | 0.5935162094763091 | 0.5599999999999999 |\n",
    "| Улучшенная LR | 0.8858210885545739 | 0.8554018445322794 | 0.783427495291902  | 0.7286821705426356 |\n",
    "\n",
    "После предобработки данных заметно существенное улучшение качества модели\n",
    "Добавление фичей на основе возраста и количества детей\\родителей не сильно улучшило качество модели\n",
    "\n",
    "Сделанные преобразования:\n",
    "- проверка цены билета на выбросы\n",
    "- замена пропусков в возрасте медианным значением в зависимости от статуса пассажира при этом добавлена колонка признака, что данные вычислены\n",
    "- замена порта посадки модальным значением, при этом добавлена колонка признака, что данные вычислены\n",
    "- замена категориальных признаков с помощью one-hot encoder\n",
    "\n"
   ]
  },
  {
   "cell_type": "code",
   "execution_count": null,
   "metadata": {},
   "outputs": [],
   "source": []
  }
 ],
 "metadata": {
  "colab": {
   "collapsed_sections": [],
   "provenance": []
  },
  "kernelspec": {
   "display_name": "Python 3",
   "language": "python",
   "name": "python3"
  },
  "language_info": {
   "codemirror_mode": {
    "name": "ipython",
    "version": 3
   },
   "file_extension": ".py",
   "mimetype": "text/x-python",
   "name": "python",
   "nbconvert_exporter": "python",
   "pygments_lexer": "ipython3",
   "version": "3.10.7"
  }
 },
 "nbformat": 4,
 "nbformat_minor": 1
}
